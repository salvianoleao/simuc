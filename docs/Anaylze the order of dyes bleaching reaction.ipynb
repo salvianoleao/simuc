{
 "cells": [
  {
   "cell_type": "markdown",
   "metadata": {},
   "source": [
    "<center> <h1> Anaylze the order of dyes bleaching reaction</h1> </center>"
   ]
  },
  {
   "cell_type": "markdown",
   "metadata": {},
   "source": [
    "### Overview\n",
    "1. [Introduction](#1.-Introduction)\n",
    "2. [Minimal Background for Python](#2.-Minimal-Background-for-Python)\n",
    "3. [Data Analysis](#3.-Data-Analysis)\n",
    "\n",
    "---"
   ]
  },
  {
   "cell_type": "markdown",
   "metadata": {},
   "source": [
    "## 1. Introduction\n",
    "\n",
    "In order to determine the rate law for a reaction from a set of data consisting of concentration (or the values of some function of concentration) versus time, make three graphs.\n",
    "\n",
    "- [A] versus t (linear for a zero order reaction)\n",
    "- ln [A] versus t (linear for a 1st order reaction)\n",
    "- 1 / [A] versus t (linear for a 2nd order reaction)\n",
    "\n",
    "The graph that is linear indicates the order of the reaction with respect to A. Then, you can choose the correct rate equation:\n",
    "\n",
    "For zero-order reactions: $[A]_t = −kt + [A]_0$\n",
    "\n",
    "For first-order reactions: $ln[A]_t = −kt + ln[A]_0$\n",
    "\n",
    "For second-order reactions: $1/[A]_t = kt + 1/[A]_0$"
   ]
  },
  {
   "cell_type": "markdown",
   "metadata": {
    "ExecuteTime": {
     "end_time": "2019-10-29T18:26:48.712813Z",
     "start_time": "2019-10-29T18:26:48.705599Z"
    }
   },
   "source": [
    "---\n",
    "\n",
    "## 2. [Minimal Background for Python](https://yyrcd-1256568788.cos.na-siliconvalley.myqcloud.com/yyrcd/2019-10-18-Minimal%20Background%20for%20Python-1.html)\n",
    "\n",
    "1. Basic data types\n",
    "2. Containers\n",
    "3. Control Flow\n",
    "4. Functions\n",
    "5. Numpy\n",
    "6. Matplotlib\n",
    "7. Scipy\n"
   ]
  },
  {
   "cell_type": "markdown",
   "metadata": {},
   "source": [
    "---\n",
    "\n",
    "## 3. Data Analysis"
   ]
  },
  {
   "cell_type": "markdown",
   "metadata": {},
   "source": [
    "Your csv should looks like the figure below.   \n",
    "At least `Latest: Time (min)` column and `Latest: Absorbance at ***.* nm` column must exsit, which contain your experimental data.\n",
    "\n",
    "\n",
    "![](https://yyrcd-1256568788.cos.na-siliconvalley.myqcloud.com/yyrcd/2019-10-29-163858.png)"
   ]
  },
  {
   "cell_type": "code",
   "execution_count": null,
   "metadata": {
    "ExecuteTime": {
     "end_time": "2019-10-29T19:14:31.979111Z",
     "start_time": "2019-10-29T19:14:29.170995Z"
    }
   },
   "outputs": [],
   "source": [
    "import pandas as pd\n",
    "import numpy as np\n",
    "import io\n",
    "from scipy.optimize import minimize    # fitting tool\n",
    "from matplotlib import pyplot as plt   # plotting\n",
    "%matplotlib inline"
   ]
  },
  {
   "cell_type": "code",
   "execution_count": null,
   "metadata": {
    "ExecuteTime": {
     "end_time": "2019-10-29T19:14:31.991824Z",
     "start_time": "2019-10-29T19:14:31.981673Z"
    }
   },
   "outputs": [],
   "source": [
    "def upload():\n",
    "    from google.colab import files\n",
    "    uploaded = files.upload()\n",
    "    csvfile = io.BytesIO(uploaded[list(uploaded.keys())[0]])\n",
    "    return csvfile"
   ]
  },
  {
   "cell_type": "code",
   "execution_count": null,
   "metadata": {
    "ExecuteTime": {
     "end_time": "2019-10-29T19:14:31.997951Z",
     "start_time": "2019-10-29T19:14:31.994476Z"
    }
   },
   "outputs": [],
   "source": [
    "file = upload()"
   ]
  },
  {
   "cell_type": "code",
   "execution_count": null,
   "metadata": {
    "ExecuteTime": {
     "end_time": "2019-10-29T19:14:32.011554Z",
     "start_time": "2019-10-29T19:14:32.002734Z"
    }
   },
   "outputs": [],
   "source": [
    "def extract_data(file):\n",
    "    \"\"\"\n",
    "    Extract times and concentrations data from one csv file\n",
    "\n",
    "    Parameters\n",
    "    -------\n",
    "    file : location of the txt file\n",
    "    for example:\n",
    "    1. uploaded csv file on google.colab\n",
    "    2. path of csv on your own pc '\\home\\richard\\chm2045L\\enzyme.csv'\n",
    "    3. an url to the csv file\n",
    "\n",
    "    Returns\n",
    "    -------\n",
    "    times : array (sec)\n",
    "    concentrations : array (mol/L)\n",
    "    \"\"\"\n",
    "    data = pd.read_csv(file)\n",
    "    headers = list(data.columns)\n",
    "\n",
    "    for i, d in enumerate(headers):\n",
    "        if 'Latest: Time' in d:\n",
    "            pass\n",
    "            times = data[headers[i]].values\n",
    "        if 'Latest: Absorbance' in d:\n",
    "            pass\n",
    "            absorbances = data[headers[i]].values\n",
    "    try:\n",
    "        times\n",
    "    except NameError:\n",
    "        print(\"Error: There must one colum which name contain \\\"Latest: Time\\\"\")\n",
    "\n",
    "    try:\n",
    "        absorbances\n",
    "    except NameError:\n",
    "        print(\"Error: There must one colum which name contain \\\"Latest: Absorbance\\\"\")\n",
    "\n",
    "    times = times[np.logical_not(np.isnan(times))]  # remove Nan from the array if Nan exist\n",
    "    times = times * 60  # convert to secends\n",
    "    absorbances = absorbances[np.logical_not(np.isnan(absorbances))]  # remove Nan from the array if Nan exist\n",
    "    concentrations = absorbances / 79600\n",
    "\n",
    "    return times, concentrations"
   ]
  },
  {
   "cell_type": "code",
   "execution_count": null,
   "metadata": {
    "ExecuteTime": {
     "end_time": "2019-10-29T19:14:32.027257Z",
     "start_time": "2019-10-29T19:14:32.014813Z"
    }
   },
   "outputs": [],
   "source": [
    "def fit_and_plot(times, y_true, label):\n",
    "\n",
    "    def linear(x, a, b):\n",
    "        y = a * x + b\n",
    "        return y\n",
    "\n",
    "    def loss(para):\n",
    "        pred = linear(times, para[0], para[1])\n",
    "        mse = np.mean((y_true - pred)**2)  # mean_squared_error\n",
    "        mse = mse * 1e8\n",
    "        return mse\n",
    "\n",
    "    def r_square(para):\n",
    "        pred = linear(times, para[0], para[1])\n",
    "        res = np.sum((y_true - pred)**2)  # residual\n",
    "        total = np.sum((y_true - np.mean(y_true))**2)\n",
    "        return 1 - res/total\n",
    "        \n",
    "    result = minimize(loss, x0=np.array([1.0, 1.0]), method='Nelder-Mead')\n",
    "    a = result.x[0]\n",
    "    b = result.x[1]\n",
    "    \n",
    "    plt.figure(figsize=(16, 4))\n",
    "    plt.plot(times, y_true, 'o-', markersize=1, label=label)\n",
    "    r2 = r_square([a, b])\n",
    "    plt.plot(times, linear(times, a, b), 'o-', markersize=1, label='y = {:.3e}x + {:.3e}   $\\;\\;\\;R^2$ = {:.4f}'.format(a, b, r2))\n",
    "    plt.xlabel('Time (sec)')\n",
    "    plt.ylabel(label)\n",
    "    plt.title('{} over Time'.format(label),  fontsize=18)\n",
    "    plt.legend()\n",
    "    plt.show()"
   ]
  },
  {
   "cell_type": "code",
   "execution_count": null,
   "metadata": {
    "ExecuteTime": {
     "end_time": "2019-10-29T19:14:34.265676Z",
     "start_time": "2019-10-29T19:14:32.030361Z"
    }
   },
   "outputs": [],
   "source": [
    "times, concentrations = extract_data(file)"
   ]
  },
  {
   "cell_type": "code",
   "execution_count": null,
   "metadata": {
    "ExecuteTime": {
     "end_time": "2019-10-29T19:14:34.825023Z",
     "start_time": "2019-10-29T19:14:34.267861Z"
    }
   },
   "outputs": [],
   "source": [
    "fit_and_plot(times, y_true=concentrations, label='[dyes]')"
   ]
  },
  {
   "cell_type": "code",
   "execution_count": null,
   "metadata": {
    "ExecuteTime": {
     "end_time": "2019-10-29T19:14:35.043314Z",
     "start_time": "2019-10-29T19:14:34.846427Z"
    }
   },
   "outputs": [],
   "source": [
    "fit_and_plot(times, y_true=np.log(concentrations), label='Ln [dyes]')"
   ]
  },
  {
   "cell_type": "code",
   "execution_count": null,
   "metadata": {
    "ExecuteTime": {
     "end_time": "2019-10-29T19:14:35.230582Z",
     "start_time": "2019-10-29T19:14:35.046331Z"
    }
   },
   "outputs": [],
   "source": [
    "fit_and_plot(times, y_true=1 / concentrations, label='1 / [dyes]')"
   ]
  },
  {
   "cell_type": "code",
   "execution_count": null,
   "metadata": {},
   "outputs": [],
   "source": []
  }
 ],
 "metadata": {
  "kernelspec": {
   "display_name": "Python 3",
   "language": "python",
   "name": "python3"
  },
  "language_info": {
   "codemirror_mode": {
    "name": "ipython",
    "version": 3
   },
   "file_extension": ".py",
   "mimetype": "text/x-python",
   "name": "python",
   "nbconvert_exporter": "python",
   "pygments_lexer": "ipython3",
   "version": "3.7.4"
  }
 },
 "nbformat": 4,
 "nbformat_minor": 2
}
