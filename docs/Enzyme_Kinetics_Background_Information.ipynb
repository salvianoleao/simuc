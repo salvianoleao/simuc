{
 "cells": [
  {
   "cell_type": "markdown",
   "metadata": {},
   "source": [
    "<h2><center>Simulation of Enzyme Kinetics - Background Information</center></h2>\n",
    "<center> <a target='_blank' href='http://simuc.chem.ufl.edu/enzyme_kinetics'>simuc.chem.ufl.edu/enzyme_kinetics</a></center>"
   ]
  },
  {
   "cell_type": "markdown",
   "metadata": {},
   "source": [
    "--- \n",
    "$$\n",
    "\\large\n",
    "\\mathrm{E}+\\mathrm{S} \\stackrel{K_{\\mathrm{s}}}{\\rightleftharpoons} \\mathrm{ES} \\stackrel{k_{cat}}{\\longrightarrow} \\mathrm{E}+\\mathrm{P}\n",
    "$$\n",
    "![](https://yyrcd-1256568788.cos.na-siliconvalley.myqcloud.com/yyrcd/2019-09-18-Induced_fit_diagram.svg)\n",
    "<center>From <a href=\"https://en.wikibooks.org/wiki/Principles_of_Biochemistry/Enzymes#/media/File:Induced_fit_diagram.svg\">Wikipedia</a></center>\n",
    "\n",
    "---"
   ]
  },
  {
   "cell_type": "markdown",
   "metadata": {},
   "source": [
    "### 1. Without Inhibition:"
   ]
  },
  {
   "cell_type": "markdown",
   "metadata": {},
   "source": [
    "$$\n",
    "\\large\n",
    "E + S \\underset{k_{-1}}{\\overset{k_1}{\\rightleftharpoons}} ES \\stackrel{k_{cat}}{\\longrightarrow} \\mathrm{E}+\\mathrm{P}\n",
    "$$"
   ]
  },
  {
   "cell_type": "markdown",
   "metadata": {},
   "source": [
    "$$\n",
    "\\large\n",
    "K_{m} \\stackrel{\\text { def }}{=} \\frac{k_{cat}+k_{-1}}{k_{1}}\n",
    "$$"
   ]
  },
  {
   "cell_type": "markdown",
   "metadata": {},
   "source": [
    "$$\n",
    "\\large\n",
    "V_{m} \\stackrel{\\text { def }}{=} k_{\\text {cat }}[\\mathrm{E}]_{\\text {tot}}\n",
    "$$"
   ]
  },
  {
   "cell_type": "markdown",
   "metadata": {},
   "source": [
    "  Michaelis-Menten equation"
   ]
  },
  {
   "cell_type": "markdown",
   "metadata": {},
   "source": [
    "$$\n",
    "\\large\n",
    "v_{0}=\\frac{V_{m}[\\mathrm{S}]}{K_{m}+[\\mathrm{S}]}\n",
    "$$"
   ]
  },
  {
   "cell_type": "markdown",
   "metadata": {},
   "source": [
    "$$\n",
    "\\large\n",
    "\\frac{1}{v_{0}}=\\frac{1}{V_{m}} + \\frac{K_{m}}{V_{m}[\\mathrm{S}]}\n",
    "$$"
   ]
  },
  {
   "cell_type": "markdown",
   "metadata": {},
   "source": [
    "---\n",
    "\n",
    "### 2. Inhibition:\n",
    "\n",
    "The following behavior should be observed when increase [I] at different inhibition mechanism. (Try to play in the simulation page)\n",
    "![](https://yyrcd-1256568788.cos.na-siliconvalley.myqcloud.com/yyrcd/2019-09-18-182102.jpg)\n",
    "<center>From <a href=\"https://en.wikipedia.org/wiki/File:Enzyme_Inhibition_lineweaver-burk_plots.gif\">Wikipedia</a></center>\n",
    "\n",
    "---"
   ]
  },
  {
   "cell_type": "markdown",
   "metadata": {},
   "source": [
    "#### (a) Competitive Inhibition\n",
    "\n",
    "![](https://yyrcd-1256568788.cos.na-siliconvalley.myqcloud.com/yyrcd/2019-09-18-Screen%20Shot%202019-09-18%20at%201.01.50%20PM.png)"
   ]
  },
  {
   "cell_type": "markdown",
   "metadata": {},
   "source": [
    "$$\n",
    "\\large\n",
    "\\frac{1}{v_{0}}=\\frac{1}{V_{\\mathrm{m}}}+\\frac{K_{\\mathrm{m}}}{V_{\\mathrm{m}}}\\left[1+\\frac{[\\mathrm{I}]}{K_{\\mathrm{i}}}\\right] \\times \\frac{1}{[\\mathrm{S}]}\n",
    "$$"
   ]
  },
  {
   "cell_type": "markdown",
   "metadata": {},
   "source": [
    "$$\n",
    "\\large\n",
    "K_{m}^{'}=K_m\\left[1+\\frac{[\\mathrm{I}]}{K_{\\mathrm{i}}}\\right]\n",
    "$$"
   ]
  },
  {
   "cell_type": "markdown",
   "metadata": {},
   "source": [
    "$$\n",
    "\\large\n",
    "\\frac{1}{v_{0}}=\\frac{1}{V_{m}} + \\frac{K_{m}^{'}}{V_{m}[\\mathrm{S}]}\n",
    "$$"
   ]
  },
  {
   "cell_type": "markdown",
   "metadata": {},
   "source": [
    "#### (b) Uncompetitive Inhibition\n",
    "\n",
    "![](https://yyrcd-1256568788.cos.na-siliconvalley.myqcloud.com/yyrcd/2019-09-18-Screen%20Shot%202019-09-18%20at%201.02.21%20PM.png)"
   ]
  },
  {
   "cell_type": "markdown",
   "metadata": {},
   "source": [
    "$$\n",
    "\\large\n",
    "\\frac{1}{v_0}=\\frac{1}{V_{\\mathrm{m}}}\\left[1+\\frac{[\\mathrm{I}]}{K_{\\mathrm{ii}}}\\right]+\\frac{K_{\\mathrm{m}}}{V_{\\mathrm{m}}} \\times \\frac{1}{[\\mathrm{S}]}\n",
    "$$"
   ]
  },
  {
   "cell_type": "markdown",
   "metadata": {},
   "source": [
    "$$\n",
    "\\large\n",
    "V_{m}^{'}=V_m\\left[1+\\frac{[\\mathrm{I}]}{K_{\\mathrm{ii}}}\\right]^{-1}\n",
    "$$"
   ]
  },
  {
   "cell_type": "markdown",
   "metadata": {},
   "source": [
    "$$\n",
    "\\large\n",
    "K_{m}^{'}=K_m\\left[1+\\frac{[\\mathrm{I}]}{K_{\\mathrm{ii}}}\\right]^{-1}\n",
    "$$"
   ]
  },
  {
   "cell_type": "markdown",
   "metadata": {},
   "source": [
    "$$\n",
    "\\large\n",
    "\\frac{1}{v_{0}}=\\frac{1}{V_{m}^{'}} + \\frac{K_{m}^{'}}{V_{m}^{'}[\\mathrm{S}]}\n",
    "$$"
   ]
  },
  {
   "cell_type": "markdown",
   "metadata": {},
   "source": [
    "#### (c) Non-competitive Inhibition\n",
    "\n",
    "![](https://yyrcd-1256568788.cos.na-siliconvalley.myqcloud.com/yyrcd/2019-09-18-Screen%20Shot%202019-09-18%20at%201.02.33%20PM.png)\n"
   ]
  },
  {
   "cell_type": "markdown",
   "metadata": {},
   "source": [
    "$$\n",
    "\\large\n",
    "\\frac{1}{v_{0}}=\\frac{1}{V_{\\mathrm{m}}}\\left[1+\\frac{[\\mathrm{I}]}{K_{\\mathrm{ii}}}\\right]+\\frac{K_{\\mathrm{m}}}{V_{\\mathrm{m}}}\\left[1+\\frac{[\\mathrm{I}]}{K_{\\mathrm{i}}}\\right] \\times \\frac{1}{[\\mathrm{S}]}\n",
    "$$"
   ]
  },
  {
   "cell_type": "markdown",
   "metadata": {},
   "source": [
    "$$\n",
    "\\large\n",
    "V_{m}^{'}=V_m\\left[1+\\frac{[\\mathrm{I}]}{K_{\\mathrm{ii}}}\\right]^{-1}\n",
    "$$"
   ]
  },
  {
   "cell_type": "markdown",
   "metadata": {},
   "source": [
    "$$\n",
    "\\large\n",
    "K_{m}^{'}=K_m\\left[1+\\frac{[\\mathrm{I}]}{K_{\\mathrm{i}}}\\right]\\left[1+\\frac{[\\mathrm{I}]}{K_{\\mathrm{ii}}}\\right]^{-1}\n",
    "$$"
   ]
  },
  {
   "cell_type": "markdown",
   "metadata": {},
   "source": [
    "$$\n",
    "\\large\n",
    "\\frac{1}{v_{0}}=\\frac{1}{V_{m}^{'}} + \\frac{K_{m}^{'}}{V_{m}^{'}[\\mathrm{S}]}\n",
    "$$"
   ]
  }
 ],
 "metadata": {
  "kernelspec": {
   "display_name": "Python 3",
   "language": "python",
   "name": "python3"
  },
  "language_info": {
   "codemirror_mode": {
    "name": "ipython",
    "version": 3
   },
   "file_extension": ".py",
   "mimetype": "text/x-python",
   "name": "python",
   "nbconvert_exporter": "python",
   "pygments_lexer": "ipython3",
   "version": "3.7.4"
  }
 },
 "nbformat": 4,
 "nbformat_minor": 2
}
