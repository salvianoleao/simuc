{
 "cells": [
  {
   "cell_type": "markdown",
   "metadata": {},
   "source": [
    "<h2><center>SIMUlation for Chemistry (SIMUC)</center></h2>\n",
    "\n",
    "<p style=\"text-align: center; margin-top: 5px;\">\n",
    "Richard Xue\n",
    "</p>\n",
    "\n",
    "<p style=\"text-align: center; margin-top: 5px;\">\n",
    "2019.08.23 - Present\n",
    "</p>\n",
    "\n",
    "<p style=\"text-align: center; margin-top: 5px;\">\n",
    "Department of Chemistry, Physical Chemistry Division, University of Florida<br>\n",
    "<a href=\"https://github.com/yueyericardo/simuc\">Source Code</a><br>\n",
    "</p>\n",
    "\n",
    "---"
   ]
  },
  {
   "cell_type": "markdown",
   "metadata": {},
   "source": [
    "### 1. Sound Interference\n",
    "\n",
    "<a href=\"http://simuc.chem.ufl.edu/sound\"><img src=\"https://yyrcd-1256568788.cos.na-siliconvalley.myqcloud.com/yyrcd/2019-09-12-155635.png\"></a>\n",
    "\n",
    "---"
   ]
  },
  {
   "cell_type": "markdown",
   "metadata": {},
   "source": [
    "### 2. Particle in a 1D box\n",
    "\n",
    "<a href=\"http://simuc.chem.ufl.edu/1dbox\"><img src=\"https://yyrcd-1256568788.cos.na-siliconvalley.myqcloud.com/yyrcd/2019-09-12-160314.png\"></a>\n",
    "\n",
    "\n",
    "---"
   ]
  },
  {
   "cell_type": "markdown",
   "metadata": {},
   "source": [
    "### 3. Enzyme Kinetics\n",
    "\n",
    "<a href=\"http://simuc.chem.ufl.edu/enzyme_kinetics\"><img src=\"https://yyrcd-1256568788.cos.na-siliconvalley.myqcloud.com/yyrcd/2019-09-19-142108.png\"></a>\n",
    "\n",
    "\n",
    "---"
   ]
  },
  {
   "cell_type": "markdown",
   "metadata": {},
   "source": [
    "### 4. Particle in a 2D box \n",
    "\n",
    "<a href=\"http://simuc.chem.ufl.edu/2dbox\"><img src=\"https://yyrcd-1256568788.cos.na-siliconvalley.myqcloud.com/yyrcd/2019-10-02-182236.png\"></a>\n",
    "\n",
    "\n",
    "---"
   ]
  },
  {
   "cell_type": "markdown",
   "metadata": {},
   "source": [
    "## Notebook"
   ]
  },
  {
   "cell_type": "markdown",
   "metadata": {},
   "source": [
    "### 1. [How to make a plot](https://nbviewer.jupyter.org/github/yueyericardo/simuc/blob/master/docs/How_to_make_a_plot.ipynb)\n",
    "\n",
    "### 2. [Minimal background for python](https://nbviewer.jupyter.org/github/yueyericardo/simuc/blob/master/docs/Minimal%20Background%20for%20Python.ipynb)\n",
    "### 3. [Photoisomerization Kinetics Analysis using Python](https://nbviewer.jupyter.org/github/yueyericardo/simuc/blob/master/photoisomerization/photoisomerization.ipynb)\n",
    "### 4. [HOMO-LUMO Gap Energy of the Conjugated Dye Analysis using Python](https://nbviewer.jupyter.org/github/yueyericardo/simuc/blob/master/docs/HOMO-LUMO%20Gap%20Energy%20of%20the%20Conjugated%20Dye.ipynb)\n",
    "### 5. [Anaylze the order of dyes bleaching reaction](https://nbviewer.jupyter.org/github/yueyericardo/simuc/blob/master/docs/Anaylze%20the%20order%20of%20dyes%20bleaching%20reaction.ipynb)\n",
    "### 6. [Chapter 1: Restricted Hartree Fock (RHF) for Simple Atom (He and Be) using Slater Type Orbital (STO) with Double Zeta Basis in Python](https://nbviewer.jupyter.org/github/yueyericardo/simuc/blob/master/docs/SIMUC.ipynb?flush_cache=true)"
   ]
  }
 ],
 "metadata": {
  "kernelspec": {
   "display_name": "Python 3",
   "language": "python",
   "name": "python3"
  },
  "language_info": {
   "codemirror_mode": {
    "name": "ipython",
    "version": 3
   },
   "file_extension": ".py",
   "mimetype": "text/x-python",
   "name": "python",
   "nbconvert_exporter": "python",
   "pygments_lexer": "ipython3",
   "version": "3.7.4"
  }
 },
 "nbformat": 4,
 "nbformat_minor": 2
}
