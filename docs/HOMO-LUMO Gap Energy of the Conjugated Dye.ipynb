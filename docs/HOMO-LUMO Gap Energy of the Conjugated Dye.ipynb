{
 "cells": [
  {
   "cell_type": "markdown",
   "metadata": {
    "ExecuteTime": {
     "end_time": "2019-10-25T14:38:06.001439Z",
     "start_time": "2019-10-25T14:38:05.992554Z"
    }
   },
   "source": [
    "<center> <h1> HOMO-LUMO Gap Energy of the Conjugated Dye Analysis using Python</h1> </center>"
   ]
  },
  {
   "cell_type": "markdown",
   "metadata": {},
   "source": [
    "### Overview\n",
    "1. [Introduction](#1.-Introduction)\n",
    "2. [Minimal Background for Python](#2.-Minimal-Background-for-Python)\n",
    "3. [Data Analysis](#3.-Data-Analysis)\n",
    "\n",
    "---"
   ]
  },
  {
   "cell_type": "markdown",
   "metadata": {},
   "source": [
    "## 1. Introduction\n",
    "\n",
    "This page gives a walk through for analyzing the conjugated dye with particle in 1D box model using python. \n",
    "\n",
    "It should be pointed out that all the input data showed in this page do not correspond to any molecule used in the experiment, and you should plug in your own data to get result.\n",
    "\n",
    "#### (a) Theory HOMO-LUMO Gap Energy:\n",
    " <br>\n",
    "$$\n",
    "\\Delta E_{\\text {theo}}=\\frac{h^{2}\\left(n_{2}^{2}-n_{1}^{2}\\right)}{8 m L^{2}}=\\frac{h^{2}\\left(\\left(\\frac{N}{2}+1\\right)^{2}-\\left(\\frac{N}{2}\\right)^{2}\\right)}{8 m L^{2}}=\\frac{h^{2}(N+1)}{8 m L^{2}}\n",
    "$$\n",
    "<p style=\"text-align: center; font-size: 13px; font-family: times\">\n",
    "    N: number of π electrons<br>\n",
    "    L: Chain length, may be taken as the sum of the bond lengths of all the bonds between the two \"terminal\" nitrogen atoms\n",
    "</p>\n",
    "\n",
    "Import $\\alpha$ as a correction to L\n",
    "\n",
    "$$\n",
    "\\Delta E_{c o r r}=\\frac{h^{2}(N+1)}{8 m(L+\\alpha)^{2}}\n",
    "$$\n",
    "\n",
    "#### (b) Experiment HOMO-LUMO Gap Energy:\n",
    "\n",
    "$$\n",
    "\\Delta E_{exp}=h \\nu=\\frac{h c}{\\lambda}\n",
    "$$\n",
    "\n",
    "<p style=\"color:red\"><b>The goal is to quantify $\\alpha$, using the data of N (num of electrons), L (chain length) and  $\\lambda$ (experiment wavelength)</b></p>"
   ]
  },
  {
   "cell_type": "markdown",
   "metadata": {
    "ExecuteTime": {
     "end_time": "2019-10-28T03:54:58.535465Z",
     "start_time": "2019-10-28T03:54:58.527032Z"
    }
   },
   "source": [
    "---\n",
    "\n",
    "## 2. [Minimal Background for Python](https://yyrcd-1256568788.cos.na-siliconvalley.myqcloud.com/yyrcd/2019-10-18-Minimal%20Background%20for%20Python-1.html)\n",
    "\n",
    "1. Basic data types\n",
    "2. Containers\n",
    "3. Control Flow\n",
    "4. Functions\n",
    "5. Numpy\n",
    "6. Matplotlib\n",
    "7. Scipy\n"
   ]
  },
  {
   "cell_type": "markdown",
   "metadata": {},
   "source": [
    "---\n",
    "\n",
    "## 3. Data Analysis"
   ]
  },
  {
   "cell_type": "code",
   "execution_count": 1,
   "metadata": {
    "ExecuteTime": {
     "end_time": "2019-10-27T20:12:46.101268Z",
     "start_time": "2019-10-27T20:12:44.604198Z"
    }
   },
   "outputs": [],
   "source": [
    "import numpy as np\n",
    "from scipy.optimize import minimize"
   ]
  },
  {
   "cell_type": "code",
   "execution_count": 2,
   "metadata": {
    "ExecuteTime": {
     "end_time": "2019-10-27T20:12:46.115549Z",
     "start_time": "2019-10-27T20:12:46.104481Z"
    }
   },
   "outputs": [],
   "source": [
    "average_bond_C_C = 1.39  # Angstroms\n",
    "single_bond_C_N = 1.47  # Angstroms\n",
    "double_bond_C_N = 1.28  # Angstroms"
   ]
  },
  {
   "cell_type": "code",
   "execution_count": 12,
   "metadata": {
    "ExecuteTime": {
     "end_time": "2019-10-28T03:53:00.133100Z",
     "start_time": "2019-10-28T03:53:00.124688Z"
    }
   },
   "outputs": [],
   "source": [
    "# Define some constants\n",
    "h = 6.62607e-34     # planck's constant in J\n",
    "me = 9.1093837e-31  # mass of an electron in kg\n",
    "c = 2.99792458e8    # speed of light  m/s\n",
    "J2eV = 6.242e18     # convert J -> ev, usage: J * J2eV = eV"
   ]
  },
  {
   "cell_type": "markdown",
   "metadata": {},
   "source": [
    "Plug in you own data at below"
   ]
  },
  {
   "cell_type": "code",
   "execution_count": 13,
   "metadata": {
    "ExecuteTime": {
     "end_time": "2019-10-28T03:53:01.227411Z",
     "start_time": "2019-10-28T03:53:01.221031Z"
    }
   },
   "outputs": [],
   "source": [
    "set_1_num_C_C = np.array([5, 7, 9])\n",
    "set_1_num_electron = np.array([6, 8, 10])\n",
    "set_1_exp_wavelength = np.array([443.0, 527.0, 630.0])  # nm\n",
    "\n",
    "set_2_num_C_C = np.array([5, 7, 9, 10])\n",
    "set_2_num_electron = np.array([6, 8, 10, 12])\n",
    "set_2_exp_wavelength = np.array([443.0, 527.0, 630.0, 720.0])  # nm"
   ]
  },
  {
   "cell_type": "code",
   "execution_count": 14,
   "metadata": {
    "ExecuteTime": {
     "end_time": "2019-10-28T03:53:01.671000Z",
     "start_time": "2019-10-28T03:53:01.665539Z"
    }
   },
   "outputs": [],
   "source": [
    "def get_theory_L(num_C_C):\n",
    "    L = average_bond_C_C * num_C_C + single_bond_C_N + double_bond_C_N\n",
    "    return L"
   ]
  },
  {
   "cell_type": "code",
   "execution_count": 17,
   "metadata": {
    "ExecuteTime": {
     "end_time": "2019-10-28T03:54:17.132697Z",
     "start_time": "2019-10-28T03:54:17.125952Z"
    }
   },
   "outputs": [],
   "source": [
    "# Default of a is 0, which is theory energy (not corrected)\n",
    "def get_theory_E(N, L, a=0):\n",
    "    a = a * 1e-10  # convert Angstroms -> m\n",
    "    L = L * 1e-10  # convert Angstroms -> m\n",
    "    e = h * h * (N + 1) / (8 * me * (L + a)**2 )\n",
    "    e = e * J2eV  # convert J -> eV\n",
    "    return e"
   ]
  },
  {
   "cell_type": "code",
   "execution_count": 18,
   "metadata": {
    "ExecuteTime": {
     "end_time": "2019-10-28T03:54:18.421997Z",
     "start_time": "2019-10-28T03:54:18.414898Z"
    }
   },
   "outputs": [],
   "source": [
    "def get_E_from_wavelength(wavelength):\n",
    "    wavelength = wavelength * 1e-9  # convert nm -> m\n",
    "    e = h * c / wavelength\n",
    "    e = e * J2eV  # convert J -> eV\n",
    "    return e\n",
    "\n",
    "def get_wavelength_from_E(e):\n",
    "    e = e / J2eV  # convert eV -> J\n",
    "    wavelength = h * c / e\n",
    "    wavelength = wavelength * 1e9  # convert m -> nm\n",
    "    return wavelength"
   ]
  },
  {
   "cell_type": "code",
   "execution_count": 19,
   "metadata": {
    "ExecuteTime": {
     "end_time": "2019-10-28T03:54:26.784569Z",
     "start_time": "2019-10-28T03:54:26.775035Z"
    }
   },
   "outputs": [],
   "source": [
    "def fit(num_C_C, num_electron, exp_wavelength):\n",
    "\n",
    "    # Theory Energy\n",
    "    theo_L = get_theory_L(num_C_C)\n",
    "    theo_E = get_theory_E(num_electron, theo_L)\n",
    "    theo_wavelength = get_wavelength_from_E(theo_E)\n",
    "    \n",
    "    # experiment Energy\n",
    "    exp_E = get_E_from_wavelength(exp_wavelength)\n",
    "\n",
    "    def loss(para):\n",
    "        pred_E = get_theory_E(num_electron, theo_L, a=para[0])\n",
    "        mse = np.mean((pred_E - exp_E)**2)  # mean_squared_error\n",
    "        return mse\n",
    "\n",
    "    result = minimize(loss, x0=np.array([1.0]), method='Nelder-Mead')\n",
    "    para = result.x\n",
    "    theo_E_corrected = get_theory_E(num_electron, theo_L, a=para[0])\n",
    "\n",
    "    print('Theory Wavelength    (nm): {}'.format(theo_wavelength))\n",
    "    print('Experi Wavelength    (nm): {}'.format(exp_wavelength))\n",
    "    print()\n",
    "    print('Theory Energy        (eV): {}'.format(theo_E))\n",
    "    print('Experi Energy        (eV): {}'.format(exp_E))\n",
    "    print('Fitted a                 : {:.3f}'.format(para[0]))\n",
    "    print('Theory Energy (corrected): {}'.format(theo_E_corrected))"
   ]
  },
  {
   "cell_type": "code",
   "execution_count": 20,
   "metadata": {
    "ExecuteTime": {
     "end_time": "2019-10-28T03:54:27.293866Z",
     "start_time": "2019-10-28T03:54:27.280708Z"
    }
   },
   "outputs": [
    {
     "name": "stdout",
     "output_type": "stream",
     "text": [
      "Theory Wavelength    (nm): [675.8580762  792.87842608 914.05460624]\n",
      "Experi Wavelength    (nm): [443. 527. 630.]\n",
      "\n",
      "Theory Energy        (eV): [1.83461516 1.56384565 1.3565267 ]\n",
      "Experi Energy        (eV): [2.79896044 2.35282633 1.9681579 ]\n",
      "Fitted a                 : -2.295\n",
      "Theory Energy (corrected): [2.91675355 2.24531337 1.82485337]\n"
     ]
    }
   ],
   "source": [
    "fit(set_1_num_electron, set_1_num_C_C, set_1_exp_wavelength)"
   ]
  },
  {
   "cell_type": "code",
   "execution_count": 21,
   "metadata": {
    "ExecuteTime": {
     "end_time": "2019-10-28T03:54:27.631653Z",
     "start_time": "2019-10-28T03:54:27.621980Z"
    }
   },
   "outputs": [
    {
     "name": "stdout",
     "output_type": "stream",
     "text": [
      "Theory Wavelength    (nm): [ 675.8580762   792.87842608  914.05460624 1131.60949259]\n",
      "Experi Wavelength    (nm): [443. 527. 630. 720.]\n",
      "\n",
      "Theory Energy        (eV): [1.83461516 1.56384565 1.3565267  1.09573089]\n",
      "Experi Energy        (eV): [2.79896044 2.35282633 1.9681579  1.72213816]\n",
      "Fitted a                 : -2.368\n",
      "Theory Energy (corrected): [2.96587842 2.27396079 1.84359272 1.42094771]\n"
     ]
    }
   ],
   "source": [
    "fit(set_2_num_electron, set_2_num_C_C, set_2_exp_wavelength)"
   ]
  }
 ],
 "metadata": {
  "kernelspec": {
   "display_name": "Python 3",
   "language": "python",
   "name": "python3"
  },
  "language_info": {
   "codemirror_mode": {
    "name": "ipython",
    "version": 3
   },
   "file_extension": ".py",
   "mimetype": "text/x-python",
   "name": "python",
   "nbconvert_exporter": "python",
   "pygments_lexer": "ipython3",
   "version": "3.7.4"
  }
 },
 "nbformat": 4,
 "nbformat_minor": 2
}
