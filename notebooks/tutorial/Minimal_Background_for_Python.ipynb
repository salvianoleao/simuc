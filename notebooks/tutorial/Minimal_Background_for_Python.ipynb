{
 "cells": [
  {
   "cell_type": "markdown",
   "metadata": {},
   "source": [
    "# Minimal Background for Python\n",
    "\n",
    "[![Open In Colab](https://colab.research.google.com/assets/colab-badge.svg)](https://colab.research.google.com/github/yueyericardo/simuc/blob/master/notebooks/tutorial/Minimal_Background_for_Python.ipynb) \n",
    "\n",
    "Jinze (Richard) Xue  \n",
    "\n",
    "Python is a great general-purpose programming language on its own, but with the help of a few popular libraries (numpy, scipy, matplotlib), it becomes a powerful environment for scientific computing and data analysis.\n",
    "\n",
    "This tutorial is simplified from [CS231N Python Numpy Tutorial](http://cs231n.github.io/python-numpy-tutorial/). The original tutorial is recommended for the people who want to know more.  Or as you get familiar with python, you might want to know the whole picture of python, then you can go back to [CS231N Tutorial](http://cs231n.github.io/python-numpy-tutorial/) or search other resources.\n",
    "\n",
    "<b>Here</b>, we will \n",
    "- only cover the minimal background of python to do some basic work (like plotting, data analysis, scientific calculation..)\n",
    "\n",
    "- no advanced skills, simplicity is the goal for this tutorial.\n",
    "\n",
    "- python version:  we will use python 3 (3.5, 3.6, 3.7 all is good)\n",
    "\n",
    "- [Colab](https://colab.research.google.com/github/yueyericardo/simuc/blob/master/notebooks/tutorial/Minimal_Background_for_Python.ipynb) of this tutorial is provided, which is the best place for trial (even if you don't have a python environment on your pc)"
   ]
  },
  {
   "cell_type": "markdown",
   "metadata": {
    "ExecuteTime": {
     "end_time": "2019-10-17T20:48:43.311790Z",
     "start_time": "2019-10-17T20:48:43.304758Z"
    }
   },
   "source": [
    "### Overview\n",
    "1. [Basic data types](#1.-Basic-data-types)\n",
    "2. [Containers](#2.-Containers)\n",
    "3. [Control Flow](#3.-Control-flow)\n",
    "4. [Functions](#4.-Functions)\n",
    "5. [Numpy](#5.-Numpy)\n",
    "6. [Matplotlib](#6.-Matplotlib)\n",
    "7. [Scipy](#7.-Scipy)\n",
    "\n",
    "---"
   ]
  },
  {
   "cell_type": "markdown",
   "metadata": {},
   "source": [
    "## 1. Basic data types\n",
    "\n",
    "Like most languages, Python has a number of basic types including integers, floats, booleans, and strings. These data types behave in ways that are familiar from other programming languages.\n",
    "\n",
    "#### (1) Numbers\n",
    "Integers and floats work as you would expect from other languages:"
   ]
  },
  {
   "cell_type": "code",
   "execution_count": 1,
   "metadata": {
    "ExecuteTime": {
     "end_time": "2019-10-18T19:02:00.785054Z",
     "start_time": "2019-10-18T19:02:00.775214Z"
    }
   },
   "outputs": [
    {
     "name": "stdout",
     "output_type": "stream",
     "text": [
      "<class 'int'>\n",
      "3\n",
      "4\n",
      "2\n",
      "6\n",
      "9\n",
      "1.5\n",
      "3\n",
      "1\n",
      "4\n",
      "8\n",
      "<class 'float'>\n",
      "2.5 3.5 5.0 6.25\n"
     ]
    }
   ],
   "source": [
    "x = 3\n",
    "print(type(x)) # Prints \"<class 'int'>\"\n",
    "print(x)       # Prints \"3\"\n",
    "print(x + 1)   # Addition;                    prints \"4\"\n",
    "print(x - 1)   # Subtraction;                 prints \"2\"\n",
    "print(x * 2)   # Multiplication;              prints \"6\"\n",
    "print(x ** 2)  # Exponentiation;              prints \"9\"\n",
    "print(x / 2)   # Division;                    prints \"1.5\"\n",
    "print(x // 1)  # Integer division (remainder is discarded);     prints \"3\"\n",
    "print(x % 2)   # Modulus (remainder of the division)            prints \"1\"\n",
    "\n",
    "x += 1\n",
    "print(x)       # Prints \"4\"\n",
    "x *= 2\n",
    "print(x)       # Prints \"8\"\n",
    "y = 2.5\n",
    "print(type(y)) # Prints \"<class 'float'>\"\n",
    "print(y, y + 1, y * 2, y ** 2) # Prints \"2.5 3.5 5.0 6.25\""
   ]
  },
  {
   "cell_type": "markdown",
   "metadata": {},
   "source": [
    "#### (2) Booleans\n",
    "Python implements all of the usual operators for Boolean logic, but uses English words rather than symbols (&&, ||, etc.):"
   ]
  },
  {
   "cell_type": "code",
   "execution_count": 2,
   "metadata": {
    "ExecuteTime": {
     "end_time": "2019-10-18T19:02:00.793086Z",
     "start_time": "2019-10-18T19:02:00.787673Z"
    }
   },
   "outputs": [
    {
     "name": "stdout",
     "output_type": "stream",
     "text": [
      "<class 'bool'>\n",
      "False\n",
      "True\n",
      "False\n",
      "True\n"
     ]
    }
   ],
   "source": [
    "t = True\n",
    "f = False\n",
    "print(type(t)) # Prints \"<class 'bool'>\"\n",
    "print(t and f) # Logical AND; prints \"False\"\n",
    "print(t or f)  # Logical OR; prints \"True\"\n",
    "print(not t)   # Logical NOT; prints \"False\"\n",
    "print(t != f)  # Logical XOR; prints \"True\""
   ]
  },
  {
   "cell_type": "markdown",
   "metadata": {},
   "source": [
    "#### (3) Strings\n",
    "Python has great support for strings:"
   ]
  },
  {
   "cell_type": "code",
   "execution_count": 3,
   "metadata": {
    "ExecuteTime": {
     "end_time": "2019-10-18T19:02:00.811709Z",
     "start_time": "2019-10-18T19:02:00.801270Z"
    }
   },
   "outputs": [
    {
     "name": "stdout",
     "output_type": "stream",
     "text": [
      "hello\n",
      "5\n",
      "hello world\n"
     ]
    }
   ],
   "source": [
    "hello = 'hello'    # String literals can use single quotes\n",
    "world = \"world\"    # or double quotes; it does not matter.\n",
    "print(hello)       # Prints \"hello\"\n",
    "print(len(hello))  # String length; prints \"5\"\n",
    "hw = hello + ' ' + world  # String concatenation\n",
    "print(hw)          # prints \"hello world\""
   ]
  },
  {
   "cell_type": "code",
   "execution_count": 4,
   "metadata": {
    "ExecuteTime": {
     "end_time": "2019-10-18T19:02:00.839497Z",
     "start_time": "2019-10-18T19:02:00.818461Z"
    }
   },
   "outputs": [
    {
     "name": "stdout",
     "output_type": "stream",
     "text": [
      "fitted k is : 0.0056131214564\n",
      "fitted k is : 0.005613\n",
      "total samples: 100\n",
      "total samples: 100\n"
     ]
    }
   ],
   "source": [
    "# We will use str.format in a lot of cases\n",
    "\n",
    "print('fitted k is : {}'.format(0.0056131214564))\n",
    "print('fitted k is : {:.6f}'.format(0.0056131214564))  # {:.6f} only show 6 digits after decimal point, (f for float)\n",
    "print('total samples: {}'.format(100))\n",
    "print('total samples: {:d}'.format(100))     # {:d} d for integer, not necessary for this case, but usefull at below"
   ]
  },
  {
   "cell_type": "code",
   "execution_count": 5,
   "metadata": {
    "ExecuteTime": {
     "end_time": "2019-10-18T19:02:00.853794Z",
     "start_time": "2019-10-18T19:02:00.848097Z"
    }
   },
   "outputs": [
    {
     "name": "stdout",
     "output_type": "stream",
     "text": [
      "samples of a : 0006\n",
      "samples of b : 0062\n",
      "total samples: 0100\n",
      "\n",
      "samples of a :    6\n",
      "samples of b :   62\n",
      "total samples:  100\n"
     ]
    }
   ],
   "source": [
    "print('samples of a : {:04d}'.format(6))   # String formatting, indent with 0\n",
    "print('samples of b : {:04d}'.format(62))\n",
    "print('total samples: {:04d}'.format(100))\n",
    "\n",
    "print()\n",
    "\n",
    "print('samples of a : {: 4d}'.format(6))   # String formatting, indent with whitespcae\n",
    "print('samples of b : {: 4d}'.format(62))\n",
    "print('total samples: {: 4d}'.format(100))"
   ]
  },
  {
   "cell_type": "code",
   "execution_count": 6,
   "metadata": {
    "ExecuteTime": {
     "end_time": "2019-10-18T19:02:00.860563Z",
     "start_time": "2019-10-18T19:02:00.856752Z"
    }
   },
   "outputs": [
    {
     "name": "stdout",
     "output_type": "stream",
     "text": [
      "Hi! My name is User and I am 19 years old\n"
     ]
    }
   ],
   "source": [
    "# you can pass more parameters, just add {} at the place you want\n",
    "print(\"Hi! My name is {} and I am {} years old\".format(\"User\", 19))  "
   ]
  },
  {
   "cell_type": "markdown",
   "metadata": {},
   "source": [
    "## 2. Containers\n",
    "Python includes several built-in container types: lists, tuples, dictionaries and sets.\n",
    "\n",
    "#### (1) List\n",
    "A list is the Python equivalent of an array, but is resizeable and can contain elements of different types:"
   ]
  },
  {
   "cell_type": "code",
   "execution_count": 7,
   "metadata": {
    "ExecuteTime": {
     "end_time": "2019-10-18T19:02:00.870600Z",
     "start_time": "2019-10-18T19:02:00.864212Z"
    }
   },
   "outputs": [
    {
     "name": "stdout",
     "output_type": "stream",
     "text": [
      "[3, 1, 2] 2\n",
      "2\n",
      "[3, 1, 'foo']\n",
      "[3, 1, 'foo', 'bar']\n",
      "bar [3, 1, 'foo']\n"
     ]
    }
   ],
   "source": [
    "xs = [3, 1, 2]    # Create a list\n",
    "print(xs, xs[2])  # Prints \"[3, 1, 2] 2\"\n",
    "print(xs[-1])     # Negative indices count from the end of the list; prints \"2\"\n",
    "xs[2] = 'foo'     # Lists can contain elements of different types\n",
    "print(xs)         # Prints \"[3, 1, 'foo']\"\n",
    "xs.append('bar')  # Add a new element to the end of the list\n",
    "print(xs)         # Prints \"[3, 1, 'foo', 'bar']\"\n",
    "x = xs.pop()      # Remove and return the last element of the list\n",
    "print(x, xs)      # Prints \"bar [3, 1, 'foo']\""
   ]
  },
  {
   "cell_type": "code",
   "execution_count": 8,
   "metadata": {
    "ExecuteTime": {
     "end_time": "2019-10-18T19:02:00.879206Z",
     "start_time": "2019-10-18T19:02:00.874564Z"
    }
   },
   "outputs": [
    {
     "name": "stdout",
     "output_type": "stream",
     "text": [
      "[3, 1, 'foo']\n",
      "3\n"
     ]
    }
   ],
   "source": [
    "print(xs)\n",
    "print(len(xs))    # len(xs) get the length of the array"
   ]
  },
  {
   "cell_type": "markdown",
   "metadata": {},
   "source": [
    "<b>a. Slicing</b>: <span style=\"color: red\">skippable but recommended</span>  \n",
    "In addition to accessing list elements one at a time, Python provides concise syntax to access sublists; this is known as slicing:"
   ]
  },
  {
   "cell_type": "code",
   "execution_count": 9,
   "metadata": {
    "ExecuteTime": {
     "end_time": "2019-10-18T19:02:00.899271Z",
     "start_time": "2019-10-18T19:02:00.891790Z"
    }
   },
   "outputs": [
    {
     "name": "stdout",
     "output_type": "stream",
     "text": [
      "[0, 1, 2, 3, 4]\n",
      "[2, 3]\n",
      "[2, 3, 4]\n",
      "[0, 1]\n",
      "[0, 1, 2, 3, 4]\n",
      "[0, 1, 2, 3]\n",
      "[0, 1, 8, 9, 4]\n"
     ]
    }
   ],
   "source": [
    "nums = list(range(5))     # range is a built-in function that creates a list of integers\n",
    "print(nums)               # Prints \"[0, 1, 2, 3, 4]\"\n",
    "print(nums[2:4])          # Get a slice from index 2 to 4 (exclusive); prints \"[2, 3]\"\n",
    "print(nums[2:])           # Get a slice from index 2 to the end; prints \"[2, 3, 4]\"\n",
    "print(nums[:2])           # Get a slice from the start to index 2 (exclusive); prints \"[0, 1]\"\n",
    "print(nums[:])            # Get a slice of the whole list; prints \"[0, 1, 2, 3, 4]\"\n",
    "print(nums[:-1])          # Slice indices can be negative; prints \"[0, 1, 2, 3]\"\n",
    "nums[2:4] = [8, 9]        # Assign a new sublist to a slice\n",
    "print(nums)               # Prints \"[0, 1, 8, 9, 4]\""
   ]
  },
  {
   "cell_type": "markdown",
   "metadata": {},
   "source": [
    "**b. Loops**:  \n",
    "You can loop over the elements of a list like this:\n"
   ]
  },
  {
   "cell_type": "code",
   "execution_count": 10,
   "metadata": {
    "ExecuteTime": {
     "end_time": "2019-10-18T19:02:00.985099Z",
     "start_time": "2019-10-18T19:02:00.975742Z"
    }
   },
   "outputs": [
    {
     "name": "stdout",
     "output_type": "stream",
     "text": [
      "cat\n",
      "dog\n",
      "monkey\n"
     ]
    }
   ],
   "source": [
    "animals = ['cat', 'dog', 'monkey']\n",
    "for animal in animals:\n",
    "    print(animal)\n",
    "# Prints \"cat\", \"dog\", \"monkey\", each on its own line."
   ]
  },
  {
   "cell_type": "markdown",
   "metadata": {},
   "source": [
    "**enumerate**  <span style=\"color: red\">skippable but recommended</span>  \n",
    "If you want access to the index of each element within the body of a loop, use the built-in enumerate function:"
   ]
  },
  {
   "cell_type": "code",
   "execution_count": 11,
   "metadata": {
    "ExecuteTime": {
     "end_time": "2019-10-18T19:02:01.142791Z",
     "start_time": "2019-10-18T19:02:01.138653Z"
    }
   },
   "outputs": [
    {
     "name": "stdout",
     "output_type": "stream",
     "text": [
      "#1: cat\n",
      "#2: dog\n",
      "#3: monkey\n"
     ]
    }
   ],
   "source": [
    "animals = ['cat', 'dog', 'monkey']\n",
    "for idx, animal in enumerate(animals):\n",
    "    print('#{}: {}'.format(idx + 1, animal))"
   ]
  },
  {
   "cell_type": "markdown",
   "metadata": {},
   "source": [
    "#### (2) Tuples\n",
    "A tuple is an (immutable) ordered list of values. A tuple is in many ways similar to a list; one of the most important differences is that tuples can be used as keys in dictionaries and as elements of sets, while lists cannot. Here is a trivial example:"
   ]
  },
  {
   "cell_type": "code",
   "execution_count": 12,
   "metadata": {
    "ExecuteTime": {
     "end_time": "2019-10-18T19:02:01.307607Z",
     "start_time": "2019-10-18T19:02:01.303543Z"
    }
   },
   "outputs": [
    {
     "name": "stdout",
     "output_type": "stream",
     "text": [
      "<class 'tuple'>\n",
      "cat\n",
      "cat\n",
      "dog\n",
      "monkey\n"
     ]
    }
   ],
   "source": [
    "t = ('cat', 'dog', 'monkey')        # Create a tuple\n",
    "print(type(t))    # Prints \"<class 'tuple'>\"\n",
    "\n",
    "print(t[0])\n",
    "# t[0] = 'squirrel'   # TypeError: 'tuple' object does not support item assignment\n",
    "\n",
    "for a in t:\n",
    "    print(a)"
   ]
  },
  {
   "cell_type": "markdown",
   "metadata": {
    "ExecuteTime": {
     "end_time": "2019-10-17T18:29:05.945155Z",
     "start_time": "2019-10-17T18:29:05.937980Z"
    }
   },
   "source": [
    "#### (3) [Dictionaries](http://cs231n.github.io/python-numpy-tutorial/#python-dicts)"
   ]
  },
  {
   "cell_type": "code",
   "execution_count": 1,
   "metadata": {
    "tags": []
   },
   "outputs": [
    {
     "output_type": "stream",
     "name": "stdout",
     "text": "cute\nwet\n"
    }
   ],
   "source": [
    "d = {'cat': 'cute', 'dog': 'furry'}  # Create a new dictionary with some data\n",
    "print(d['cat'])       # Get an entry from a dictionary; prints \"cute\"\n",
    "d['fish'] = 'wet'     # Set an entry in a dictionary\n",
    "print(d['fish'])      # Prints \"wet\""
   ]
  },
  {
   "cell_type": "markdown",
   "metadata": {
    "ExecuteTime": {
     "end_time": "2019-10-17T18:31:12.461865Z",
     "start_time": "2019-10-17T18:31:12.458277Z"
    }
   },
   "source": [
    "## 3. Control flow\n",
    "\n",
    "#### (1) loop"
   ]
  },
  {
   "cell_type": "code",
   "execution_count": 13,
   "metadata": {
    "ExecuteTime": {
     "end_time": "2019-10-18T19:02:01.559678Z",
     "start_time": "2019-10-18T19:02:01.555935Z"
    }
   },
   "outputs": [
    {
     "name": "stdout",
     "output_type": "stream",
     "text": [
      "0\n",
      "1\n",
      "2\n",
      "3\n",
      "4\n",
      "5\n"
     ]
    }
   ],
   "source": [
    "# range(start, stop[, step])\n",
    "# default of start: 0\n",
    "# default of step: 1\n",
    "\n",
    "for x in range(6):\n",
    "    print(x)"
   ]
  },
  {
   "cell_type": "code",
   "execution_count": 14,
   "metadata": {
    "ExecuteTime": {
     "end_time": "2019-10-18T19:02:01.645342Z",
     "start_time": "2019-10-18T19:02:01.640027Z"
    }
   },
   "outputs": [
    {
     "name": "stdout",
     "output_type": "stream",
     "text": [
      "2\n",
      "3\n",
      "4\n",
      "5\n"
     ]
    }
   ],
   "source": [
    "for x in range(2, 6):\n",
    "    print(x)"
   ]
  },
  {
   "cell_type": "code",
   "execution_count": 15,
   "metadata": {
    "ExecuteTime": {
     "end_time": "2019-10-18T19:02:01.912250Z",
     "start_time": "2019-10-18T19:02:01.908121Z"
    }
   },
   "outputs": [
    {
     "name": "stdout",
     "output_type": "stream",
     "text": [
      "2\n",
      "4\n"
     ]
    }
   ],
   "source": [
    "for x in range(2, 6, 2):\n",
    "    print(x)"
   ]
  },
  {
   "cell_type": "code",
   "execution_count": 16,
   "metadata": {
    "ExecuteTime": {
     "end_time": "2019-10-18T19:02:02.085088Z",
     "start_time": "2019-10-18T19:02:02.076054Z"
    }
   },
   "outputs": [
    {
     "name": "stdout",
     "output_type": "stream",
     "text": [
      "apple\n",
      "banana\n",
      "cherry\n"
     ]
    }
   ],
   "source": [
    "# And also the list loop we saw before\n",
    "\n",
    "fruits = [\"apple\", \"banana\", \"cherry\"]\n",
    "for x in fruits:\n",
    "    print(x)"
   ]
  },
  {
   "cell_type": "markdown",
   "metadata": {},
   "source": [
    "#### (2) if"
   ]
  },
  {
   "cell_type": "code",
   "execution_count": 17,
   "metadata": {
    "ExecuteTime": {
     "end_time": "2019-10-18T19:02:02.418539Z",
     "start_time": "2019-10-18T19:02:02.412605Z"
    }
   },
   "outputs": [
    {
     "name": "stdout",
     "output_type": "stream",
     "text": [
      "b is greater than a\n"
     ]
    }
   ],
   "source": [
    "a = 33\n",
    "b = 200\n",
    "\n",
    "if b > a:\n",
    "    print(\"b is greater than a\")"
   ]
  },
  {
   "cell_type": "code",
   "execution_count": 18,
   "metadata": {
    "ExecuteTime": {
     "end_time": "2019-10-18T19:02:02.500199Z",
     "start_time": "2019-10-18T19:02:02.491495Z"
    }
   },
   "outputs": [
    {
     "name": "stdout",
     "output_type": "stream",
     "text": [
      "b is smaller than a\n"
     ]
    }
   ],
   "source": [
    "b = 1\n",
    "\n",
    "if b > a:\n",
    "    print(\"b is greater than a\")\n",
    "else:\n",
    "    print(\"b is smaller than a\")"
   ]
  },
  {
   "cell_type": "code",
   "execution_count": 19,
   "metadata": {
    "ExecuteTime": {
     "end_time": "2019-10-18T19:02:02.603478Z",
     "start_time": "2019-10-18T19:02:02.591370Z"
    }
   },
   "outputs": [
    {
     "name": "stdout",
     "output_type": "stream",
     "text": [
      "b is equal to a\n"
     ]
    }
   ],
   "source": [
    "b = 33\n",
    "\n",
    "if b > a:\n",
    "    print(\"b is greater than a\")\n",
    "elif b == a:\n",
    "    print(\"b is equal to a\")\n",
    "else:\n",
    "    print(\"b is smaller than a\")"
   ]
  },
  {
   "cell_type": "markdown",
   "metadata": {},
   "source": [
    "## 4. Functions\n",
    "\n",
    "Python functions are defined using the def keyword. For example:"
   ]
  },
  {
   "cell_type": "code",
   "execution_count": 20,
   "metadata": {
    "ExecuteTime": {
     "end_time": "2019-10-18T19:02:02.944294Z",
     "start_time": "2019-10-18T19:02:02.938703Z"
    }
   },
   "outputs": [
    {
     "name": "stdout",
     "output_type": "stream",
     "text": [
      "2\n",
      "2\n"
     ]
    }
   ],
   "source": [
    "# define a function\n",
    "def func_1(x, y):\n",
    "    return x + y\n",
    "\n",
    "# call a function\n",
    "result = func_1(x=1, y=1)  # 2\n",
    "print(result)\n",
    "\n",
    "# you can omit x=, y=, but it's recommended to leave them there. \n",
    "# It's better for you and others to read it.\n",
    "result = func_1(1, 1)  # 2\n",
    "print(result)"
   ]
  },
  {
   "cell_type": "markdown",
   "metadata": {},
   "source": [
    "We will often define functions to take optional keyword arguments, like this:"
   ]
  },
  {
   "cell_type": "code",
   "execution_count": 21,
   "metadata": {
    "ExecuteTime": {
     "end_time": "2019-10-18T19:02:03.286438Z",
     "start_time": "2019-10-18T19:02:03.278420Z"
    },
    "scrolled": true
   },
   "outputs": [
    {
     "name": "stdout",
     "output_type": "stream",
     "text": [
      "2\n",
      "4\n",
      "4\n"
     ]
    }
   ],
   "source": [
    "def func_2(x, y, a=1):\n",
    "    return a * (x + y)\n",
    "\n",
    "result = func_2(x=1, y=1)  # result = 2, because default of a is 1\n",
    "print(result)\n",
    "\n",
    "result = func_2(x=1, y=1, a=2)  # 4\n",
    "print(result)\n",
    "\n",
    "# or\n",
    "result = func_2(1, 1, 2)  # 4\n",
    "print(result)"
   ]
  },
  {
   "cell_type": "markdown",
   "metadata": {
    "ExecuteTime": {
     "end_time": "2019-10-17T19:38:24.910194Z",
     "start_time": "2019-10-17T19:38:24.878902Z"
    }
   },
   "source": [
    "## 5. Numpy\n",
    "\n",
    "A numpy array is a grid of values, all of the same type, and is indexed by a tuple of nonnegative integers. The number of dimensions is the rank of the array; the shape of an array is a tuple of integers giving the size of the array along each dimension.\n",
    "\n",
    "We can initialize numpy arrays from nested Python lists, and access elements using square brackets:"
   ]
  },
  {
   "cell_type": "code",
   "execution_count": 22,
   "metadata": {
    "ExecuteTime": {
     "end_time": "2019-10-18T19:02:03.984992Z",
     "start_time": "2019-10-18T19:02:03.562219Z"
    }
   },
   "outputs": [
    {
     "name": "stdout",
     "output_type": "stream",
     "text": [
      "[1 2 3]\n",
      "<class 'numpy.ndarray'>\n",
      "(3,)\n",
      "1 2 3\n",
      "[5 2 3]\n",
      "(2, 3)\n",
      "1 2 4\n"
     ]
    }
   ],
   "source": [
    "import numpy as np\n",
    "\n",
    "a = np.array([1, 2, 3])   # Create a rank 1 array\n",
    "print(a)\n",
    "print(type(a))            # Prints \"<class 'numpy.ndarray'>\"\n",
    "print(a.shape)            # Prints \"(3,)\"\n",
    "print(a[0], a[1], a[2])   # Prints \"1 2 3\"\n",
    "a[0] = 5                  # Change an element of the array\n",
    "print(a)                  # Prints \"[5, 2, 3]\"\n",
    "\n",
    "b = np.array([[1,2,3],[4,5,6]])    # Create a rank 2 array\n",
    "print(b.shape)                     # Prints \"(2, 3)\"\n",
    "print(b[0, 0], b[0, 1], b[1, 0])   # Prints \"1 2 4\""
   ]
  },
  {
   "cell_type": "markdown",
   "metadata": {},
   "source": [
    "Numpy also provides many functions to create arrays:"
   ]
  },
  {
   "cell_type": "code",
   "execution_count": 23,
   "metadata": {
    "ExecuteTime": {
     "end_time": "2019-10-18T19:02:04.035305Z",
     "start_time": "2019-10-18T19:02:04.024451Z"
    }
   },
   "outputs": [
    {
     "name": "stdout",
     "output_type": "stream",
     "text": [
      "[[0. 0.]\n",
      " [0. 0.]]\n",
      "[[1. 1. 1. 1.]\n",
      " [1. 1. 1. 1.]\n",
      " [1. 1. 1. 1.]]\n",
      "[0.1 0.2 0.3 0.4 0.5 0.6 0.7 0.8 0.9 1. ]\n",
      "[0.  0.1 0.2 0.3 0.4 0.5 0.6 0.7 0.8 0.9]\n"
     ]
    }
   ],
   "source": [
    "a = np.zeros((2,2))   # Create an array of all zeros\n",
    "print(a)              \n",
    "                      \n",
    "b = np.ones((3,4))    # Create an array of all ones\n",
    "print(b)              \n",
    "\n",
    "c = np.linspace(start=0.1, stop=1, num=10)\n",
    "print(c)\n",
    "\n",
    "d = np.arange(start=0, stop=1, step=0.1)  # stop is excluded\n",
    "print(d)"
   ]
  },
  {
   "cell_type": "markdown",
   "metadata": {},
   "source": [
    "Numpy has a lot of basic operators for array calculations."
   ]
  },
  {
   "cell_type": "code",
   "execution_count": 24,
   "metadata": {
    "ExecuteTime": {
     "end_time": "2019-10-18T19:02:04.214357Z",
     "start_time": "2019-10-18T19:02:04.206825Z"
    }
   },
   "outputs": [
    {
     "name": "stdout",
     "output_type": "stream",
     "text": [
      "[ 1  4  9 16 25]\n",
      "[ 2  4  6  8 10]\n",
      "[2 3 4 5 6]\n",
      "[ 1  4  9 16 25]\n",
      "[1.         1.41421356 1.73205081 2.         2.23606798]\n",
      "1\n",
      "5\n"
     ]
    }
   ],
   "source": [
    "a = np.array([1, 2, 3, 4, 5])\n",
    "b = np.array([1, 2, 3, 4, 5])\n",
    "\n",
    "print(a * b)\n",
    "print(a + b)       # element-wise sum\n",
    "print(a + 1)       # each value + 1\n",
    "print(a ** 2)      # square of a\n",
    "print(np.sqrt(a))\n",
    "print(np.min(a))\n",
    "print(np.max(a))"
   ]
  },
  {
   "cell_type": "markdown",
   "metadata": {},
   "source": [
    "## 6. Matplotlib\n",
    "\n",
    "Matplotlib is a plotting library. "
   ]
  },
  {
   "cell_type": "code",
   "execution_count": 25,
   "metadata": {
    "ExecuteTime": {
     "end_time": "2019-10-18T19:02:05.214546Z",
     "start_time": "2019-10-18T19:02:04.466633Z"
    }
   },
   "outputs": [
    {
     "data": {
      "image/png": "[encoded data removed]",
      "text/plain": [
       "<Figure size 432x288 with 1 Axes>"
      ]
     },
     "metadata": {
      "needs_background": "light"
     },
     "output_type": "display_data"
    }
   ],
   "source": [
    "import numpy as np\n",
    "import matplotlib.pyplot as plt\n",
    "# let plot show inline at jupyter notbook\n",
    "%matplotlib inline\n",
    "\n",
    "# Compute the x and y coordinates for points on a sine curve\n",
    "x = np.linspace(0, 10, 100)\n",
    "y = np.sin(x)\n",
    "\n",
    "# Plot the points using matplotlib\n",
    "plt.plot(x, y)\n",
    "plt.show()  # You must call plt.show() to make graphics appear."
   ]
  },
  {
   "cell_type": "markdown",
   "metadata": {},
   "source": [
    "Commonly we can control the plotting like below"
   ]
  },
  {
   "cell_type": "code",
   "execution_count": 26,
   "metadata": {
    "ExecuteTime": {
     "end_time": "2019-10-18T19:02:05.375228Z",
     "start_time": "2019-10-18T19:02:05.217017Z"
    }
   },
   "outputs": [
    {
     "data": {
      "image/png": "[encoded data removed]",
      "text/plain": [
       "<Figure size 1152x288 with 1 Axes>"
      ]
     },
     "metadata": {
      "needs_background": "light"
     },
     "output_type": "display_data"
    }
   ],
   "source": [
    "plt.figure(figsize=(16, 4))                            # figure size\n",
    "\n",
    "plt.plot(x, y, 'o-', markersize=2, label='sin(t)')     # plot, marker, label\n",
    "\n",
    "plt.xlabel('time (s)')                                 # x label\n",
    "plt.ylabel('y')                                        # y label\n",
    "plt.title('y over time')                               # set title\n",
    "plt.xlim(-0.5, 10.5)                                   # range of axis x\n",
    "plt.ylim(-1.2, 1.2)                                    # range of axis y\n",
    "plt.legend()                                           # show legend on the plot\n",
    "plt.show()"
   ]
  },
  {
   "cell_type": "markdown",
   "metadata": {
    "ExecuteTime": {
     "end_time": "2019-10-17T20:05:00.422625Z",
     "start_time": "2019-10-17T20:05:00.419410Z"
    }
   },
   "source": [
    "## 7. Scipy \n",
    "<span style=\"color: red\">Could be skipped if you don't need to fit data right now</span>  \n",
    "\n",
    "In most cases, we use scipy to fit experiment data to one function using `scipy.optimize` module.  \n",
    "Besides that, SciPy also contains modules for linear algebra, integration, interpolation, special functions"
   ]
  },
  {
   "cell_type": "code",
   "execution_count": 27,
   "metadata": {
    "ExecuteTime": {
     "end_time": "2019-10-18T19:02:05.606335Z",
     "start_time": "2019-10-18T19:02:05.378360Z"
    }
   },
   "outputs": [],
   "source": [
    "from scipy.optimize import minimize"
   ]
  },
  {
   "cell_type": "markdown",
   "metadata": {},
   "source": [
    "Let's assume x, y are our data, we want to fit x and y to\n",
    "$$y = ax + b$$\n",
    "The best `a` and `b` to discribe the experiment data are what we are looking for"
   ]
  },
  {
   "cell_type": "code",
   "execution_count": 28,
   "metadata": {
    "ExecuteTime": {
     "end_time": "2019-10-18T19:02:05.678073Z",
     "start_time": "2019-10-18T19:02:05.673558Z"
    }
   },
   "outputs": [],
   "source": [
    "x = np.array([1, 2, 3, 4, 5, 6, 7, 8, 9, 10])\n",
    "y = np.array([0.07, 0.18, 0.31, 0.43, 0.50, 0.55, 0.72, 0.78, 0.90, 1.10])"
   ]
  },
  {
   "cell_type": "markdown",
   "metadata": {},
   "source": [
    "Plot these experiment datas"
   ]
  },
  {
   "cell_type": "code",
   "execution_count": 29,
   "metadata": {
    "ExecuteTime": {
     "end_time": "2019-10-18T19:02:06.265553Z",
     "start_time": "2019-10-18T19:02:06.139695Z"
    }
   },
   "outputs": [
    {
     "data": {
      "image/png": "[encoded data removed]",
      "text/plain": [
       "<Figure size 720x288 with 1 Axes>"
      ]
     },
     "metadata": {
      "needs_background": "light"
     },
     "output_type": "display_data"
    }
   ],
   "source": [
    "plt.figure(figsize=(10, 4))\n",
    "\n",
    "plt.plot(x, y, 'o', markersize=5, label='experiment data')\n",
    "\n",
    "plt.xlabel('Time (s)')\n",
    "plt.ylabel('Absorbance')\n",
    "plt.title('Absorbance over time')\n",
    "plt.legend()\n",
    "plt.show()"
   ]
  },
  {
   "cell_type": "markdown",
   "metadata": {},
   "source": [
    "#### Step 1. Define the fitting function"
   ]
  },
  {
   "cell_type": "code",
   "execution_count": 30,
   "metadata": {
    "ExecuteTime": {
     "end_time": "2019-10-18T19:02:07.010643Z",
     "start_time": "2019-10-18T19:02:07.004379Z"
    }
   },
   "outputs": [],
   "source": [
    "def linear(x, a, b):\n",
    "    return a * x + b"
   ]
  },
  {
   "cell_type": "markdown",
   "metadata": {
    "ExecuteTime": {
     "end_time": "2019-10-17T20:25:02.895517Z",
     "start_time": "2019-10-17T20:25:02.880445Z"
    }
   },
   "source": [
    "#### Step 2. Define a loss function of predicted data and experiment data\n",
    "We use `Mean squared error` (MSE) in this case\n",
    "$$ \\text {MSE} = \\sum_{i=1}^{n}{(\\;f(x_i) - y_i\\;)^2}$$\n",
    "\n",
    "This function receive an array (`para` below) as argument, this array contains all the parameters we want to optimize   \n",
    "In this case para = [a, b], a = para[0], b = para[1]  "
   ]
  },
  {
   "cell_type": "code",
   "execution_count": 31,
   "metadata": {
    "ExecuteTime": {
     "end_time": "2019-10-18T19:02:07.377502Z",
     "start_time": "2019-10-18T19:02:07.367743Z"
    }
   },
   "outputs": [],
   "source": [
    "def loss(para):\n",
    "    pred = linear(x=x, a=para[0], b=para[1])   # x here is an numpy array, and pred will also be an array\n",
    "    mse = np.mean((pred - y)**2)  # mean_squared_error\n",
    "    return mse"
   ]
  },
  {
   "cell_type": "markdown",
   "metadata": {},
   "source": [
    "#### Step 3. Minimize the loss function\n",
    "\n",
    "minimize is a function of scipy.optimize.  \n",
    "It receive three argument in this case.\n",
    "1. loss function\n",
    "2. initial guess. `x0` is an array of the initial guess for all parameters, in this case [a, b]\n",
    "3. method to optimize"
   ]
  },
  {
   "cell_type": "code",
   "execution_count": 32,
   "metadata": {
    "ExecuteTime": {
     "end_time": "2019-10-18T19:02:07.982571Z",
     "start_time": "2019-10-18T19:02:07.970222Z"
    }
   },
   "outputs": [
    {
     "name": "stdout",
     "output_type": "stream",
     "text": [
      "Optimization Info: \n",
      "  final_simplex: (array([[ 0.10653925, -0.03196997],\n",
      "       [ 0.10655738, -0.03206408],\n",
      "       [ 0.10655136, -0.03206572]]), array([0.00119055, 0.00119055, 0.00119055]))\n",
      "           fun: 0.001190545788970148\n",
      "       message: 'Optimization terminated successfully.'\n",
      "          nfev: 100\n",
      "           nit: 52\n",
      "        status: 0\n",
      "       success: True\n",
      "             x: array([ 0.10653925, -0.03196997])\n",
      "\n",
      "Optimized parameters for function y = a * x + b: \n",
      "a: 0.1065 b: -0.031970 \n",
      "\n"
     ]
    }
   ],
   "source": [
    "result = minimize(loss, x0=np.array([1.0, 1.0]), method='Nelder-Mead')\n",
    "print('Optimization Info: \\n', result)\n",
    "\n",
    "# optimized parameters are in result.x\n",
    "para = result.x\n",
    "print('\\nOptimized parameters for function y = a * x + b: \\na: {:.4f} b: {:.6f} \\n'.format(para[0], para[1]))"
   ]
  },
  {
   "cell_type": "markdown",
   "metadata": {},
   "source": [
    "Plot the fitted curve"
   ]
  },
  {
   "cell_type": "code",
   "execution_count": 33,
   "metadata": {
    "ExecuteTime": {
     "end_time": "2019-10-18T19:02:09.684250Z",
     "start_time": "2019-10-18T19:02:09.542054Z"
    }
   },
   "outputs": [
    {
     "data": {
      "image/png": "[encoded data removed]",
      "text/plain": [
       "<Figure size 720x288 with 1 Axes>"
      ]
     },
     "metadata": {
      "needs_background": "light"
     },
     "output_type": "display_data"
    }
   ],
   "source": [
    "x1 = np.linspace(0, 10, num=100)\n",
    "\n",
    "plt.figure(figsize=(10, 4))\n",
    "\n",
    "plt.plot(x, y, 'o', markersize=5, label='experiment data')\n",
    "plt.plot(x1, linear(x1, a=para[0], b=para[1]), '-', markersize=5, label='fitted line')\n",
    "\n",
    "plt.xlabel('Time (s)')\n",
    "plt.ylabel('Absorbance')\n",
    "plt.title('Absorbance over time')\n",
    "plt.legend()\n",
    "plt.show()"
   ]
  }
 ],
 "metadata": {
  "kernelspec": {
   "display_name": "Python 3",
   "language": "python",
   "name": "python3"
  },
  "language_info": {
   "codemirror_mode": {
    "name": "ipython",
    "version": 3
   },
   "file_extension": ".py",
   "mimetype": "text/x-python",
   "name": "python",
   "nbconvert_exporter": "python",
   "pygments_lexer": "ipython3",
   "version": "3.6.10-final"
  }
 },
 "nbformat": 4,
 "nbformat_minor": 2
}