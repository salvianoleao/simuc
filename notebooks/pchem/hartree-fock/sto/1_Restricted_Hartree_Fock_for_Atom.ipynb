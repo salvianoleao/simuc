{
 "cells": [
  {
   "cell_type": "markdown",
   "metadata": {},
   "source": [
    "<h2 style=\"margin-bottom:0px; line-height:1.5\"><center>Chapter 1: <u>Restricted Hartree Fock (RHF)</u> for Simple Atom (He and Be) using  <u>Slater Type Orbital (STO)</u>\n",
    "    with <u> Double Zeta Basis</u> in Python</center></h2>\n",
    "<center>Integral calculated by sympy</center>\n",
    "\n",
    "<p style=\"text-align: center; margin-top: 10px; margin-bottom: 0px;\">\n",
    "    <a target=\"_blank\" href=\"http://simuc.chem.ufl.edu/\">SIMUC PROJECT</a>\n",
    "</p>\n",
    "\n",
    "<p style=\"text-align: center; margin-top: 10px; margin-bottom: 0px;\">\n",
    "    By <a target=\"_blank\" href=\"https://github.com/yueyericardo\">Jinze (Richard) Xue</a>&nbsp;&nbsp;&nbsp;/&nbsp;\n",
    "    <a target=\"_blank\" href=\"https://github.com/yueyericardo/simuc/tree/master/notebooks/pchem/hartree-fock/sto\">Source code</a>\n",
    "</p>\n",
    "\n",
    "\n",
    "1. It will be better to understand if you have read <u>Levine, Quantum Chemistry, 7th Edition, chapter 11 and 14</u>.  \n",
    "There is an example calculation of Helium atom at page 412-414.\n",
    "\n",
    "1. For well-organized and documented python file, please find in github: https://github.com/yueyericardo/simuc/tree/master/notebooks/pchem/hartree-fock/sto\n",
    "\n",
    "1. This notebook is self-contained.  \n",
    "However, if you wanna try in other place, you should put `hf.py` file in the same directory where you wanna import it. \n",
    "\n",
    "### Chapters\n",
    "- Chapter 1: Restricted Hartree Fock (RHF) for Simple Atom (He and Be) using Slater Type Orbital (STO) with Double Zeta Basis in Python\n",
    "- Chapter 2: Slater Type Orbital (STO) VS Gaussian Type Orbital (GTO) <font color=red>【WIP】</font>   \n",
    "  Interactive tool <font color=red>【WIP】</font>     \n",
    "- Chapter 3: Restricted Hartree Fock (RHF) for Simple diatomic molecule (H2 and HeH+) using Gaussian Type Orbital (GTO) with STO-3G Basis in Python  <font color=red>【Code is on [github](https://github.com/yueyericardo/simuc/tree/master/notebooks/pchem/hartree-fock/gto)】【Document WIP】</font>   \n",
    "- Chapter 4: Restricted Hartree Fock (RHF) for Polyatomic Molecule using Simple and Powerful Package: PSI4<font color=red>【WIP】</font>   \n",
    "\n",
    "### Overview\n",
    "1. [Introduction](#1.-Introduction)\n",
    "1. [Born–Oppenheimer approximation](#2.-Born–Oppenheimer-approximation)\n",
    "2. [Hartree fock approximation](#3.-Hartree-fock-approximation)\n",
    "3. [Why build matrix and how to solve secular equation?](#4.-Why-build-matrix-and-how-to-solve-secular-equation?)\n",
    "4. [How to build matrix](#5.-How-to-build-matrix)\n",
    "5. [Secular Equation](#6.-Secular-Equation)\n",
    "6. [Total Energy](#7.-Total-Energy)\n",
    "7. [Utils](#8.-Utils)\n",
    "8. [Run Hartree Fock](#9.-Run-Hartree-Fock)\n",
    "9. [Test](#10.-Test)\n",
    "10. [Excise - Plot the charge density of orbitals](#11.-Excise---Plot-the-charge-density-of-orbitals)\n",
    "10. [Limitations](#12.-Limitations)\n",
    "11. [Reference](#13.-Reference)\n",
    "\n",
    "\n",
    "---"
   ]
  },
  {
   "cell_type": "markdown",
   "metadata": {},
   "source": [
    "### 1. Introduction\n",
    "In this notebook, we will use Helium Atom as an example to explain Restricted Hartree Fock (RHF) method.  \n",
    "(Restricted means only for closed shell molecule, orbitals are either doubly occupied or empty)\n",
    "\n",
    "Helium has two electrons on 1s orbital.  \n",
    "\n",
    "One-electron wavefunction of 1s orbital could be written as $^*$\n",
    "$$\\chi_{1 \\mathrm{s}}^{\\mathrm{STO}}=\\left(\\frac{\\zeta^{3}}{\\pi}\\right)^{1 / 2} \\exp (-\\zeta r)$$\n",
    "<p style=\"text-align: center; font-size: 13px; font-family: times\">\n",
    "    <span style=\"font-weight: bold;\"> [*] </span> \n",
    "    For simplicity, there is no angular part since it's s orbital.\n",
    "    <br>\n",
    "    $\\zeta$ is a constant related to the effective charge of the nucleus, the nuclear charge being partly shielded by electrons.\n",
    "<p>\n",
    "With double zeta, we are saying we will buil two $\\chi_{1 \\mathrm{s}}^{\\mathrm{STO}}$ function. And the final 1s orbital of Helium will be a linear combination of these two STO.  $$\\phi_1 = c_{11} \\chi_1 + c_{21} \\chi_2  \\quad \\text{(occupied orbital)}\\;\\; \\tag {Eq1}$$ $$\\phi_2 = c_{12} \\chi_1 + c_{22} \\chi_2 \\quad \\text{(unoccupied orbital)}$$\n",
    "\n",
    "<p style=\"color:red\"><b>The goal of hartree fock is using Self-Consistent Field method (SCF) to optimize coefficients to get close to the real wavefunction.</b></p>\n",
    "\n",
    "For Helium, from reference [[1]](https://www.sciencedirect.com/science/article/pii/S0092640X74800161), two double zeta are 1.45363, 2.91093.   \n",
    "We could build these two STO with each zeta using sympy like below."
   ]
  },
  {
   "cell_type": "code",
   "execution_count": 1,
   "metadata": {
    "ExecuteTime": {
     "end_time": "2019-11-18T21:39:19.732405Z",
     "start_time": "2019-11-18T21:39:17.088330Z"
    },
    "scrolled": true
   },
   "outputs": [],
   "source": [
    "import hf\n",
    "import sympy as sp\n",
    "import numpy as np\n",
    "import scipy.linalg\n",
    "from sympy import oo\n",
    "from sympy import diff\n",
    "import time\n",
    "import matplotlib\n",
    "from matplotlib import pyplot as plt\n",
    "from IPython.display import Math\n",
    "sp.init_printing()\n",
    "%matplotlib inline"
   ]
  },
  {
   "cell_type": "code",
   "execution_count": 2,
   "metadata": {
    "ExecuteTime": {
     "end_time": "2019-11-18T21:39:19.743107Z",
     "start_time": "2019-11-18T21:39:19.734695Z"
    }
   },
   "outputs": [],
   "source": [
    "r, r1, r2, zeta = sp.symbols(\"r, r1, r2, zeta\")\n",
    "n = sp.Symbol('n', integer=True)"
   ]
  },
  {
   "cell_type": "code",
   "execution_count": 3,
   "metadata": {
    "ExecuteTime": {
     "end_time": "2019-11-18T21:39:19.751420Z",
     "start_time": "2019-11-18T21:39:19.746041Z"
    }
   },
   "outputs": [],
   "source": [
    "def STO(zeta, n, r=r):\n",
    "    \"\"\"\n",
    "    Define a Slater Type Orbital function using sympy.\n",
    "\n",
    "    INPUT:\n",
    "    zeta: zeta for the STO.\n",
    "    n: principle quantum number for the STO.\n",
    "    \"\"\"\n",
    "    f = r ** (n - 1) * sp.exp(-zeta * r)\n",
    "    # normalization\n",
    "    N = sp.sqrt(1 / sp.integrate(4 * sp.pi * f * f * r * r, (r, 0, +oo)))\n",
    "    return N * f"
   ]
  },
  {
   "cell_type": "code",
   "execution_count": 4,
   "metadata": {
    "ExecuteTime": {
     "end_time": "2019-11-18T21:39:20.313989Z",
     "start_time": "2019-11-18T21:39:19.754091Z"
    }
   },
   "outputs": [
    {
     "data": {
      "text/latex": [
       "$\\displaystyle \\chi_1 :$"
      ],
      "text/plain": [
       "<IPython.core.display.Math object>"
      ]
     },
     "metadata": {},
     "output_type": "display_data"
    },
    {
     "data": {
      "image/png": "[encoded data removed]",
      "text/latex": [
       "$\\displaystyle \\frac{1.7525919640199 e^{- 1.45363 r}}{\\sqrt{\\pi}}$"
      ],
      "text/plain": [
       "                 -1.45363⋅r\n",
       "1.7525919640199⋅ℯ          \n",
       "───────────────────────────\n",
       "             √π            "
      ]
     },
     "metadata": {},
     "output_type": "display_data"
    },
    {
     "data": {
      "text/latex": [
       "$\\displaystyle \\chi_2 :$"
      ],
      "text/plain": [
       "<IPython.core.display.Math object>"
      ]
     },
     "metadata": {},
     "output_type": "display_data"
    },
    {
     "data": {
      "image/png": "[encoded data removed]",
      "text/latex": [
       "$\\displaystyle \\frac{4.96646801564063 e^{- 2.91093 r}}{\\sqrt{\\pi}}$"
      ],
      "text/plain": [
       "                  -2.91093⋅r\n",
       "4.96646801564063⋅ℯ          \n",
       "────────────────────────────\n",
       "             √π             "
      ]
     },
     "metadata": {},
     "output_type": "display_data"
    }
   ],
   "source": [
    "f1s_1 = hf.STO(zeta=1.45363, n=1)\n",
    "f1s_2 = hf.STO(zeta=2.91093, n=1)\n",
    "\n",
    "display(Math('$\\chi_1 :'))\n",
    "display(f1s_1)\n",
    "display(Math('$\\chi_2 :'))\n",
    "display(f1s_2)"
   ]
  },
  {
   "cell_type": "markdown",
   "metadata": {},
   "source": [
    "<span style=\"font-weight: bold; color: red\"> Note: </span> More detail about this will be covered at part 2, but I want to point out the main idea at beginning. So it could remind you what's our final goal, when you feel distracted.\n",
    "\n",
    "By using Roothan equations below , which could be solved self-consistently for the orbital coefficient matrix **C** and orbital energy eigenvalues $\\epsilon_i$ by iterations, we could finally \n",
    "1. get close to the real wavefunction (using improved Coefficients for Eq1).\n",
    "2. get close to correct Molecular orbital energies (using $\\epsilon_i$), to get the real total energy\n",
    "\n",
    "$${\\mathbf  {F}}{\\mathbf  {C}}={\\mathbf  {S}}{\\mathbf  {C}}{\\mathbf  {\\epsilon }}$$\n",
    "<p style=\"text-align: center; font-size: 13px; font-family: times\">\n",
    "    <span style=\"font-weight: bold;\"> Note: </span> \n",
    "    F (Fock matrix), S (Overlap matrix) are inputs.<br>\n",
    "    S matrix is fixed, F matrix is changing every iteration because of the improved C.<br>\n",
    "    C (Coefficient matrix) and $\\epsilon_i$ (eigenvalues) are results.\n",
    "    <br>\n",
    "<p>"
   ]
  },
  {
   "cell_type": "markdown",
   "metadata": {},
   "source": [
    "---\n",
    "\n",
    "### 2. Born–Oppenheimer approximation\n",
    "Using Born–Oppenheimer approximation, molecular Hamiltonian could be expressed as \n",
    "\n",
    "$${\\displaystyle H=H_{\\text{e}}+T_{\\text{n}}}$$\n",
    "<p style=\"text-align: center; font-size: 13px; font-family: times\">\n",
    "    <span style=\"font-weight: bold;\"> Note: </span> \n",
    "    e (electron), n (nuclear)\n",
    "    <br>\n",
    "<p>\n",
    "Where\n",
    "\n",
    "$${\\displaystyle H_{\\text{e}}=-\\sum _{i}{{\\frac {1}{2}}\\nabla _{i}^{2}}-\\sum _{i,\\alpha}{\\frac {Z_{\\alpha}}{r_{i\\alpha}}}+\\sum _{i>j}{\\frac {1}{r_{ij}}}+\\sum _{\\beta>\\alpha}{\\frac {Z_{\\alpha}Z_{\\beta}}{R_{\\alpha \\beta}}}\\quad {\\text{and}}\\quad T_{\\text{n}}=-\\sum _{\\alpha}{{\\frac {1}{2M_{\\alpha}}}\\nabla _{\\alpha}^{2}}}$$\n",
    "<p style=\"text-align: center; font-size: 13px; font-family: times\">\n",
    "    <span style=\"font-weight: bold;\"> Note: </span> \n",
    "    i, j (electron), $\\alpha$, $\\beta$ (nuclear)\n",
    "    <br>\n",
    "<p>"
   ]
  },
  {
   "cell_type": "markdown",
   "metadata": {},
   "source": [
    "$H_e$:   \n",
    "1. sum of kinetic-energy operators for each electron\n",
    "2. sum of nuclear–electronic Coulombic attraction terms\n",
    "3. sum of electron-electron repulsion energy\n",
    "4. sum of nuclear-nuclear repulsion energy ($V_{NN}$)\n",
    "\n",
    "$T_n$: \n",
    "1. sum of kinetic-energy operators for each nuclear"
   ]
  },
  {
   "cell_type": "markdown",
   "metadata": {},
   "source": [
    "Classically, during the time of a cycle of electronic motion, the change in nuclear configuration is negligible. Thus, considering the nuclei as fixed, we omit the nuclear kinetic-energy terms $T_n$. So commonly when we say hartree fock energy, we are only talking about $H_e$ term.\n",
    "\n",
    "$${\\displaystyle H_{\\text{e}}=-\\sum _{i}{{\\frac {1}{2}}\\nabla _{i}^{2}}-\\sum _{i,\\alpha}{\\frac {Z_{\\alpha}}{r_{i\\alpha}}}+\\sum_{i} \\sum_{j>i}{\\frac {1}{r_{ij}}} + V_{NN}}$$\n",
    "\n",
    "The first 3 terms together is purely electronic Hamiltonian. "
   ]
  },
  {
   "cell_type": "markdown",
   "metadata": {},
   "source": [
    "---\n",
    "\n",
    "### 3. Hartree fock approximation\n",
    "\n",
    "Because of the inter-electronic repulsion term $\\frac{1}{r_{i j}}$, the Schrödinger equation for a molecule wavefunction is not separable. So the true wave function cannot be written as the product of n one-electron functions.  \n",
    "\n",
    "The essence of hartree-fock approximation is to treat electron-electron repulsion in an average way, so this complicated many-electron problem could be solved as one-electron problem. \n",
    "\n",
    "Then the molecular wavefunction could be written as a product of all one-electron wavefunctions. \n",
    "The functions chosen to represent each electron is based on the hydrogen-like atomic wavefunction. (<span style=\"font-weight: bold; color: red\"> Note: </span>This is the reason why we use Slater type Orbital (STO), because it's transformed from exact wavefunction for an electron around a hydrogen atom)\n",
    "\n",
    "$$\n",
    "\\Psi({r_1 r_2})=\\phi_{1}\\left(\\boldsymbol{r}_{1}\\right) \\phi_{2}\\left(\\boldsymbol{r}_{2}\\right)\n",
    "$$\n",
    "\n",
    "However this product does not satisfy antisymmetric requirements (which means if you swap electrons the sign of the wavefunction should invert). This problem can be overcome by taking a linear combination of both products:\n",
    "$$\n",
    "\\begin{aligned} \\Psi\\left(\\mathbf{r}_{1}, \\mathbf{r}_{2}\\right) &=\\frac{1}{\\sqrt{2}}\\left\\{\\phi_{1}\\left(\\mathbf{r}_{1}\\right) \\phi_{2}\\left(\\mathbf{r}_{2}\\right)-\\phi_{1}\\left(\\mathbf{r}_{2}\\right) \\phi_{2}\\left(\\mathbf{r}_{1}\\right)\\right\\} \\\\ &=\\frac{1}{\\sqrt{2}}\\left|\\begin{array}{ll}{\\phi_{1}\\left(\\mathbf{r}_{1}\\right)} & {\\phi_{2}\\left(\\mathbf{r}_{1}\\right)} \\\\ {\\phi_{1}\\left(\\mathbf{r}_{2}\\right)} & {\\phi_{2}\\left(\\mathbf{r}_{2}\\right)}\\end{array}\\right| \\end{aligned}\n",
    "$$\n",
    "\n",
    "In this way, the Schrödinger equation would then be separated into n one-electron hydrogenlike equations.\n",
    "\n",
    "Suppose there is an operator called Fock operator $\\hat F$, the eigenvalue corresponding to $\\hat F$ on a one-electron wavefunction is the energy related to this electron.\n",
    "\n",
    "Each electron energy $\\varepsilon_{i}$ will include \n",
    "1. kinetic-energy for this electron\n",
    "2. sum of coulombic attraction between this electron and all nuclears\n",
    "3. the potential of this electron interacting with an averaged distribution of other electrons, (which is calculated by treating all of the other electrons within the molecule as a smooth distribution of negative charge, and this is the major simplification inherent in the Hartree–Fock method).   \n",
    "(What does this means? explained at below )\n",
    "\n",
    "<span style=\"font-weight: bold; color:red\"> Note: </span>  If we take$\\sum_{i}^{n} {\\varepsilon_{i}}$, we will count each interelectronic repulsion twice, which needs to be subtracted when calculating total energy of molecule.  \n",
    "\n",
    "What's the meaing of the potential of this electron interacting with an averaged distribution of other electrons?\n",
    "suppose we want to find the electron-electron repulsion potential ($\\text{Vee}$) of electron 1 with electron 2.\n"
   ]
  },
  {
   "cell_type": "markdown",
   "metadata": {},
   "source": [
    "$$\\text{Vee}_{1 2}=\\left\\langle\\phi (1)^*|\\frac{1}{r_{1 2}} | \\phi (1)\\right\\rangle$$\n",
    "This is not solvable, because we don't know the location of electron (2).\n",
    "\n",
    "And hartree fock simplify this to:  \n",
    "(recall that $\\left|\\phi(2)\\right|^{2}$ is the probability density of electron (2)\n",
    "\n",
    "$$\\text{Vee}_{1 2}=\\left\\langle\\phi (1)^*|\\;\\;\\; \\int \\frac{\\left|\\phi(2)\\right|^{2}}{r_{12}} d v_{2} \\;\\;\\; | \\phi (1)\\right\\rangle \\tag{Eq2}$$\n",
    "\n",
    "By using the probability density of electron (2) $\\left|\\phi(2)\\right|^{2}$, \n",
    "\n",
    "$$\\text{infinitesimal charge density} * \\text{infinitesimal volume} = \\text{infinitesimal charge}$$\n",
    "\n",
    "and integrate over all space, we could get the repulsion energy above.  \n",
    "It could be also rewritten as, which is more commonly used:  \n",
    "\n",
    "$$\n",
    "\\text{Vee}_{1 2}= \\int \\int \\frac{\\left|\\phi(2)\\right|^{2} \\phi (1)^* \\phi (1)}{r_{12}} d v_{2}d v_{1}\n",
    "$$\n",
    "$$\n",
    "= \\int \\int \\frac{\\phi(2)^*\\phi(2) \\phi (1)^* \\phi (1)}{r_{12}} d v_{2}d v_{1}\n",
    "$$"
   ]
  },
  {
   "cell_type": "markdown",
   "metadata": {},
   "source": [
    "<h4 style=\"color: blue\">Fock operator</h4>\n",
    "The operator corresponding to one electron energy $\\varepsilon_{i}$ is fock operator. (For the restricted case which assumes closed-shell orbitals and single- determinantal wavefunctions)\n",
    "\n",
    "$$\\hat{F}(i)=-\\frac{1}{2} \\nabla_{i}^{2}-\\sum_{\\alpha} \\frac{Z_{\\alpha}}{r_{1 \\alpha}} + \\sum_{j=1}^{n / 2}\\left[2 \\hat{J}_{j}(i)-\\hat{K}_{j}(i)\\right]$$\n",
    "\n",
    "where:\n",
    "\n",
    "- ${\\displaystyle {\\hat {F}}(i)}$ is the Fock operator for the i-th electron in the system,  \n",
    "- $-\\frac{1}{2} \\nabla_{i}^{2}-\\sum_{\\alpha} \\frac{Z_{\\alpha}}{r_{1 \\alpha}} $ are kinetics energy and sum of nuclear-electron attraction respectively.   \n",
    "These two terms are often considered as the core terms, and refered as $\\hat{H}^{\\mathrm{core}}_i$\n",
    "\n",
    "So Fock operator could be rewritten as \n",
    "$$\\hat{F}(i)=\\hat{H}_{core}(i)+\\sum_{j=1}^{n / 2}\\left[2 \\hat{J}_{j}(i)-\\hat{K}_{j}(i)\\right]$$\n",
    "\n",
    "- ${\\displaystyle n}$ is the number of electrons and ${\\displaystyle {\\frac {n}{2}}}$ is the number of occupied orbitals in the closed-shell system,  \n",
    "- ${\\displaystyle {\\hat {J}}_{j}(i)}$ is the Coulomb operator, defining the repulsive force between the j-th and i-th electrons in the system,  (explained at Eq2)\n",
    "$$\n",
    "\\hat{J}_{j}(1) f(1) =f(1) \\int\\left|\\phi_{j}(2)\\right|^{2} \\frac{1}{r_{12}} d v_{2}\n",
    "$$\n",
    "\n",
    "\n",
    "<p style=\"text-align: center; font-size: 13px; font-family: times\">\n",
    "    <span style=\"font-weight: bold;\"> Note: </span> \n",
    "    ${\\displaystyle f(1)}$, ${\\displaystyle f(2)}$ are the one-electron wavefunctions acted upon by the exchange operator as functions of the electron positions,<br> and ${\\displaystyle \\phi _{j}(1)}$ and ${\\displaystyle \\phi _{j}(2)}$ are the one-electron wavefunction of the jth electron as functions of the positions of the electrons.\n",
    "    <br>\n",
    "<p>\n",
    "    \n",
    "- ${\\displaystyle {\\hat {K}}_{j}(i)}$ is the exchange operator, defining the quantum effect produced by exchanging two electrons.  \n",
    "\n",
    "$$\\hat{K}_{j}(1) f(1) =\\phi_{j}(1) \\int \\frac{\\phi_{j}^{*}(2) f(2)}{r_{12}} d v_{2}$$\n",
    "\n",
    "The Coulomb operator is multiplied by two since there are two electrons in each occupied orbital. The exchange operator is not multiplied by two since it has a non-zero result only for electrons which have the same spin as the i-th electron.\n",
    "\n",
    "<h4 style=\"color: blue\">Roothan equation</h4>\n",
    "The eigenvalue corresponding to the fock operator is the molecular orbital energies, electrons will occupy start from the lowest level, since we are dealing closed shell molecule, each orbital will has 2 or 0 electrons. \n",
    "\n",
    "The Roothaan equations are a representation of the Hartree–Fock equation in a non orthonormal basis set (molecular orbitals represented by linear combination of atomic orbitals), which could be solved in matrix way that computer is good at.\n",
    "\n",
    "$${\\mathbf  {F}}{\\mathbf  {C}}={\\mathbf  {S}}{\\mathbf  {C}}{\\mathbf  {\\epsilon }}$$\n",
    "<p style=\"text-align: center; font-size: 13px; font-family: times\">\n",
    "    <span style=\"font-weight: bold;\"> Note: </span> \n",
    "    F (Fock matrix), S (Overlap matrix) are inputs.<br>\n",
    "    S matrix is fixed, F matrix is changing every iteration because of the improved C.<br>\n",
    "    C (Coefficient matrix) and $\\epsilon_i$ (eigenvalues) are results.\n",
    "    <br>\n",
    "<p>\n",
    "\n",
    "\n",
    "<h4 style=\"color: blue\">Why iterations?</h4>\n",
    "\n",
    "Since the Fock operator depends on the orbitals used to construct the corresponding Fock matrix, the eigenfunctions of the Fock operator are in turn new orbitals, which can be used to construct a new Fock operator. In this way, the Hartree–Fock orbitals are optimized iteratively until the change in total electronic energy falls below a predefined threshold. In this way, a set of self-consistent one-electron orbitals is calculated. The Hartree–Fock electronic wave function is then the Slater determinant constructed from these orbitals. Following the basic postulates of quantum mechanics, the Hartree–Fock wave function can then be used to compute any desired chemical or physical property within the framework of the Hartree–Fock method and the approximations employed."
   ]
  },
  {
   "cell_type": "markdown",
   "metadata": {},
   "source": [
    "---\n",
    "\n",
    "### 4. Why build matrix and how to solve secular equation?\n",
    "Because in this way, computer could solve it efficiently.  \n",
    "\n",
    "<details>\n",
    "<summary>\n",
    "    <span style=\"font-weight: bold; color: red\"> Why build matrix? Click to uncollapse </span> \n",
    "(This part is from <a target=\"_blank\" href=\"https://chem.libretexts.org/Bookshelves/Physical_and_Theoretical_Chemistry_Textbook_Maps/Book%3A_Symmetry_(Vallance)/20%3A_Calculating_Orbital_Energies_and_Expansion_Coefficients\">Calculating Orbital Energies and Expansion Coefficients - Chemistry LibreTexts</a>\n",
    "</summary>\n",
    "\n",
    "Solving secular equation is actually calculating orbital energies and coefficients based on **variation principle**, which states that any approximate wavefunction must have a higher energy than the true wavefunction. \n",
    "(This part is from [Calculating Orbital Energies and Expansion Coefficients - Chemistry LibreTexts](https://chem.libretexts.org/Bookshelves/Physical_and_Theoretical_Chemistry_Textbook_Maps/Book%3A_Symmetry_(Vallance)/20%3A_Calculating_Orbital_Energies_and_Expansion_Coefficients) .)\n",
    "\n",
    "Let's ignore the coulomb $\\hat J$ and exchange $\\hat K$ operator in fock operator, what's left is one electron Hamiltonian core operator $\\hat H_{core}$. So how to calculate eigenvalue of Hamiltonian core operator and it's corresponding wavefunction of Helium with double zeta basis?   \n",
    "(Fock operator could be used as the same way.)\n",
    "\n",
    "$$\n",
    "E=\\frac{\\langle\\phi|\\hat{H}| \\phi\\rangle}{\\langle\\phi | \\phi\\rangle}\n",
    "$$\n",
    "Where \n",
    "$$\\phi = c_{1} \\chi_1 + c_{2} \\chi_2 \\quad \\text{(unnormalized)} $$\n",
    "Plug in $\\phi$ and expand\n",
    "\n",
    "$$\n",
    "\\begin{aligned} E &=\\frac{\\left\\langle c_{1} \\chi_{1}+c_{2} \\chi_{2}|\\hat{H}| c_{1} \\chi_{1}+c_{2} \\chi_{2}\\right\\rangle}{\\left\\langle c_{1} \\chi_{1}+c_{2} \\chi_{2} | c_{1} \\chi_{1}+c_{2} \\chi_{2}\\right\\rangle} \\\\ &=\\frac{\\left\\langle c_{1} \\chi_{1}|\\hat{H}| c_{1} \\chi_{1}\\right\\rangle+\\left\\langle c_{1} \\chi_{1}|\\hat{H}| c_{2} \\chi_{2}\\right\\rangle+\\left\\langle c_{2} \\chi_{2}|\\hat{H}| c_{1} \\chi_{1}\\right\\rangle+\\left\\langle c_{2} \\chi_{2}|\\hat{H}| c_{2} \\chi_{2}\\right\\rangle}{\\left\\langle c_{1} \\chi_{1}| c_{1}\\chi_{1}\\right\\rangle+\\left\\langle c_{1} \\chi_{1}| c_{2} \\chi_{2}\\right\\rangle+\\left\\langle c_{2} \\chi_{2} | c_{1} \\chi_{1}\\right\\rangle+\\left\\langle c_{2} \\chi_{2} | c_{2} \\chi_{2}\\right\\rangle} \\\\ &=\\frac{c_{1}^{2}\\left\\langle\\chi_{1}|\\hat{H}| \\chi_{1}\\right\\rangle+ c_{1} c_{2}\\left\\langle\\chi_{1}|\\hat{H}| \\chi_{2}\\right\\rangle+ c_{2} c_{1}\\left\\langle\\chi_{2}|\\hat{H}| \\chi_{1}\\right\\rangle+ c_{2}^{2}\\left\\langle\\chi_{2}|\\hat{H}| \\chi_{2}\\right\\rangle}{c_{1}^{2}\\left\\langle\\chi_{1} | \\chi_{1}\\right\\rangle+ c_{1} c_{2}\\left\\langle\\chi_{1} | \\chi_{2}\\right\\rangle+ c_{2} c_{1}\\left\\langle\\chi_{2} | \\chi_{1}\\right\\rangle+ c_{2}^{2}\\left\\langle  \\chi_{2}|\\chi_{2}\\right\\rangle} \\end{aligned}\n",
    "$$\n",
    "\n",
    "If define\n",
    "$$\n",
    "H_{i j}=\\left\\langle\\chi_{i}|\\hat{H}| \\chi_{j}\\right\\rangle\n",
    "\\quad and \\quad \n",
    "S_{i j}=\\left\\langle\\chi_{i} | \\chi_{j}\\right\\rangle \n",
    "\\tag {Eq3}\n",
    "$$\n",
    "<p style=\"text-align: center; font-size: 13px; font-family: times\">\n",
    "    <span style=\"font-weight: bold; color:red\"> Note: This is where H matrix (same to Fock matrix) and S matrix comes from!</span> We will come build these matrix at part 5.\n",
    "    <br>\n",
    "<p>\n",
    "and note that  $H_{ij}  =  H_{j}$  and  $S_{ij}  =  S_{ji}$ , \n",
    "\n",
    "$$\n",
    "E=\\frac{c_{1}^{2} H_{11}+2 c_{1} c_{2} H_{12}+c_{2}^{2} H_{22}}{c_{1}^{2} S_{11}+2 c_{1} c_{2} S_{12}+c_{2}^{2} S_{22}}\n",
    "$$\n",
    "\n",
    "\n",
    "$$\n",
    "E\\left(c_{1}^{2} S_{11}+2 c_{1} c_{2} S_{12}+c_{2}^{2} S_{22}\\right)=c_{1}^{2} H_{11}+2 c_{1} c_{2} H_{12}+c_{2}^{2} H_{22}\n",
    "$$\n",
    "\n",
    "To minimize the energy with respect to  c1  and  c2,  we require\n",
    "\n",
    "$$\n",
    "\\frac{\\partial E}{\\partial c_{1}}=0\n",
    "\\quad and \\quad\n",
    "\\frac{\\partial E}{\\partial c_{2}}=0\n",
    "$$\n",
    "\n",
    "If we differentiate the above equation through separately by  c1  and  c2  and apply this condition, we will end up with two equations in the two unknowns  c1  and  c2 , which we can solve to determine the coefficients and the energy.\n",
    "\n",
    "$$\n",
    "\\begin{array}{l}{E\\left(2 c_{1} S_{11}+2 c_{2} S_{12}\\right)=2 c_{1} H_{11}+2 c_{2} H_{12}} \\\\ {E\\left(2 c_{1} S_{12}+2 c_{2} S_{22}\\right)=2 c_{1} H_{12}+2 c_{2} H_{22}}\\end{array}\n",
    "$$\n",
    "\n",
    "These are normally rewritten slightly, in the form\n",
    "$$\n",
    "\\begin{array}{l}{c_{1}\\left(H_{11}-E S_{11}\\right)+c_{2}\\left(H_{12}-E S_{12}\\right)=0} \\\\ {c_{1}\\left(H_{12}-E S_{12}\\right)+c_{2}\\left(H_{22}-E S_{22}\\right)=0}\\end{array} \\tag{Eq4}\n",
    "$$\n",
    "Write this in matrix form gives\n",
    "$$\n",
    "\\left(\\begin{array}{cc}{H_{11}-E S_{11}} & {H_{12}-E S_{12}} \\\\ {H_{12}-E S_{12}} & {H_{22}-E S_{22}}\\end{array}\\right)\\left(\\begin{array}{c}{c_{1}} \\\\ {c_{2}}\\end{array}\\right)=\\left(\\begin{array}{l}{0} \\\\ {0}\\end{array}\\right)\n",
    "$$\n",
    "For the equations to have a solution, the determinant of the matrix must be equal to zero. Which means\n",
    "$$\n",
    "\\left(H_{11}-E\\right)\\left(H_{22}-E\\right)-\\left(H_{12}-E S_{12}\\right)^{2}=0\n",
    "$$\n",
    "Now, there is only one unkown variable E, solve the equation will commonly give us two E (eigenvalue).  \n",
    "And put this two E back to Eq4 will give us two set of (c1, c2), which corresponding to \n",
    "$$\\phi_1 = c_{11} \\chi_1 + c_{21} \\chi_2 \\quad (\\varepsilon_{1})$$\n",
    "$$\\phi_2 = c_{12} \\chi_1 + c_{22} \\chi_2 \\quad (\\varepsilon_{2})$$\n",
    "</details>"
   ]
  },
  {
   "cell_type": "markdown",
   "metadata": {},
   "source": [
    "Thanks for powerful scipy, secular equation could be solved simply by calling  \n",
    "`eigenvalue, C = scipy.linalg.eigh(H, S)`"
   ]
  },
  {
   "cell_type": "code",
   "execution_count": 5,
   "metadata": {
    "ExecuteTime": {
     "end_time": "2019-11-18T21:39:22.919377Z",
     "start_time": "2019-11-18T21:39:22.907722Z"
    }
   },
   "outputs": [
    {
     "name": "stdout",
     "output_type": "stream",
     "text": [
      "[-1.97961968  1.03859384]\n",
      "[[-0.66167682  1.70635833]\n",
      " [-0.37818627 -1.79065634]]\n"
     ]
    }
   ],
   "source": [
    "# H and S are calculated from next part\n",
    "H = np.array([[-1.85073991, -1.88346692], \n",
    "              [-1.88346692, -1.58510327]])\n",
    "S = np.array([[1.        , 0.83752358],\n",
    "              [0.83752358, 1.        ]])\n",
    "\n",
    "e, Co = scipy.linalg.eigh(H, S)\n",
    "\n",
    "print(e)\n",
    "print(Co)"
   ]
  },
  {
   "cell_type": "markdown",
   "metadata": {},
   "source": [
    "Let's test if whether the eigenvalue and coefficient satisfy Eq4.   \n",
    "Note: `[-0.66167682, -0.37818627]` is the eigenvector corresponding to eigenvalue `-1.97961968`  \n",
    "`[1.70635833, -1.79065634]` is the eigenvector corresponding to eigenvalue `1.03859384`  \n",
    "The result below $e^{-17}$ and $e^{-16}$ are so close to 0, there is no much difference with 0."
   ]
  },
  {
   "cell_type": "code",
   "execution_count": 6,
   "metadata": {
    "ExecuteTime": {
     "end_time": "2019-11-18T21:39:23.458233Z",
     "start_time": "2019-11-18T21:39:23.449378Z"
    }
   },
   "outputs": [
    {
     "name": "stdout",
     "output_type": "stream",
     "text": [
      "2.7755575615628914e-17\n",
      "8.881784197001252e-16\n"
     ]
    }
   ],
   "source": [
    "tmp1 = Co[0, 0] * (H[0, 0] - e[0] * S[0, 0]) + Co[1, 0] * (H[0, 1] - e[0] * S[0, 1])\n",
    "tmp2 = Co[0, 1] * (H[0, 1] - e[1] * S[0, 1]) + Co[1, 1] * (H[1, 1] - e[1] * S[1, 1])\n",
    "print(tmp1)\n",
    "print(tmp2)"
   ]
  },
  {
   "cell_type": "markdown",
   "metadata": {},
   "source": [
    "### 5. How to build matrix\n",
    "\n",
    "<font color=red>Note: </font>  To avoid confusion, letters `r`, `s`, `t`, `u` are used to label matrix element and the basis functions $\\chi$, and the letters `i`, `j` are used to label the MOs $\\phi$.\n",
    "\n",
    "Back to Eq3, $H_{rs}$ in H matrix and $S_{rs}$ in S matrix are defined as \n",
    "$$\n",
    "H_{r s}=\\left\\langle\\chi_{r}|\\hat{H}| \\chi_{s}\\right\\rangle\n",
    "\\quad and \\quad \n",
    "S_{r s}=\\left\\langle\\chi_{r} | \\chi_{s}\\right\\rangle \n",
    "$$\n",
    "\n",
    "<h4 style=\"color: blue\">(a) Hamiltonian core matrix H </h4>\n",
    "\n",
    "Where Hamiltonian core operator $\\hat H$ is \n",
    "$$\\hat{H}^{\\mathrm{core}}_i \\equiv-\\frac{1}{2} \\nabla_{i}^{2}-\\sum_{\\alpha} \\frac{Z_{\\alpha}}{r_{i \\alpha}}$$\n",
    "\n",
    "$$H_{r s}=\\left\\langle\\chi_{r}|\\hat{H}| \\chi_{s}\\right\\rangle\n",
    "\\quad $$\n",
    "\n",
    "$$=\\int_{0}^\\infty \\chi_r \\hat{H} \\chi_s \\; 4\\pi r^2dr$$\n",
    "\n",
    "$$= \\int_{0}^\\infty \\chi_r ((-\\dfrac{1}{2}) \\nabla^2 -\\sum_{\\alpha} \\frac{Z_{\\alpha}}{r_{i \\alpha}})\\chi_s \\; 4\\pi r^2 dr$$\n"
   ]
  },
  {
   "cell_type": "markdown",
   "metadata": {},
   "source": [
    "Where $\n",
    "{\\text { Laplace operator: } \\nabla^{2}} {=\\frac{1}{r^{2}} \\frac{\\partial}{\\partial r}\\left(r^{2} \\frac{\\partial f}{\\partial r}\\right)=\\frac{1}{r} \\frac{\\partial^{2}}{\\partial r^{2}}(r f)}$\n",
    "(For wavefunction which only has radial part.)  \n",
    "\n",
    "And since we are calculating atom, there is only one nuclear $\\alpha$\n",
    "\n",
    "$$\\therefore H_{rs}= \\int_{0}^\\infty \\chi_r ((-\\dfrac{1}{2}) \\dfrac{1}{r} \\dfrac{\\partial}{\\partial r} \\dfrac{\\partial}{\\partial r} r \\chi_s - \\dfrac{Z_{\\alpha}}{r} \\chi_s )4\\pi r^2 dr$$  \n",
    "\n",
    "Let's write this in sympy.  \n",
    "For easy reading, the code below seperate equation above into\n",
    "$ H_{rs}= \\int_{0}^\\infty \\chi_r (T - V )4\\pi r^2 dr$  "
   ]
  },
  {
   "cell_type": "code",
   "execution_count": 7,
   "metadata": {
    "ExecuteTime": {
     "end_time": "2019-11-18T21:39:24.224451Z",
     "start_time": "2019-11-18T21:39:24.219965Z"
    }
   },
   "outputs": [],
   "source": [
    "def H_int(fr, fs, Z):\n",
    "    \"\"\"\n",
    "    Compute H_core integral between two STO functions.\n",
    "    H_core = electron kinetics energy + electron nuclear potential energy\n",
    "\n",
    "    INPUT:\n",
    "    Z: Nuclear charge\n",
    "    \"\"\"\n",
    "    T = - ((1 / 2) * (1 / r) * diff(diff(r * fs, r), r))\n",
    "    V = - (Z / r) * fs\n",
    "    return sp.integrate(fr * (T + V) * 4 * sp.pi * r * r, (r, 0, +oo))"
   ]
  },
  {
   "cell_type": "markdown",
   "metadata": {},
   "source": [
    "`H_int` function calculate $H_{rs}$ element in H matrix. To build H matrix, we just need to go over `r` from (1, 2, 3 ... num_bfs), and go over `s` also from (1, 2, 3 ... num_bfs), where `num_bfs` is number of basis functions, we will see this more at below."
   ]
  },
  {
   "cell_type": "code",
   "execution_count": 8,
   "metadata": {
    "ExecuteTime": {
     "end_time": "2019-11-18T21:39:24.816269Z",
     "start_time": "2019-11-18T21:39:24.803528Z"
    }
   },
   "outputs": [],
   "source": [
    "def H_matrix(bfs, Z):\n",
    "    \"\"\"\n",
    "    Compute the core hamiltonian matrix H.\n",
    "    H_core = electron kinetics energy + electron nuclear potential energy\n",
    "\n",
    "    INPUT:\n",
    "        bfs: basis functions\n",
    "        Z: nuclear charge\n",
    "    OUTPUT:\n",
    "        H: core hamiltonian matrix\n",
    "    \"\"\"\n",
    "    num_bfs = len(bfs)\n",
    "    H = np.zeros((num_bfs, num_bfs))\n",
    "\n",
    "    for r in range(num_bfs):\n",
    "        for s in range(num_bfs):\n",
    "            H[r, s] = H_int(bfs[r], bfs[s], Z)\n",
    "\n",
    "    return H"
   ]
  },
  {
   "cell_type": "markdown",
   "metadata": {
    "ExecuteTime": {
     "end_time": "2019-11-16T23:46:32.213610Z",
     "start_time": "2019-11-16T23:46:32.193048Z"
    }
   },
   "source": [
    "<h4 style=\"color: blue\">(b) Overlap matrix S </h4>\n",
    "\n",
    "If you understand H matrix, S (Overlap) matrix will be very easy.\n",
    "\n",
    "$$S_{rs} = \\int_{0}^\\infty \\chi_r^* \\chi_s  \\; 4 \\pi r^2dr$$"
   ]
  },
  {
   "cell_type": "code",
   "execution_count": 9,
   "metadata": {
    "ExecuteTime": {
     "end_time": "2019-11-18T21:39:25.430921Z",
     "start_time": "2019-11-18T21:39:25.425617Z"
    }
   },
   "outputs": [],
   "source": [
    "def S_int(fr, fs):\n",
    "    \"\"\"\n",
    "    Compute overlap integral between two STO functions.\n",
    "    \"\"\"\n",
    "    return sp.integrate(fr * fs * 4 * sp.pi * r * r, (r, 0, +oo))"
   ]
  },
  {
   "cell_type": "code",
   "execution_count": 10,
   "metadata": {
    "ExecuteTime": {
     "end_time": "2019-11-18T21:39:25.742399Z",
     "start_time": "2019-11-18T21:39:25.737856Z"
    }
   },
   "outputs": [],
   "source": [
    "def S_matrix(bfs):\n",
    "    \"\"\"\n",
    "    Compute overlap matrix S.\n",
    "\n",
    "    INPUT:\n",
    "        fs: basis functions\n",
    "    OUTPUT:\n",
    "        S: Overlap matrix\n",
    "    \"\"\"\n",
    "    num_bfs = len(bfs)\n",
    "    S = np.zeros((num_bfs, num_bfs))\n",
    "\n",
    "    for r in range(num_bfs):\n",
    "        for s in range(num_bfs):\n",
    "            S[r, s] = S_int(bfs[r], bfs[s])\n",
    "\n",
    "    return S"
   ]
  },
  {
   "cell_type": "markdown",
   "metadata": {},
   "source": [
    "<h4 style=\"color: blue\">(c) Fock matrix F </h4>\n",
    "<h4 style=\"color: green\">Fock matrix F = H matrix + G matrix </h4>\n",
    "\n",
    "Fock matrix could be generated similarly like H, where Fock operator is \n",
    "$$\\hat{F}(i)=\\hat{H}_{core}(i)+\\sum_{j=1}^{n / 2}\\left[2 \\hat{J}_{j}(i)-\\hat{K}_{j}(i)\\right]$$\n",
    "\n",
    "The second term is often denoted as $\\hat G$.\n",
    "\n",
    "$$\\hat{F}(i)=\\hat{H}_{core}(i)+\\hat G$$\n",
    "\n",
    "Because we already have **H matrix** above, so we only need to build **G matrix**, add them together will generate **Fock matrix**. \n",
    "\n",
    "<h4 style=\"color: green\">G matrix </h4>\n",
    "\n",
    "The defination of $J$ (Coulomb operator) and $K$ (exchange operator) are. (1) (2) below simple means they are different electron.\n",
    "\n",
    "$$\n",
    "\\begin{aligned} \\hat{J}_{j}(1) f(1) &=f(1) \\int\\left|\\phi_{j}(2)\\right|^{2} \\frac{1}{r_{12}} d v_{2} \\\\ \\hat{K}_{j}(1) f(1) &=\\phi_{j}(1) \\int \\frac{\\phi_{j}^{*}(2) f(2)}{r_{12}} d v_{2} \\end{aligned}\n",
    "$$\n",
    "\n",
    "<p style=\"text-align: center; font-size: 13px; font-family: times\">\n",
    "    <span style=\"font-weight: bold;\"> Note: </span> \n",
    "    ${\\displaystyle f(1)}$, ${\\displaystyle f(2)}$ are the one-electron wavefunctions acted upon by the exchange operator as functions of the electron positions,<br> and ${\\displaystyle \\phi _{j}(1)}$ and ${\\displaystyle \\phi _{j}(2)}$ are the one-electron wavefunction of the jth electron as functions of the positions of the electrons.\n",
    "    <br>\n",
    "<p>\n",
    "\n",
    "\n",
    "Let's see the result first, we will walk through an example ($G_{12}$ of helium) below explain how to get here. (Basically, it's just expand $\\phi_i$ into linear combination of the basis functions.)\n",
    "$$\n",
    "\\left\\langle\\chi_{r}(1) | \\hat{J}_{j}(1) \\chi_{s}(1)\\right\\rangle=\\sum_{t} \\sum_{u} c_{t j}^{*} c_{u j} \\iint \\frac{\\chi_{r}^{*}(1) \\chi_{s}(1) \\chi_{t}^{*}(2) \\chi_{u}(2)}{r_{12}} d v_{1} d v_{2}\n",
    "$$\n",
    "$$\n",
    "\\left\\langle\\chi_{r}(1) | \\hat{K}_{j}(1) \\chi_{s}(1)\\right\\rangle=\\sum_{t} \\sum_{u} c_{t j}^{*} c_{u j} \\iint \\frac{\\chi_{r}^{*}(1) \\chi_{u}(1) \\chi_{t}^{*}(2) \\chi_{s}(2)}{r_{12}} d v_{1} d v_{2}\n",
    "$$\n",
    "If define\n",
    "\n",
    "$$\n",
    "(r s | t u) \\equiv \\iint \\frac{\\chi_{r}^{*}(1) \\chi_{s}(1) \\chi_{t}^{*}(2) \\chi_{u}(2)}{r_{12}} d v_{1} d v_{2}\n",
    "$$\n",
    "\n",
    "It could be rewritten as\n",
    "$$\n",
    "\\left\\langle\\chi_{r}(1) | \\hat{J}_{j}(1) \\chi_{s}(1)\\right\\rangle=\\sum_{t=1}^{b} \\sum_{u=1}^{b} c_{t j}^{*} c_{u j}(r s | t u)\n",
    "$$\n",
    "\n",
    "$$\n",
    "\\left\\langle\\chi_{r}(1) | \\hat{K}_{j}(1) \\chi_{s}(1)\\right\\rangle=\\sum_{t=1}^{b} \\sum_{u=1}^{b} c_{t j}^{*} c_{u j}(r u | t s)\n",
    "$$\n",
    "And final $G_{rs}$ will be\n",
    "$$\n",
    "G_{r s}=\\sum_{t=1}^{b} \\sum_{u=1}^{b} \\sum_{j=1}^{n / 2} c_{t j}^{*} c_{u j}[2(r s | t u)-(r u | t s)]\n",
    "$$"
   ]
  },
  {
   "cell_type": "markdown",
   "metadata": {
    "ExecuteTime": {
     "end_time": "2019-11-17T02:31:33.798505Z",
     "start_time": "2019-11-17T02:31:33.787851Z"
    }
   },
   "source": [
    "<details>\n",
    "<summary>\n",
    "    <span style=\"font-weight: bold; color: red\"> Example: </span>  <br>\n",
    "Let's take  $G_{12}$ element in G matrix (Helium atom) as an example to see how this comes out. (click to uncollapse)\n",
    "</summary>\n",
    "\n",
    "\n",
    "$$G_{r s}=\\left\\langle\\chi_{r}|\\hat{G}| \\chi_{s}\\right\\rangle$$\n",
    "$$G_{1 2}=\\left\\langle\\chi_{1}|\\hat{G}| \\chi_{2}\\right\\rangle$$\n",
    "\n",
    "$$G_{1 2}= \\sum_{j=1}^{n / 2} \\left\\langle\\chi_{1}|2 \\hat{J}_{j}(i)-\\hat{K}_{j}(i)| \\chi_{2}\\right\\rangle$$\n",
    "\n",
    "For helium atom, num of electron (n) is 2, there is only one 1s orbital.\n",
    "\n",
    "$$G_{1 2}= \\left\\langle\\chi_{1}|2 \\hat{J}_{j}(i)-\\hat{K}_{j}(i)| \\chi_{2}\\right\\rangle$$\n",
    "$$G_{1 2}= 2\\left\\langle\\chi_{1}| \\hat{J}_{j}(i)| \\chi_{2}\\right\\rangle - \\left\\langle\\chi_{1}|\\hat{K}_{j}(i)| \\chi_{2}\\right\\rangle$$\n",
    "\n",
    "Let's do $\\left\\langle\\chi_{1}| \\hat{J}_{j}(i)| \\chi_{2}\\right\\rangle$ first    \n",
    "\n",
    "$$\\left\\langle\\chi_{1}(1)| \\hat{J}_{1}| \\chi_{2}(1)\\right\\rangle $$  \n",
    "$$= \\left\\langle\\chi_{1}(1)| \\;\\;\\; \\int \\frac{\\left|\\phi_1(2)\\right|^{2}}{r_{12}} d v_{2} \\;\\;\\;  | \\chi_{2}(1)\\right\\rangle $$  \n",
    "$$\n",
    "= \\int \\int \\frac{\\phi_1(2)^*\\phi_1(2) \\chi (1)^* \\chi (1)}{r_{12}} d v_{2}d v_{1}\n",
    "$$\n",
    "\n",
    "$$\n",
    "= \\int \\int \\frac{[c_{11}\\chi_{1}^*(2) + c_{21}\\chi_{2}^*(2)][c_{11}\\chi_{1}(2) + c_{21}\\chi_{2}(2)] \\chi (1)^* \\chi (1)}{r_{12}} d v_{2}d v_{1}\n",
    "$$\n",
    "\n",
    "\n",
    "$$\n",
    "= \\int \\int \\frac{c_{11}\\chi_{1}^*(2)c_{11}\\chi_{1}(2) \\chi (1)^* \\chi (1)}{r_{12}} d v_{2}d v_{1}\n",
    "+ \\int \\int \\frac{c_{11}\\chi_{1}^*(2)c_{21}\\chi_{2}(2) \\chi (1)^* \\chi (1)}{r_{12}} d v_{2}d v_{1}\n",
    "$$\n",
    "$$\n",
    "+ \\int \\int \\frac{c_{21}\\chi_{2}^*(2)c_{11}\\chi_{1}(2) \\chi (1)^* \\chi (1)}{r_{12}} d v_{2}d v_{1}\n",
    "+ \\int \\int \\frac{c_{21}\\chi_{2}^*(2)c_{21}\\chi_{2}(2) \\chi (1)^* \\chi (1)}{r_{12}} d v_{2}d v_{1}\n",
    "$$\n",
    "\n",
    "Use \n",
    "$\n",
    "(r s | t u) \\equiv \\iint \\frac{\\chi_{r}^{*}(1) \\chi_{s}(1) \\chi_{t}^{*}(2) \\chi_{u}(2)}{r_{12}} d v_{1} d v_{2}\n",
    "$ to simplify the representation.\n",
    "\n",
    "$$\n",
    "\\left\\langle\\chi_{1}| \\hat{J}_{j}(i)| \\chi_{2}\\right\\rangle\n",
    "= c_{11}c_{11}(1 2 | 1 1) + c_{11}c_{21}(1 2 | 1 2) + c_{21}c_{11}(1 2 | 2 1) + c_{21}c_{21}(1 2 | 2 2)\n",
    "$$\n",
    "$$\n",
    "=\\sum_{t=1}^{2} \\sum_{u=1}^{2} \\sum_{j=1}^{2 / 2} c_{t j}^{*} c_{u j} (1 \\;2 | t \\;u)\n",
    "$$\n",
    "\n",
    "Similar $\\left\\langle\\chi_{1}| \\hat{K}_{j}(i)| \\chi_{2}\\right\\rangle$ could also be inferred, \n",
    "$$\n",
    "\\left\\langle\\chi_{1}| \\hat{K}_{j}(i)| \\chi_{2}\\right\\rangle\n",
    "= c_{11}c_{11}(1 1 | 1 2) + c_{11}c_{21}(1 2 | 1 2) + c_{21}c_{11}(1 1 | 2 2) + c_{21}c_{21}(1 2 | 2 2)\n",
    "$$\n",
    "$$\n",
    "=\\sum_{t=1}^{2} \\sum_{u=1}^{2} \\sum_{j=1}^{2 / 2} c_{t j}^{*} c_{u j} (1 \\;u | t \\;2)\n",
    "$$\n",
    "\n",
    "So $G_{1 2}$ is \n",
    "$$G_{1 2}= \\left\\langle\\chi_{1}|2 \\hat{J}_{j}(i)-\\hat{K}_{j}(i)| \\chi_{2}\\right\\rangle$$\n",
    "$$\n",
    "=\\sum_{t=1}^{2} \\sum_{u=1}^{2} \\sum_{j=1}^{2 / 2} c_{t j}^{*} c_{u j}[2(1 \\;2 | t \\;u)-(1\\; u | t \\;2)]\n",
    "$$\n",
    "\n",
    "</details>"
   ]
  },
  {
   "cell_type": "markdown",
   "metadata": {},
   "source": [
    "Build G matrix in python\n",
    "\n",
    "recall $G_{rs}$ is\n",
    "$$\n",
    "G_{r s}=\\sum_{t=1}^{b} \\sum_{u=1}^{b} \\sum_{j=1}^{n / 2} c_{t j}^{*} c_{u j}[2(r s | t u)-(r u | t s)]\n",
    "$$\n",
    "\n",
    "If define $P_{rs}$ (density matrix) as \n",
    "$$\n",
    "P_{t u} \\equiv 2 \\sum_{j=1}^{n / 2} c_{t j}^{*} c_{u j}, \\quad t=1,2, \\ldots, b, \\quad u=1,2, \\ldots, b\n",
    "$$\n",
    "\n",
    "Then $G_{rs}$ could be simplified again as \n",
    "$$\n",
    "G_{r s}=\\sum_{t=1}^{b} \\sum_{u=1}^{b} P_{t u}\\left[(r s | t u)-\\frac{1}{2}(r u | t s)\\right]\n",
    "$$"
   ]
  },
  {
   "cell_type": "markdown",
   "metadata": {},
   "source": [
    "If we built a matrix **R** which is 4 dimension, and save all the posible $(r s | t u)$, then we could build G matrix like below."
   ]
  },
  {
   "cell_type": "code",
   "execution_count": 11,
   "metadata": {
    "ExecuteTime": {
     "end_time": "2019-11-18T21:39:27.304275Z",
     "start_time": "2019-11-18T21:39:27.297301Z"
    }
   },
   "outputs": [],
   "source": [
    "def G_matrix(P, R):\n",
    "    \"\"\"\n",
    "    Compute G matrix.\n",
    "    G =  coulombic repulsion energy + exchange energy\n",
    "\n",
    "    INPUT:\n",
    "        P: density matrix\n",
    "        R: electron repulsion matrix\n",
    "    OUTPUT:\n",
    "        G: repulsion matrix\n",
    "    \"\"\"\n",
    "    num_bfs = P.shape[0]\n",
    "    G = np.zeros((num_bfs, num_bfs))\n",
    "\n",
    "    for r in range(num_bfs):\n",
    "        for s in range(num_bfs):\n",
    "            g = 0\n",
    "            for t in range(num_bfs):\n",
    "                for u in range(num_bfs):\n",
    "                    int1 = R[r, s, t, u]\n",
    "                    int2 = R[r, u, t, s]\n",
    "                    g += P[t, u] * (int1 - 0.5 * int2)\n",
    "            G[r, s] = g\n",
    "\n",
    "    return G"
   ]
  },
  {
   "cell_type": "markdown",
   "metadata": {},
   "source": [
    "<h4 style=\"color: green\">P matrix </h4>\n",
    "\n",
    "And also P (density) matrix\n",
    "$$\n",
    "P_{t u} \\equiv 2 \\sum_{j=1}^{n / 2} c_{t j}^{*} c_{u j}, \\quad t=1,2, \\ldots, b, \\quad u=1,2, \\ldots, b\n",
    "$$"
   ]
  },
  {
   "cell_type": "code",
   "execution_count": 12,
   "metadata": {
    "ExecuteTime": {
     "end_time": "2019-11-18T21:39:27.989772Z",
     "start_time": "2019-11-18T21:39:27.983154Z"
    }
   },
   "outputs": [],
   "source": [
    "def P_matrix(Co, N):\n",
    "    \"\"\"\n",
    "    Compute density matrix P.\n",
    "\n",
    "    INPUT:\n",
    "        Co: coefficents matrix\n",
    "        N: num of electrons\n",
    "    OUTPUT:\n",
    "        P: repulsion matrix\n",
    "    \"\"\"\n",
    "    P = np.zeros([Co.shape[0], Co.shape[0]])\n",
    "\n",
    "    for t in range(Co.shape[0]):\n",
    "        for u in range(Co.shape[0]):\n",
    "            for j in range(int(N/2)):\n",
    "                P[t, u] += 2 * Co[t, j] * Co[u, j]\n",
    "    return P"
   ]
  },
  {
   "cell_type": "markdown",
   "metadata": {
    "ExecuteTime": {
     "end_time": "2019-11-17T01:14:10.661943Z",
     "start_time": "2019-11-17T01:14:10.654184Z"
    }
   },
   "source": [
    "<h4 style=\"color: green\">R matrix </h4>\n",
    "\n",
    "R matrix (4 dimenstion), which is the most computation-expensive part in hartree-fock method. (In principle, there are a lot of elements in R matrix are equal by symmetry, but for code simplicity, we didn't implemented this.)"
   ]
  },
  {
   "cell_type": "code",
   "execution_count": 13,
   "metadata": {
    "ExecuteTime": {
     "end_time": "2019-11-18T21:39:28.716995Z",
     "start_time": "2019-11-18T21:39:28.708282Z"
    }
   },
   "outputs": [],
   "source": [
    "def R_matrix(bfs):\n",
    "    \"\"\"\n",
    "    Compute the electron repulsion integral matrix R.\n",
    "\n",
    "    INPUT:\n",
    "        fs: basis functions\n",
    "    OUTPUT:\n",
    "        R: repulsion matrix\n",
    "    \"\"\"\n",
    "    start = time.time()\n",
    "    num_bfs = len(bfs)\n",
    "    R = np.zeros((num_bfs, num_bfs, num_bfs, num_bfs))\n",
    "\n",
    "    for r in range(num_bfs):\n",
    "        for s in range(num_bfs):\n",
    "            for t in range(num_bfs):\n",
    "                for u in range(num_bfs):\n",
    "                    R[r, s, t, u] = R_int([bfs[r], bfs[s], bfs[t], bfs[u]])\n",
    "\n",
    "    stop = time.time()\n",
    "    print('time Repu: {:.1f} s'.format(stop-start))\n",
    "    return R"
   ]
  },
  {
   "cell_type": "markdown",
   "metadata": {
    "ExecuteTime": {
     "end_time": "2019-11-17T01:17:53.730961Z",
     "start_time": "2019-11-17T01:17:53.724470Z"
    }
   },
   "source": [
    "Recall the element $R_{rstu}$ in R matrix is \n",
    "$$\n",
    "(r s | t u) \\equiv \\iint \\frac{\\chi_{r}^{*}(1) \\chi_{s}(1) \\chi_{t}^{*}(2) \\chi_{u}(2)}{r_{12}} d v_{1} d v_{2}\n",
    "$$\n",
    "\n",
    "For 1s or 2s orbital which only has radial part, this could be calculated approximately in sympy. However, for the orbitals which has angular part, how to solve two-electron Repulsion integral of Slater Type Orbital (STO) is still slow and difficult. This is the main reason why Gaussian Type Orbital (GTO) is more frequently used, and we will try GTO in next chapter.\n",
    "\n",
    "$$(rs|tu)  = \\int_{0}^\\infty \\int_{0}^\\infty \\dfrac{\\chi_r^*(1) \\chi_s(1) \\chi_t^*(2) \\chi_u(2)}{r_{12}} \\; 4 \\pi r_1^2dr_1\\; 4 \\pi r_2^2dr_2  $$\n",
    "\n",
    "$$(rs|tu) = \\int_{0}^\\infty \\chi_r^*(1) \\chi_s(1)  \\; 4 \\pi r_1^2dr_1\\int_{0}^\\infty \\frac{ \\chi_t^*(2) \\chi_u(2)}{r_{12}}\\; 4 \\pi r_2^2dr_2  $$\n",
    "\n",
    "$r_{12}$ here is tricky to deal with, from problem 9.14 in quantum_chemistry by levine\n",
    "\n",
    "$$(rs|tu) = \\int_{0}^\\infty \\chi_r^*(1) \\chi_s(1)  \\; 4 \\pi r_1^2dr_1\\int_{0}^\\infty \\frac{ \\chi_t^*(2) \\chi_u(2)}{r_{>}}\\; 4 \\pi r_2^2dr_2  $$\n",
    "<p style=\"text-align: center; font-size: 13px; font-family: times\">\n",
    "    <span style=\"font-weight: bold;\"> Note: </span> \n",
    "    $r_{>}$ is the larger one between $r1$ and $r2$\n",
    "    <br>\n",
    "<p>\n",
    "$$(rs|tu) = \\int_{0}^\\infty \\chi_r^*(1) \\chi_s(1)  \\; 4 \\pi r_1^2dr_1(\\int_{0}^{r_1} \\frac{ \\chi_t^*(2) \\chi_u(2)}{r_{1}}\\; 4 \\pi r_2^2dr_2 + \\int_{r_1}^\\infty \\frac{ \\chi_t^*(2) \\chi_u(2)}{r_{2}}\\; 4 \\pi r_2^2dr_2)  $$\n",
    "\n",
    "Let$ \\; B= \\int_{0}^{r_1} \\frac{ \\chi_t^*(2) \\chi_u(2)}{r_{1}}\\; 4 \\pi r_2^2dr_2 + \\int_{r_1}^\\infty \\frac{ \\chi_t^*(2) \\chi_u(2)}{r_{2}}\\; 4 \\pi r_2^2dr_2$\n",
    "\n",
    "$$(rs|tu) = \\int_{0}^\\infty \\chi_r^*(1) \\chi_s(1) B \\; 4 \\pi  r_1^2 dr_1  $$\n",
    "\n",
    "So the element $R_{rstu}$ in R matrix could be calculated by"
   ]
  },
  {
   "cell_type": "code",
   "execution_count": 14,
   "metadata": {
    "ExecuteTime": {
     "end_time": "2019-11-18T21:39:29.702699Z",
     "start_time": "2019-11-18T21:39:29.694802Z"
    }
   },
   "outputs": [],
   "source": [
    "def R_int(four_bfs):\n",
    "    \"\"\"\n",
    "    Compute electron-electron repulsion integral.\n",
    "\n",
    "    INPUT:\n",
    "    four_bfs: an array contain 4 basis functions\n",
    "    \"\"\"\n",
    "    f1, f2, f3, f4 = four_bfs\n",
    "\n",
    "    f1 = f1.subs(r, r1)\n",
    "    f2 = f2.subs(r, r1)\n",
    "    f3 = f3.subs(r, r2)\n",
    "    f4 = f4.subs(r, r2)\n",
    "\n",
    "    B = (1 / r1) * sp.integrate(f3 * f4 * 4 * sp.pi * r2 * r2, (r2, 0, r1)) + sp.integrate((1 / r2) * f3 * f4 * 4 * sp.pi * r2 * r2, (r2, r1, +oo))\n",
    "    return sp.integrate(f1 * f2 * 4 * sp.pi * r1 * r1 * B, (r1, 0, +oo))"
   ]
  },
  {
   "cell_type": "markdown",
   "metadata": {},
   "source": [
    "This is basically all the matrixes we will need to use, and <font color=red>we already solved the most difficult part of hartree fock!!</font>  \n",
    "\n",
    "### 6. Secular Equation\n",
    "\n",
    "**Fock matrix** is the sum of **H matrix** and **G matrix**.  \n",
    "F = H + G\n",
    "\n",
    "Then, Roothan equation could be solved simply by calling  \n",
    "`eigenvalue, C = scipy.linalg.eigh(F, S)`  \n",
    "eigenvalues are MO orbital energies.\n",
    "\n",
    "$${\\mathbf  {F}}{\\mathbf  {C}}={\\mathbf  {S}}{\\mathbf  {C}}{\\mathbf  {\\epsilon }}$$\n",
    "<p style=\"text-align: center; font-size: 13px; font-family: times\">\n",
    "    <span style=\"font-weight: bold;\"> Note: </span> \n",
    "    F (Fock matrix), S (Overlap matrix) are inputs.<br>\n",
    "    S matrix is fixed, F matrix is changing every iteration because of the improved C.<br>\n",
    "    C (Coefficient matrix) and $\\epsilon_i$ (eigenvalues) are results.\n",
    "    <br>\n",
    "<p>\n",
    "\n",
    "We could wrap `scipy.linalg.eigh` into a function"
   ]
  },
  {
   "cell_type": "code",
   "execution_count": 15,
   "metadata": {
    "ExecuteTime": {
     "end_time": "2019-11-18T21:39:30.403598Z",
     "start_time": "2019-11-18T21:39:30.399630Z"
    }
   },
   "outputs": [],
   "source": [
    "def secular_eqn(F, S):\n",
    "    \"\"\"\n",
    "    Slove secular equation, return the MO energies (eigenvalue) and improved coeffients (eigenvector)\n",
    "\n",
    "    INPUT:\n",
    "        F: fock matrix or h_core matrix\n",
    "        S: overlap integral\n",
    "    OUTPUT:\n",
    "        ei: eigenvalue\n",
    "        C: eigenvector\n",
    "    \"\"\"\n",
    "    ei, C = scipy.linalg.eigh(F, S)\n",
    "    return ei, C"
   ]
  },
  {
   "cell_type": "markdown",
   "metadata": {},
   "source": [
    "### 7. Total Energy\n",
    "Finally, hartree fock total energy is \n",
    "$$\n",
    "E_{\\mathrm{HF}}=2 \\sum_{i=1}^{n / 2} \\varepsilon_{i}-\\sum_{i=1}^{n / 2} \\sum_{j=1}^{n / 2}\\left(2 J_{i j}-K_{i j}\\right)+V_{N N}\n",
    "$$\n",
    "<p style=\"text-align: center; font-size: 13px; font-family: times\">\n",
    "    <span style=\"font-weight: bold; color: red\"> Note: </span> \n",
    "    i, j are electron (only r, s, t, u are used for matrix element)\n",
    "    <br>\n",
    "<p>\n",
    "\n",
    "Where every term is \n",
    "1. Energy of all the electrons (in closed shell condition, every orbital is doubly-occupied)\n",
    "2. Recall that when we build F operator and calculat electron energy, electron-electron repulsion is counted twice when you sum all the electrons energy. This is the remove the extra count.\n",
    "3. Nuclear-Nuclear repulsion term, which is not included in F operator. (because we are calculating Atom, this term is always 0)\n",
    "\n",
    "half sum of the all the electrons $({n / 2})$ could also be written as \n",
    "$$\n",
    "\\sum_{i=1}^{n / 2} \\varepsilon_{i}=\\sum_{i=1}^{n / 2} H_{i i}^{\\mathrm{core}}+\\sum_{i=1}^{n / 2} \\sum_{j=1}^{n / 2}\\left(2 J_{i j}-K_{i j}\\right)\n",
    "$$\n",
    "\n",
    "So $E_{\\mathrm{HF}}$ could be simplifed as \n",
    "$$\n",
    "E_{\\mathrm{HF}}=\\sum_{i=1}^{n / 2} \\varepsilon_{i}+\\sum_{i=1}^{n / 2} H_{i i}^{\\mathrm{core}}+V_{N N}\n",
    "$$ \n",
    "<p style=\"text-align: center; font-size: 13px; font-family: times\">\n",
    "    <span style=\"font-weight: bold; color: red\"> Note: </span> \n",
    "    i, j are electron (only r, s, t, u are used for matrix element)<br>\n",
    "    H here is not H matrix, which is $\n",
    "H_{i i}^{\\text {core }}=\\left\\langle\\phi_{i}\\left|\\hat{H}^{\\text {core }}\\right| \\phi_{i}\\right\\rangle\n",
    "$\n",
    "    <br>\n",
    "<p>\n",
    "\n",
    "Expand $\\phi_{i}$ into basis functions and simplify, we could calculate total energy using the matrix we have built before.\n",
    "$$\n",
    "E_{\\mathrm{HF}}=\\sum_{i=1}^{n / 2} \\varepsilon_{i}+\\frac{1}{2} \\sum_{r=1}^{b} \\sum_{s=1}^{b} P_{r s} H_{r s}^{\\mathrm{core}}+V_{N N}\n",
    "$$"
   ]
  },
  {
   "cell_type": "code",
   "execution_count": 16,
   "metadata": {
    "ExecuteTime": {
     "end_time": "2019-11-18T21:39:31.050893Z",
     "start_time": "2019-11-18T21:39:31.045024Z"
    }
   },
   "outputs": [],
   "source": [
    "def energy_tot(e, N, P, H, Vnn=0):\n",
    "    \"\"\"\n",
    "    Compute the total energy.\n",
    "\n",
    "    INPUT:\n",
    "    e: MO energies\n",
    "    N: num of electrons\n",
    "    P: density matrix\n",
    "    H: h_core matrix\n",
    "    Vnn: nuclear nuclear repulsion energy, for atom is 0\n",
    "    \"\"\"\n",
    "    e_tot = 0\n",
    "\n",
    "    for i in range(int(N/2)):\n",
    "        e_tot += e[i].real\n",
    "\n",
    "    e_tot = e_tot + 0.5 * (P * H).sum() + Vnn\n",
    "    return e_tot"
   ]
  },
  {
   "cell_type": "markdown",
   "metadata": {
    "ExecuteTime": {
     "end_time": "2019-11-17T17:58:53.611565Z",
     "start_time": "2019-11-17T17:58:53.606125Z"
    }
   },
   "source": [
    "### 8. Utils"
   ]
  },
  {
   "cell_type": "markdown",
   "metadata": {},
   "source": [
    "And also some utils function to print information and compare our result with reference"
   ]
  },
  {
   "cell_type": "code",
   "execution_count": 17,
   "metadata": {
    "ExecuteTime": {
     "end_time": "2019-11-18T21:39:32.284994Z",
     "start_time": "2019-11-18T21:39:32.273100Z"
    }
   },
   "outputs": [],
   "source": [
    "def print_info(S, H, e, Co, P, hf_e, start, stop, delta_e=0, verbose=False):\n",
    "    \"\"\"\n",
    "    Print information while doing SCF interations.\n",
    "    \"\"\"\n",
    "    if(verbose):\n",
    "        # overlap\n",
    "        print('Overlap:')\n",
    "        print(S)\n",
    "\n",
    "        # hamiltonian\n",
    "        print('Core hamiltonian:')\n",
    "        print(H)\n",
    "\n",
    "        # Co\n",
    "        print('Coefficients:')\n",
    "        print(Co)\n",
    "\n",
    "        # density\n",
    "        print('Density matrix:')\n",
    "        print(P)\n",
    "\n",
    "        # MOs\n",
    "        print('MO energies:')\n",
    "        message = ', '\n",
    "        m_list = ['e{} = {:0.3f}'.format(i+1, x) for i, x in enumerate(e)]\n",
    "        message = message.join(m_list)\n",
    "        print(message)\n",
    "\n",
    "    print('HF energy: {:0.5f} (hartree) = {:0.5f} (eV)'.format(hf_e, hf_e*27.211))\n",
    "    if delta_e != 0:\n",
    "        print('dE       : {:.2e}'.format(delta_e))\n",
    "    print('time used: {:.1f} s'.format(stop-start))\n",
    "\n",
    "\n",
    "def compare(cal, ref, tol=1.0e-4):\n",
    "    \"\"\"\n",
    "    Compare calculated result with reference data.\n",
    "    \"\"\"\n",
    "    delta = np.abs(ref - cal)\n",
    "    if delta < tol:\n",
    "        message = '\\33[32m' + 'PASSED' + '\\x1b[0m'\n",
    "    else:\n",
    "        message = '\\033[91m' + 'FAILED' + '\\033[0m'\n",
    "    print('-' * 32, message, '-' * 33)\n",
    "    print('cal: {:.7f}, ref: {:.7f}\\n\\n'.format(cal, ref))"
   ]
  },
  {
   "cell_type": "markdown",
   "metadata": {},
   "source": [
    "### 9. Run Hartree Fock\n",
    "\n",
    "Steps to run hartree fock\n",
    "\n",
    "1. Initialization\n",
    "  - Let Fock matrix = H_core matrix, without considering electron repulsion\n",
    "  - Solve secular equation with H and S to get initial Co (means initial guessed molecular orbitals) and build inital P (density) matrix\n",
    "  - Prepare Repulsion matrix R (take time)\n",
    "2. Iteration\n",
    "  - Using P matrix and R matrix to calculate G matrix\n",
    "  - F matrix = H matrix + G matrix\n",
    "  - Solve secular equation with F and S to get improved Co (means improved molecular orbitals)\n",
    "  - Using improved Co to build improved P matrix\n",
    "  - check whether converged (the change of total energy smaller than converge requirement)"
   ]
  },
  {
   "cell_type": "code",
   "execution_count": 18,
   "metadata": {
    "ExecuteTime": {
     "end_time": "2019-11-18T21:39:33.472759Z",
     "start_time": "2019-11-18T21:39:33.461574Z"
    }
   },
   "outputs": [],
   "source": [
    "def run_hf(bfs, Z):\n",
    "    \"\"\"\n",
    "    Run restricted hartree fock for a single atom.\n",
    "\n",
    "    INPUT:\n",
    "        bfs: basis functions\n",
    "        Z: nuclear charge of the atom\n",
    "    \"\"\"\n",
    "    print('------------------------------', \"Initialization\", '------------------------------')\n",
    "    print('-------------------------', \"Ignore repulsion integral\", '------------------------')\n",
    "    N = Z  # num of electron = nuclear charege (since it's atom)\n",
    "    start = time.time()\n",
    "\n",
    "    # initialization\n",
    "    H = H_matrix(bfs, Z)\n",
    "    S = S_matrix(bfs)\n",
    "    e, Co = secular_eqn(H, S)\n",
    "    P = P_matrix(Co, N)\n",
    "    Vnn = 0  # A single atom does not have nuclear repulsion\n",
    "    hf_e = energy_tot(e, N, P, H, Vnn)\n",
    "\n",
    "    stop = time.time()\n",
    "    print_info(S, H, e, Co, P, hf_e, start, stop, verbose=verbose)\n",
    "    print('-----------', \"Caculating Electron Repulsion Integral (takes time)\", '------------')\n",
    "    R = R_matrix(bfs)\n",
    "    delta_e = 1\n",
    "    ITER = 0\n",
    "    previous_e = hf_e\n",
    "\n",
    "    # Iterations\n",
    "    while(delta_e > E_conv and ITER < MAXITER):\n",
    "        print('------------------------------', \"Iteration\", ITER + 1, '------------------------------')\n",
    "        start = time.time()\n",
    "\n",
    "        # important scf steps\n",
    "        G = G_matrix(P, R)\n",
    "        F = H + G\n",
    "        e, Co = secular_eqn(F, S)\n",
    "        P = P_matrix(Co, N)\n",
    "        hf_e = energy_tot(e, N, P, H, Vnn)\n",
    "\n",
    "        delta_e = np.abs(hf_e - previous_e)\n",
    "        previous_e = hf_e\n",
    "        ITER += 1\n",
    "        stop = time.time()\n",
    "        print_info(S, H, e, Co, P, hf_e, start, stop, delta_e, verbose=verbose)\n",
    "\n",
    "    return hf_e"
   ]
  },
  {
   "cell_type": "markdown",
   "metadata": {},
   "source": [
    "Set converge criterion"
   ]
  },
  {
   "cell_type": "code",
   "execution_count": 19,
   "metadata": {
    "ExecuteTime": {
     "end_time": "2019-11-18T21:39:34.613355Z",
     "start_time": "2019-11-18T21:39:34.609672Z"
    }
   },
   "outputs": [],
   "source": [
    "MAXITER = 40     # Maximum SCF iterations\n",
    "E_conv = 1.0e-6  # Energy convergence criterion\n",
    "verbose = False  # whether to print matrix information while iterating"
   ]
  },
  {
   "cell_type": "markdown",
   "metadata": {},
   "source": [
    "### 10. Test\n",
    "\n",
    "<h4 style=\"color: blue\">Run hartree fock for Helium </h4>"
   ]
  },
  {
   "cell_type": "code",
   "execution_count": 98,
   "metadata": {
    "ExecuteTime": {
     "end_time": "2019-11-19T03:01:59.843709Z",
     "start_time": "2019-11-19T03:01:59.771743Z"
    },
    "scrolled": true
   },
   "outputs": [],
   "source": [
    "def test1():\n",
    "    # Use 2 Slater Type ourbital to represent Helium 1s orbital.\n",
    "    # The final Helium 1s orbital is a linear combination of these two STO.\n",
    "    f1s_1 = STO(zeta=1.45363, n=1)\n",
    "    f1s_2 = STO(zeta=2.91093, n=1)\n",
    "\n",
    "    # all basis functions\n",
    "    fs = [f1s_1, f1s_2]\n",
    "\n",
    "    #  nuclear charge of He\n",
    "    Z = 2\n",
    "\n",
    "    # run hartree fock\n",
    "    hf_e = run_hf(fs, Z)\n",
    "\n",
    "    # compare result with reference\n",
    "    ref_hf_e = -2.8616726\n",
    "    compare(hf_e, ref_hf_e)"
   ]
  },
  {
   "cell_type": "code",
   "execution_count": 21,
   "metadata": {
    "ExecuteTime": {
     "end_time": "2019-11-18T21:39:39.253712Z",
     "start_time": "2019-11-18T21:39:35.764456Z"
    },
    "scrolled": false
   },
   "outputs": [
    {
     "name": "stdout",
     "output_type": "stream",
     "text": [
      "------------------------------ Initialization ------------------------------\n",
      "------------------------- Ignore repulsion integral ------------------------\n",
      "HF energy: -3.95924 (hartree) = -107.73486 (eV)\n",
      "time used: 0.2 s\n",
      "----------- Caculating Electron Repulsion Integral (takes time) ------------\n",
      "time Repu: 3.2 s\n",
      "------------------------------ Iteration 1 ------------------------------\n",
      "HF energy: -2.78457 (hartree) = -75.77099 (eV)\n",
      "dE       : 1.17e+00\n",
      "time used: 0.0 s\n",
      "------------------------------ Iteration 2 ------------------------------\n",
      "HF energy: -2.85860 (hartree) = -77.78532 (eV)\n",
      "dE       : 7.40e-02\n",
      "time used: 0.0 s\n",
      "------------------------------ Iteration 3 ------------------------------\n",
      "HF energy: -2.86152 (hartree) = -77.86490 (eV)\n",
      "dE       : 2.92e-03\n",
      "time used: 0.0 s\n",
      "------------------------------ Iteration 4 ------------------------------\n",
      "HF energy: -2.86167 (hartree) = -77.86877 (eV)\n",
      "dE       : 1.42e-04\n",
      "time used: 0.0 s\n",
      "------------------------------ Iteration 5 ------------------------------\n",
      "HF energy: -2.86167 (hartree) = -77.86896 (eV)\n",
      "dE       : 7.01e-06\n",
      "time used: 0.0 s\n",
      "------------------------------ Iteration 6 ------------------------------\n",
      "HF energy: -2.86167 (hartree) = -77.86897 (eV)\n",
      "dE       : 3.45e-07\n",
      "time used: 0.0 s\n",
      "-------------------------------- \u001b[32mPASSED\u001b[0m ---------------------------------\n",
      "cal: -2.8616726, ref: -2.8616726\n",
      "\n",
      "\n"
     ]
    }
   ],
   "source": [
    "test1()"
   ]
  },
  {
   "cell_type": "markdown",
   "metadata": {},
   "source": [
    "<h4 style=\"color: blue\">Run hartree fock for Beryllium </h4>"
   ]
  },
  {
   "cell_type": "code",
   "execution_count": 22,
   "metadata": {
    "ExecuteTime": {
     "end_time": "2019-11-18T21:39:39.271108Z",
     "start_time": "2019-11-18T21:39:39.256567Z"
    }
   },
   "outputs": [],
   "source": [
    "def test2():\n",
    "    \"\"\"\n",
    "    Test of Be (1s, 2s)\n",
    "    \"\"\"\n",
    "    # Use 2 STO to represent Be 1s orbital and another 2 STO for 2s orbital\n",
    "    # The final 1s orbital is a linear combination of these 4 STO.\n",
    "    # Same for 2s orbital.\n",
    "    f1s_1 = STO(zeta=5.59108, n=1)\n",
    "    f1s_2 = STO(zeta=3.35538, n=1)\n",
    "    f2s_1 = STO(zeta=1.01122, n=2)\n",
    "    f2s_2 = STO(zeta=0.61000, n=2)\n",
    "\n",
    "    # all basis functions\n",
    "    fs = [f1s_1, f1s_2, f2s_1, f2s_2]\n",
    "\n",
    "    # nuclear charge of Be\n",
    "    Z = 4\n",
    "\n",
    "    # run hartree fock\n",
    "    hf_e = run_hf(fs, Z)\n",
    "\n",
    "    # compare result with reference\n",
    "    ref_hf_e = -14.572369\n",
    "    compare(hf_e, ref_hf_e)"
   ]
  },
  {
   "cell_type": "code",
   "execution_count": 23,
   "metadata": {
    "ExecuteTime": {
     "end_time": "2019-11-18T21:40:37.419340Z",
     "start_time": "2019-11-18T21:39:39.274384Z"
    }
   },
   "outputs": [
    {
     "name": "stdout",
     "output_type": "stream",
     "text": [
      "------------------------------ Initialization ------------------------------\n",
      "------------------------- Ignore repulsion integral ------------------------\n",
      "HF energy: -19.51846 (hartree) = -531.11686 (eV)\n",
      "time used: 1.0 s\n",
      "----------- Caculating Electron Repulsion Integral (takes time) ------------\n",
      "time Repu: 56.9 s\n",
      "------------------------------ Iteration 1 ------------------------------\n",
      "HF energy: -14.28744 (hartree) = -388.77544 (eV)\n",
      "dE       : 5.23e+00\n",
      "time used: 0.0 s\n",
      "------------------------------ Iteration 2 ------------------------------\n",
      "HF energy: -14.50425 (hartree) = -394.67518 (eV)\n",
      "dE       : 2.17e-01\n",
      "time used: 0.0 s\n",
      "------------------------------ Iteration 3 ------------------------------\n",
      "HF energy: -14.55105 (hartree) = -395.94867 (eV)\n",
      "dE       : 4.68e-02\n",
      "time used: 0.0 s\n",
      "------------------------------ Iteration 4 ------------------------------\n",
      "HF energy: -14.56616 (hartree) = -396.35976 (eV)\n",
      "dE       : 1.51e-02\n",
      "time used: 0.0 s\n",
      "------------------------------ Iteration 5 ------------------------------\n",
      "HF energy: -14.57061 (hartree) = -396.48075 (eV)\n",
      "dE       : 4.45e-03\n",
      "time used: 0.0 s\n",
      "------------------------------ Iteration 6 ------------------------------\n",
      "HF energy: -14.57187 (hartree) = -396.51521 (eV)\n",
      "dE       : 1.27e-03\n",
      "time used: 0.0 s\n",
      "------------------------------ Iteration 7 ------------------------------\n",
      "HF energy: -14.57223 (hartree) = -396.52493 (eV)\n",
      "dE       : 3.57e-04\n",
      "time used: 0.0 s\n",
      "------------------------------ Iteration 8 ------------------------------\n",
      "HF energy: -14.57233 (hartree) = -396.52766 (eV)\n",
      "dE       : 1.01e-04\n",
      "time used: 0.0 s\n",
      "------------------------------ Iteration 9 ------------------------------\n",
      "HF energy: -14.57236 (hartree) = -396.52843 (eV)\n",
      "dE       : 2.83e-05\n",
      "time used: 0.0 s\n",
      "------------------------------ Iteration 10 ------------------------------\n",
      "HF energy: -14.57237 (hartree) = -396.52865 (eV)\n",
      "dE       : 7.94e-06\n",
      "time used: 0.0 s\n",
      "------------------------------ Iteration 11 ------------------------------\n",
      "HF energy: -14.57237 (hartree) = -396.52871 (eV)\n",
      "dE       : 2.23e-06\n",
      "time used: 0.0 s\n",
      "------------------------------ Iteration 12 ------------------------------\n",
      "HF energy: -14.57237 (hartree) = -396.52872 (eV)\n",
      "dE       : 6.27e-07\n",
      "time used: 0.0 s\n",
      "-------------------------------- \u001b[32mPASSED\u001b[0m ---------------------------------\n",
      "cal: -14.5723687, ref: -14.5723690\n",
      "\n",
      "\n"
     ]
    }
   ],
   "source": [
    "test2()"
   ]
  },
  {
   "cell_type": "markdown",
   "metadata": {},
   "source": [
    "### 11. Excise - Plot the charge density of orbitals\n",
    "Write a function based on the code of `run_hf()`, plot the charge density $4 \\pi r^2 |\\phi_i|^2$ of all the orbitals (final iteration).\n",
    "\n",
    "For example, Beryllium:\n",
    "Note: You only need to plot the final one (most bottom)  \n",
    "Hint see below.\n",
    "![](https://yyrcd-1256568788.cos.na-siliconvalley.myqcloud.com/yyrcd/2019-11-18-221449.png)"
   ]
  },
  {
   "cell_type": "markdown",
   "metadata": {
    "ExecuteTime": {
     "end_time": "2019-11-18T22:29:23.052587Z",
     "start_time": "2019-11-18T22:29:23.048102Z"
    }
   },
   "source": [
    "Hint: convert a sympy expression to python function by using [sp.lambdify()](https://docs.sympy.org/latest/modules/numeric-computation.html#lambdify)  \n",
    "For example, to plot $\\chi_1$, which is the 1st wavefunction of Beryllium Basis set."
   ]
  },
  {
   "cell_type": "code",
   "execution_count": 88,
   "metadata": {
    "ExecuteTime": {
     "end_time": "2019-11-18T22:33:27.002531Z",
     "start_time": "2019-11-18T22:33:26.952113Z"
    }
   },
   "outputs": [
    {
     "data": {
      "image/png": "[encoded data removed]",
      "text/latex": [
       "$\\displaystyle \\frac{13.2203684670961 e^{- 5.59108 r}}{\\sqrt{\\pi}}$"
      ],
      "text/plain": [
       "                  -5.59108⋅r\n",
       "13.2203684670961⋅ℯ          \n",
       "────────────────────────────\n",
       "             √π             "
      ]
     },
     "metadata": {},
     "output_type": "display_data"
    }
   ],
   "source": [
    "f1s_1 = STO(zeta=5.59108, n=1)\n",
    "display(f1s_1)\n",
    "f = sp.lambdify(r, f1s_1, \"numpy\")"
   ]
  },
  {
   "cell_type": "code",
   "execution_count": 95,
   "metadata": {
    "ExecuteTime": {
     "end_time": "2019-11-18T22:35:40.036531Z",
     "start_time": "2019-11-18T22:35:39.880792Z"
    }
   },
   "outputs": [
    {
     "data": {
      "image/png": "[encoded data removed]",
      "text/plain": [
       "<Figure size 1152x144 with 1 Axes>"
      ]
     },
     "metadata": {
      "needs_background": "light"
     },
     "output_type": "display_data"
    }
   ],
   "source": [
    "x = np.linspace(0, 5, 300)\n",
    "y = f(x)\n",
    "plt.figure(figsize=(16,2))\n",
    "plt.plot(x, y, label='$\\chi_{}$'.format(1))\n",
    "plt.legend()\n",
    "plt.xlim(0, x[-1])\n",
    "plt.xlabel('r')\n",
    "plt.ylabel('$\\chi_1$')\n",
    "plt.title('Wavefunction of $\\chi_1$')\n",
    "plt.show()"
   ]
  },
  {
   "cell_type": "markdown",
   "metadata": {},
   "source": [
    "<font color=red>Code below is example solution</font>"
   ]
  },
  {
   "cell_type": "code",
   "execution_count": 75,
   "metadata": {
    "ExecuteTime": {
     "end_time": "2019-11-18T22:19:08.517819Z",
     "start_time": "2019-11-18T22:19:08.503756Z"
    }
   },
   "outputs": [],
   "source": [
    "def run_hf(bfs, Z):\n",
    "    \"\"\"\n",
    "    Run restricted hartree fock for a single atom.\n",
    "\n",
    "    INPUT:\n",
    "        bfs: basis functions\n",
    "        Z: nuclear charge of the atom\n",
    "    \"\"\"\n",
    "    print('------------------------------', \"Initialization\", '------------------------------')\n",
    "    print('-------------------------', \"Ignore repulsion integral\", '------------------------')\n",
    "    N = Z  # num of electron = nuclear charege (since it's atom)\n",
    "    start = time.time()\n",
    "\n",
    "    # initialization\n",
    "    H = H_matrix(bfs, Z)\n",
    "    S = S_matrix(bfs)\n",
    "    e, Co = secular_eqn(H, S)\n",
    "    P = P_matrix(Co, N)\n",
    "    Vnn = 0  # A single atom does not have nuclear repulsion\n",
    "    hf_e = energy_tot(e, N, P, H, Vnn)\n",
    "\n",
    "    stop = time.time()\n",
    "    print_info(S, H, e, Co, P, hf_e, start, stop, verbose=verbose)\n",
    "    print('-----------', \"Caculating Electron Repulsion Integral (takes time)\", '------------')\n",
    "    R = R_matrix(bfs)\n",
    "    delta_e = 1\n",
    "    ITER = 0\n",
    "    previous_e = hf_e\n",
    "\n",
    "    densities = [] # [[d1, d2], [d1, d2], [d1, d2]]\n",
    "    # plot \n",
    "    x = np.linspace(0, 5, 300)\n",
    "    tmp_density = get_density(bfs, Co, x)\n",
    "    densities.append(tmp_density)\n",
    "\n",
    "    # Iterations\n",
    "    while(delta_e > E_conv and ITER < MAXITER):\n",
    "        print('------------------------------', \"Iteration\", ITER + 1, '------------------------------')\n",
    "        start = time.time()\n",
    "\n",
    "        # important scf steps\n",
    "        G = G_matrix(P, R)\n",
    "        F = H + G\n",
    "        e, Co = secular_eqn(F, S)\n",
    "        P = P_matrix(Co, N)\n",
    "        hf_e = energy_tot(e, N, P, H, Vnn)\n",
    "\n",
    "        delta_e = np.abs(hf_e - previous_e)\n",
    "        previous_e = hf_e\n",
    "        ITER += 1\n",
    "        stop = time.time()\n",
    "        print_info(S, H, e, Co, P, hf_e, start, stop, delta_e, verbose=verbose)\n",
    "\n",
    "        # plot\n",
    "        tmp_density = get_density(bfs, Co, x)\n",
    "        densities.append(tmp_density)\n",
    "\n",
    "    plot_density(densities, x)\n",
    "\n",
    "\n",
    "    return hf_e"
   ]
  },
  {
   "cell_type": "code",
   "execution_count": 55,
   "metadata": {
    "ExecuteTime": {
     "end_time": "2019-11-18T22:01:15.924387Z",
     "start_time": "2019-11-18T22:01:15.918349Z"
    }
   },
   "outputs": [],
   "source": [
    "def get_density(bfs, Co, x):\n",
    "    r = sp.Symbol('r')\n",
    "    density = []\n",
    "    \n",
    "    # all orbitals\n",
    "    for i in range(Co.shape[0]):\n",
    "        tmp_orbital = 0\n",
    "        # all basis functions\n",
    "        for j, f in enumerate(bfs):\n",
    "            tmp_orbital += Co[j][i] * bfs[j]\n",
    "        tmp_d_function = tmp_orbital * tmp_orbital * r * r * 4 * np.pi\n",
    "        tmp_f = sp.lambdify(r, tmp_d_function, \"numpy\")\n",
    "        tmp_d = tmp_f(x)\n",
    "        density.append(tmp_d)\n",
    "    return density"
   ]
  },
  {
   "cell_type": "code",
   "execution_count": 71,
   "metadata": {
    "ExecuteTime": {
     "end_time": "2019-11-18T22:10:54.844928Z",
     "start_time": "2019-11-18T22:10:54.833778Z"
    }
   },
   "outputs": [],
   "source": [
    "def plot_density(densities, x):\n",
    "    num_orbitals = len(densities[0])\n",
    "    num_iterations = len(densities)\n",
    "\n",
    "    for i in range(num_orbitals):\n",
    "        plt.figure(figsize=(16,2))\n",
    "        for j, d in enumerate(densities):\n",
    "            if j == 0 or j == (num_iterations - 1):\n",
    "                plt.plot(x, d[i], label='iteration {}'.format(j+1))\n",
    "            else:\n",
    "                plt.plot(x, d[i])\n",
    "        plt.legend()\n",
    "        plt.xlim(0, x[-1])\n",
    "        plt.xlabel('r')\n",
    "        plt.ylabel('$4 \\pi r^2 |\\phi_{}|^2$'.format(i+1))\n",
    "        plt.title('charge density of $\\phi_{}$'.format(i+1))\n",
    "        plt.show()\n",
    "    \n",
    "    plt.figure(figsize=(16,2))\n",
    "    for i, d in enumerate(densities[-1]):\n",
    "        plt.plot(x, d, label='$\\phi_{}$'.format(i+1))\n",
    "    plt.legend()\n",
    "    plt.xlim(0, x[-1])\n",
    "    plt.xlabel('r')\n",
    "    plt.ylabel('$4 \\pi r^2 |\\phi_i|^2$')\n",
    "    plt.title('charge density of all orbitals $\\phi_i$ (final iteration)')\n",
    "    plt.show()"
   ]
  },
  {
   "cell_type": "code",
   "execution_count": 73,
   "metadata": {
    "ExecuteTime": {
     "end_time": "2019-11-18T22:10:59.934397Z",
     "start_time": "2019-11-18T22:10:56.168713Z"
    },
    "scrolled": false
   },
   "outputs": [
    {
     "name": "stdout",
     "output_type": "stream",
     "text": [
      "------------------------------ Initialization ------------------------------\n",
      "------------------------- Ignore repulsion integral ------------------------\n",
      "HF energy: -3.95924 (hartree) = -107.73486 (eV)\n",
      "time used: 0.2 s\n",
      "----------- Caculating Electron Repulsion Integral (takes time) ------------\n",
      "time Repu: 2.7 s\n",
      "------------------------------ Iteration 1 ------------------------------\n",
      "HF energy: -2.78457 (hartree) = -75.77099 (eV)\n",
      "dE       : 1.17e+00\n",
      "time used: 0.0 s\n",
      "------------------------------ Iteration 2 ------------------------------\n",
      "HF energy: -2.85860 (hartree) = -77.78532 (eV)\n",
      "dE       : 7.40e-02\n",
      "time used: 0.0 s\n",
      "------------------------------ Iteration 3 ------------------------------\n",
      "HF energy: -2.86152 (hartree) = -77.86490 (eV)\n",
      "dE       : 2.92e-03\n",
      "time used: 0.0 s\n",
      "------------------------------ Iteration 4 ------------------------------\n",
      "HF energy: -2.86167 (hartree) = -77.86877 (eV)\n",
      "dE       : 1.42e-04\n",
      "time used: 0.0 s\n",
      "------------------------------ Iteration 5 ------------------------------\n",
      "HF energy: -2.86167 (hartree) = -77.86896 (eV)\n",
      "dE       : 7.01e-06\n",
      "time used: 0.0 s\n",
      "------------------------------ Iteration 6 ------------------------------\n",
      "HF energy: -2.86167 (hartree) = -77.86897 (eV)\n",
      "dE       : 3.45e-07\n",
      "time used: 0.0 s\n"
     ]
    },
    {
     "data": {
      "image/png": "[encoded data removed]",
      "text/plain": [
       "<Figure size 1152x144 with 1 Axes>"
      ]
     },
     "metadata": {
      "needs_background": "light"
     },
     "output_type": "display_data"
    },
    {
     "data": {
      "image/png": "[encoded data removed]",
      "text/plain": [
       "<Figure size 1152x144 with 1 Axes>"
      ]
     },
     "metadata": {
      "needs_background": "light"
     },
     "output_type": "display_data"
    },
    {
     "data": {
      "image/png": "[encoded data removed]",
      "text/plain": [
       "<Figure size 1152x144 with 1 Axes>"
      ]
     },
     "metadata": {
      "needs_background": "light"
     },
     "output_type": "display_data"
    },
    {
     "name": "stdout",
     "output_type": "stream",
     "text": [
      "-------------------------------- \u001b[32mPASSED\u001b[0m ---------------------------------\n",
      "cal: -2.8616726, ref: -2.8616726\n",
      "\n",
      "\n"
     ]
    }
   ],
   "source": [
    "test1()"
   ]
  },
  {
   "cell_type": "code",
   "execution_count": 74,
   "metadata": {
    "ExecuteTime": {
     "end_time": "2019-11-18T22:12:17.757743Z",
     "start_time": "2019-11-18T22:11:22.213856Z"
    },
    "scrolled": false
   },
   "outputs": [
    {
     "name": "stdout",
     "output_type": "stream",
     "text": [
      "------------------------------ Initialization ------------------------------\n",
      "------------------------- Ignore repulsion integral ------------------------\n",
      "HF energy: -19.51846 (hartree) = -531.11686 (eV)\n",
      "time used: 0.7 s\n",
      "----------- Caculating Electron Repulsion Integral (takes time) ------------\n",
      "time Repu: 52.7 s\n",
      "------------------------------ Iteration 1 ------------------------------\n",
      "HF energy: -14.28744 (hartree) = -388.77544 (eV)\n",
      "dE       : 5.23e+00\n",
      "time used: 0.0 s\n",
      "------------------------------ Iteration 2 ------------------------------\n",
      "HF energy: -14.50425 (hartree) = -394.67518 (eV)\n",
      "dE       : 2.17e-01\n",
      "time used: 0.0 s\n",
      "------------------------------ Iteration 3 ------------------------------\n",
      "HF energy: -14.55105 (hartree) = -395.94867 (eV)\n",
      "dE       : 4.68e-02\n",
      "time used: 0.0 s\n",
      "------------------------------ Iteration 4 ------------------------------\n",
      "HF energy: -14.56616 (hartree) = -396.35976 (eV)\n",
      "dE       : 1.51e-02\n",
      "time used: 0.0 s\n",
      "------------------------------ Iteration 5 ------------------------------\n",
      "HF energy: -14.57061 (hartree) = -396.48075 (eV)\n",
      "dE       : 4.45e-03\n",
      "time used: 0.0 s\n",
      "------------------------------ Iteration 6 ------------------------------\n",
      "HF energy: -14.57187 (hartree) = -396.51521 (eV)\n",
      "dE       : 1.27e-03\n",
      "time used: 0.0 s\n",
      "------------------------------ Iteration 7 ------------------------------\n",
      "HF energy: -14.57223 (hartree) = -396.52493 (eV)\n",
      "dE       : 3.57e-04\n",
      "time used: 0.0 s\n",
      "------------------------------ Iteration 8 ------------------------------\n",
      "HF energy: -14.57233 (hartree) = -396.52766 (eV)\n",
      "dE       : 1.01e-04\n",
      "time used: 0.0 s\n",
      "------------------------------ Iteration 9 ------------------------------\n",
      "HF energy: -14.57236 (hartree) = -396.52843 (eV)\n",
      "dE       : 2.83e-05\n",
      "time used: 0.0 s\n",
      "------------------------------ Iteration 10 ------------------------------\n",
      "HF energy: -14.57237 (hartree) = -396.52865 (eV)\n",
      "dE       : 7.94e-06\n",
      "time used: 0.0 s\n",
      "------------------------------ Iteration 11 ------------------------------\n",
      "HF energy: -14.57237 (hartree) = -396.52871 (eV)\n",
      "dE       : 2.23e-06\n",
      "time used: 0.0 s\n",
      "------------------------------ Iteration 12 ------------------------------\n",
      "HF energy: -14.57237 (hartree) = -396.52872 (eV)\n",
      "dE       : 6.27e-07\n",
      "time used: 0.0 s\n"
     ]
    },
    {
     "data": {
      "image/png": "[encoded data removed]",
      "text/plain": [
       "<Figure size 1152x144 with 1 Axes>"
      ]
     },
     "metadata": {
      "needs_background": "light"
     },
     "output_type": "display_data"
    },
    {
     "data": {
      "image/png": "[encoded data removed]",
      "text/plain": [
       "<Figure size 1152x144 with 1 Axes>"
      ]
     },
     "metadata": {
      "needs_background": "light"
     },
     "output_type": "display_data"
    },
    {
     "data": {
      "image/png": "[encoded data removed]",
      "text/plain": [
       "<Figure size 1152x144 with 1 Axes>"
      ]
     },
     "metadata": {
      "needs_background": "light"
     },
     "output_type": "display_data"
    },
    {
     "data": {
      "image/png": "[encoded data removed]",
      "text/plain": [
       "<Figure size 1152x144 with 1 Axes>"
      ]
     },
     "metadata": {
      "needs_background": "light"
     },
     "output_type": "display_data"
    },
    {
     "data": {
      "image/png": "[encoded data removed]",
      "text/plain": [
       "<Figure size 1152x144 with 1 Axes>"
      ]
     },
     "metadata": {
      "needs_background": "light"
     },
     "output_type": "display_data"
    },
    {
     "name": "stdout",
     "output_type": "stream",
     "text": [
      "-------------------------------- \u001b[32mPASSED\u001b[0m ---------------------------------\n",
      "cal: -14.5723687, ref: -14.5723690\n",
      "\n",
      "\n"
     ]
    }
   ],
   "source": [
    "test2()"
   ]
  },
  {
   "cell_type": "markdown",
   "metadata": {
    "ExecuteTime": {
     "end_time": "2019-11-18T19:57:17.522866Z",
     "start_time": "2019-11-18T19:57:17.516024Z"
    }
   },
   "source": [
    "### 12. Limitations\n",
    "Limitations of this implementation:  \n",
    "1. Because of the coordinate system (Spherical coordinate system), this implementation can only deal with atom.\n",
    "1. Because angular part is not included in current STO function, only atoms which only have s orbital could be represented by STO.\n",
    "1. For restricted hartree fock, could only run closed shell atom.\n",
    "1. Integral calculated by sympy, which is slow but easy to understand.\n"
   ]
  },
  {
   "cell_type": "markdown",
   "metadata": {},
   "source": [
    "### 13. Reference\n",
    "[1] Levine, Quantum Chemistry, 7th Edition, chapter 14  \n",
    "[2] Wikipedia\n",
    "[Hartree–Fock method](https://en.wikipedia.org/wiki/Hartree%E2%80%93Fock_method#Hartree%E2%80%93Fock_algorithm), \n",
    "[Fock matrix](https://en.wikipedia.org/wiki/Fock_matrix), \n",
    "[Roothaan equations](https://en.wikipedia.org/wiki/Roothaan_equations), \n",
    "[Coulomb operator](https://en.wikipedia.org/wiki/Coulomb_operator), \n",
    "[Exchange operator](https://en.wikipedia.org/wiki/Exchange_operator)  \n",
    "[3] Clementi, Enrico, and Carla Roetti. [Roothaan-Hartree-Fock atomic wavefunctions: Basis functions and their coefficients for ground and certain excited states of neutral and ionized atoms, Z≤ 54.](https://www.sciencedirect.com/science/article/pii/S0092640X74800161) Atomic data and nuclear data tables 14.3-4 (1974): 177-478.  \n",
    "[4] Acosta C R. [Restricted closed shell Hartree Fock Roothaan matrix method applied to Helium atom using Mathematica[J].](https://files.eric.ed.gov/fulltext/EJ1051495.pdf) European Journal of Physics Education, 2017, 5(1): 1-14.  \n",
    "[5] Jacob Martin, [Simple Quantum Chemistry: Hartree-Fock in Python](http://nznano.blogspot.com/2018/03/simple-quantum-chemistry-hartree-fock.html), 2018  \n",
    "[6] Claire Vallance, [Calculating Orbital Energies and Expansion Coefficients](https://chem.libretexts.org/Bookshelves/Physical_and_Theoretical_Chemistry_Textbook_Maps/Book%3A_Symmetry_(Vallance)/20%3A_Calculating_Orbital_Energies_and_Expansion_Coefficients), 2019"
   ]
  }
 ],
 "metadata": {
  "kernelspec": {
   "display_name": "Python 3",
   "language": "python",
   "name": "python3"
  },
  "language_info": {
   "codemirror_mode": {
    "name": "ipython",
    "version": 3
   },
   "file_extension": ".py",
   "mimetype": "text/x-python",
   "name": "python",
   "nbconvert_exporter": "python",
   "pygments_lexer": "ipython3",
   "version": "3.6.10"
  }
 },
 "nbformat": 4,
 "nbformat_minor": 2
}
