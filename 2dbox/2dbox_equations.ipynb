{
 "cells": [
  {
   "cell_type": "markdown",
   "metadata": {},
   "source": [
    "$$\n",
    "\\text{Energy:} \\quad\n",
    "E_{n_x, n_y}=E_{n_x}+E_{n_y}=\\frac{h^{2}}{8 m_{p}} \\frac{n_x^{2}}{L_{x}^{2}}+\\frac{h^{2}}{8 m} \\frac{n_y^{2}}{L_{y}^{2}}=\\frac{h^{2}}{8 m}\\left(\\frac{n_x^{2}}{L_{x}^{2}}+\\frac{n_y^{2}}{L_{y}^{2}}\\right)\n",
    "$$"
   ]
  },
  {
   "cell_type": "markdown",
   "metadata": {},
   "source": [
    "$$\n",
    "\\text{Wavefunction:} \\quad\n",
    "\\Psi_{n_x, n_y}(x, y)=\\psi_{n_x}(x) \\psi_{n_y}(y)=\\frac{2}{\\sqrt{L_{x} L_{y}}} \\sin \\left(\\frac{n_x \\pi}{L_{x}} x\\right) \\sin \\left(\\frac{n_y \\pi}{L_{y}} y\\right)\n",
    "$$"
   ]
  },
  {
   "cell_type": "markdown",
   "metadata": {},
   "source": [
    "$$\n",
    "\\text{Probability Density:} \\quad\n",
    "P_{n_{x}, n_{y}}(x, y)=\\left|\\psi_{n_{x}, n_{y}}(x, y)\\right|^{2}\n",
    "$$"
   ]
  },
  {
   "cell_type": "markdown",
   "metadata": {},
   "source": [
    "$\n",
    "\\large\n",
    "\\text{Energy:} \\quad\n",
    "E_{n_x, n_y}=\\frac{h^{2}}{8 m}\\left(\\frac{n_x^{2}}{L_{x}^{2}}+\\frac{n_y^{2}}{L_{y}^{2}}\\right)\n",
    "$\n",
    "<br>\n",
    "<br>\n",
    "\n",
    "$\n",
    "\\large\n",
    "\\text{Wavefunction:} \\quad\n",
    "\\Psi_{n_x, n_y}(x, y)=\\frac{2}{\\sqrt{L_{x} L_{y}}} \\sin \\left(\\frac{n_x \\pi}{L_{x}} x\\right) \\sin \\left(\\frac{n_y \\pi}{L_{y}} y\\right)\n",
    "$\n",
    "<br>\n",
    "<br>\n",
    "\n",
    "$\n",
    "\\large\n",
    "\\text{Probability Density:} \\quad\n",
    "P_{n_{x}, n_{y}}(x, y)=\\left|\\psi_{n_{x}, n_{y}}(x, y)\\right|^{2}\n",
    "$"
   ]
  }
 ],
 "metadata": {
  "kernelspec": {
   "display_name": "Python 3",
   "language": "python",
   "name": "python3"
  },
  "language_info": {
   "codemirror_mode": {
    "name": "ipython",
    "version": 3
   },
   "file_extension": ".py",
   "mimetype": "text/x-python",
   "name": "python",
   "nbconvert_exporter": "python",
   "pygments_lexer": "ipython3",
   "version": "3.7.4"
  }
 },
 "nbformat": 4,
 "nbformat_minor": 2
}
