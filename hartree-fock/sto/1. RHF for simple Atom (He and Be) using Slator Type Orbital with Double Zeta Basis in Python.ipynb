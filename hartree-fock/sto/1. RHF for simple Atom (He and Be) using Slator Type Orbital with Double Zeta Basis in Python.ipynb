{
 "cells": [
  {
   "cell_type": "markdown",
   "metadata": {},
   "source": [
    "<h2 style=\"margin-bottom:0px;\"><center>1. RHF for simple Atom (He and Be) using <u>Slator Type Orbital</u> <br> <br>\n",
    "    with <u> Double Zeta Basis</u> in Python</center></h2>\n",
    "<center>Integral calculated by sympy automatically</center>\n",
    "\n",
    "It will be better to understand if you have read <u>Levine, Quantum Chemistry, 7th Edition, chapter 14</u>.  \n",
    "There is an example calculation of Helium atom at page 412-414."
   ]
  },
  {
   "cell_type": "markdown",
   "metadata": {},
   "source": [
    "### 0. Introduction\n",
    "In this tutorial, we will use Helium Atom as an example to explain Hartree Fock method.  \n",
    "Helium has two electrons, which are in 1s orbital.  \n",
    "\n",
    "Wavefunction of 1s orbital could be written as $^*$\n",
    "$$\\chi_{1 \\mathrm{s}}^{\\mathrm{STO}}=\\left(\\frac{\\zeta^{3}}{\\pi}\\right)^{1 / 2} \\exp (-\\zeta r)$$\n",
    "<p style=\"text-align: center; font-size: 13px; font-family: times\">\n",
    "    <span style=\"font-weight: bold;\"> [*] </span> \n",
    "    For simplicity, there is no angular part since it's s orbital.\n",
    "    <br>\n",
    "<p>\n",
    "With double zeta, we are saying we will use two STO to discribe 1s orbital. And the final 1s orbital of Helium will be a linear combination of these two STO.  $$\\phi_1 = c_{11} \\chi_1 + c_{21} \\chi_2  \\quad \\text{(occupied orbital)}\\;\\; \\tag {Eq1}$$ $$\\phi_2 = c_{12} \\chi_1 + c_{22} \\chi_2 \\quad \\text{(unoccupied orbital)}$$\n",
    "\n",
    "<p style=\"color:red\"><b>The goal of hartree fock is to using Self-Consistent Field method (SCF) to optimize coefficients to get close to the real wavefunction of 1s orbital.</b></p>\n",
    "\n",
    "For Helium, from reference, two double zeta are 1.45363, 2.91093.   \n",
    "We could build these two STO with each zeta using hf.STO like below."
   ]
  },
  {
   "cell_type": "code",
   "execution_count": 45,
   "metadata": {
    "ExecuteTime": {
     "end_time": "2019-11-15T04:12:26.657205Z",
     "start_time": "2019-11-15T04:12:26.470508Z"
    },
    "scrolled": true
   },
   "outputs": [
    {
     "data": {
      "text/latex": [
       "$\\displaystyle \\chi_1 :$"
      ],
      "text/plain": [
       "<IPython.core.display.Math object>"
      ]
     },
     "metadata": {},
     "output_type": "display_data"
    },
    {
     "data": {
      "image/png": "[encoded data removed]",
      "text/latex": [
       "$\\displaystyle \\frac{1.7525919640199 e^{- 1.45363 r}}{\\sqrt{\\pi}}$"
      ],
      "text/plain": [
       "                 -1.45363⋅r\n",
       "1.7525919640199⋅ℯ          \n",
       "───────────────────────────\n",
       "             √π            "
      ]
     },
     "metadata": {},
     "output_type": "display_data"
    },
    {
     "data": {
      "text/latex": [
       "$\\displaystyle \\chi_2 :$"
      ],
      "text/plain": [
       "<IPython.core.display.Math object>"
      ]
     },
     "metadata": {},
     "output_type": "display_data"
    },
    {
     "data": {
      "image/png": "[encoded data removed]",
      "text/latex": [
       "$\\displaystyle \\frac{4.96646801564063 e^{- 2.91093 r}}{\\sqrt{\\pi}}$"
      ],
      "text/plain": [
       "                  -2.91093⋅r\n",
       "4.96646801564063⋅ℯ          \n",
       "────────────────────────────\n",
       "             √π             "
      ]
     },
     "metadata": {},
     "output_type": "display_data"
    }
   ],
   "source": [
    "import hf\n",
    "import sympy as sp\n",
    "import scipy.linalg\n",
    "from IPython.display import Math\n",
    "sp.init_printing()\n",
    "\n",
    "f1s_1 = hf.STO(zeta=1.45363, n=1)\n",
    "f1s_2 = hf.STO(zeta=2.91093, n=1)\n",
    "\n",
    "display(Math('$\\chi_1 :'))\n",
    "display(f1s_1)\n",
    "display(Math('$\\chi_2 :'))\n",
    "display(f1s_2)"
   ]
  },
  {
   "cell_type": "markdown",
   "metadata": {},
   "source": [
    "By using Roothan equations below , which could be solved self-consistently for the orbital coefficient matrix **C** and orbital energy eigenvalues $\\epsilon_i$, we could finally \n",
    "1. get close to the real wavefunction (using improved C for Eq1).\n",
    "2. get close to correct Molecular orbital energies (using $\\epsilon_i$), to get the real total energy\n",
    "\n",
    "$${\\mathbf  {F}}{\\mathbf  {C}}={\\mathbf  {S}}{\\mathbf  {C}}{\\mathbf  {\\epsilon }}$$\n",
    "<p style=\"text-align: center; font-size: 13px; font-family: times\">\n",
    "    <span style=\"font-weight: bold;\"> Note: </span> \n",
    "    F (Fock matrix), S (Overlap matrix) are inputs.<br>\n",
    "    S matrix is fixed, F matrix is changing every iteration because of the improved C.<br>\n",
    "    C (Coefficient matrix) and $\\epsilon_i$ (eigenvalues) are results.\n",
    "    <br>\n",
    "<p>"
   ]
  },
  {
   "cell_type": "markdown",
   "metadata": {},
   "source": [
    "### 1. Born–Oppenheimer approximation\n",
    "Using Born–Oppenheimer approximation, molecular Hamiltonian could be expressed as \n",
    "\n",
    "$${\\displaystyle H=H_{\\text{e}}+T_{\\text{n}}}$$\n",
    "<p style=\"text-align: center; font-size: 13px; font-family: times\">\n",
    "    <span style=\"font-weight: bold;\"> Note: </span> \n",
    "    e (electron), n (nuclear)\n",
    "    <br>\n",
    "<p>\n",
    "with\n",
    "\n",
    "$${\\displaystyle H_{\\text{e}}=-\\sum _{i}{{\\frac {1}{2}}\\nabla _{i}^{2}}-\\sum _{i,\\alpha}{\\frac {Z_{\\alpha}}{r_{i\\alpha}}}+\\sum _{i>j}{\\frac {1}{r_{ij}}}+\\sum _{\\beta>\\alpha}{\\frac {Z_{\\alpha}Z_{\\beta}}{R_{\\alpha \\beta}}}\\quad {\\text{and}}\\quad T_{\\text{n}}=-\\sum _{\\alpha}{{\\frac {1}{2M_{\\alpha}}}\\nabla _{\\alpha}^{2}}}$$\n",
    "<p style=\"text-align: center; font-size: 13px; font-family: times\">\n",
    "    <span style=\"font-weight: bold;\"> Note: </span> \n",
    "    i, j (electron), $\\alpha$, $\\beta$ (nuclear)\n",
    "    <br>\n",
    "<p>"
   ]
  },
  {
   "cell_type": "markdown",
   "metadata": {},
   "source": [
    "$H_e$:   \n",
    "1. sum of kinetic-energy operators for each electron\n",
    "2. sum of nuclear–electronic Coulombic attraction terms\n",
    "3. sum of electron-electron repulsion energy\n",
    "4. sum of nuclear-nuclear repulsion energy ($V_{NN}$)\n",
    "\n",
    "$T_n$: \n",
    "1. sum of kinetic-energy operators for each nuclear"
   ]
  },
  {
   "cell_type": "markdown",
   "metadata": {},
   "source": [
    "Classically, during the time of a cycle of electronic motion, the change in nuclear configuration is negligible. Thus, considering the nuclei as fixed, we omit the nuclear kinetic-energy terms $T_n$. So commonly when we say hartree fock energy, we are only talking about $H_e$ term.\n",
    "\n",
    "$${\\displaystyle H_{\\text{e}}=-\\sum _{i}{{\\frac {1}{2}}\\nabla _{i}^{2}}-\\sum _{i,\\alpha}{\\frac {Z_{\\alpha}}{r_{i\\alpha}}}+\\sum_{i} \\sum_{j>i}{\\frac {1}{r_{ij}}} + V_{NN}}$$\n",
    "\n",
    "The first 3 terms together is purely electronic Hamiltonian. "
   ]
  },
  {
   "cell_type": "markdown",
   "metadata": {},
   "source": [
    "### 2. Hartree fock approximation\n",
    "![](https://yyrcd-1256568788.cos.na-siliconvalley.myqcloud.com/yyrcd/2019-11-07-162144.png)"
   ]
  },
  {
   "cell_type": "markdown",
   "metadata": {
    "ExecuteTime": {
     "end_time": "2019-11-15T04:17:03.300141Z",
     "start_time": "2019-11-15T04:17:03.291154Z"
    }
   },
   "source": [
    "### 3. Fock Operator\n",
    "Because the electron–electron repulsion term of the molecular Hamiltonian involves the coordinates of two different electrons, it is necessary to reformulate it in an approximate way. Under this approximation (outlined under Hartree–Fock algorithm), all of the terms obove except the $V_{NN}$ term are re-expressed as the sum of one-electron operators outlined below, for closed-shell atoms or molecules (with two electrons in each spatial orbital).[12] The \"(1)\" following each operator symbol simply indicates that the operator is 1-electron in nature.\n",
    "\n",
    "$${\\displaystyle H_{\\text{e}}=\\sum _{i}{\\hat{F}_i} -\\sum_{i} \\sum_{j>i} (2 J_{i j}-K_{ij}) + V_{NN}}$$"
   ]
  },
  {
   "cell_type": "markdown",
   "metadata": {},
   "source": [
    "\n",
    "The first and second term together is commonly called one-electron core Hamiltonian, which is \n",
    "$$\n",
    "\\hat{H}^{\\mathrm{core}}_i \\equiv-\\frac{1}{2} \\nabla_{i}^{2}-\\sum_{\\alpha} \\frac{Z_{\\alpha}}{r_{1 \\alpha}}\n",
    "$$\n",
    "\n",
    "So \n",
    "$${\\displaystyle H_{\\text{e}}=\\sum _{i}{\\hat{H}^{\\mathrm{core}}_i}+\\sum _{i>j}{\\frac {1}{r_{ij}}} + V_{NN}}$$\n",
    "Where, the first term (one-electron core Hamiltonian) only involve 1 electron, which is one-electron operator.  \n",
    "The second term involve 2 electron, which is two electron operator. \n"
   ]
  },
  {
   "cell_type": "markdown",
   "metadata": {},
   "source": [
    "And this is the most computation-expensive part in hartree fock method. "
   ]
  },
  {
   "cell_type": "markdown",
   "metadata": {},
   "source": [
    "$$\n",
    "\\hat{F}(1)=\\hat{H}^{\\mathrm{core}}(1)+\\sum_{j=1}^{n / 2}\\left[2 \\hat{J}_{j}(1)-\\hat{K}_{j}(1)\\right]\n",
    "$$\n",
    "$$\n",
    "\\hat{F}(1) \\phi_{i}(1)=\\varepsilon_{i} \\phi_{i}(1)\n",
    "$$\n"
   ]
  },
  {
   "cell_type": "markdown",
   "metadata": {},
   "source": [
    "---\n",
    "\n",
    "### 4. Secular equation\n",
    "Solving secular equation is actually calculating orbital energies and coefficients based on **variation principle**, which states that any approximate wavefunction must have a higher energy than the true wavefunction. \n",
    "(This part is from [Calculating Orbital Energies and Expansion Coefficients - Chemistry LibreTexts](https://chem.libretexts.org/Bookshelves/Physical_and_Theoretical_Chemistry_Textbook_Maps/Book%3A_Symmetry_(Vallance)/20%3A_Calculating_Orbital_Energies_and_Expansion_Coefficients) .)\n",
    "\n",
    "Let's ignore the coulomb and exchange operator in fock operator, what's left is one electron Hamiltonian core operator. So how to calculate eigenvalue of Hamiltonian core operator and it's corresponding wavefunction? \n",
    "(Fock operator could be used as the same way.)"
   ]
  },
  {
   "cell_type": "markdown",
   "metadata": {},
   "source": [
    "$$\n",
    "E=\\frac{\\langle\\phi|\\hat{H}| \\phi\\rangle}{\\langle\\phi | \\phi\\rangle}\n",
    "$$\n",
    "Where \n",
    "$$\\phi = c_{1} \\chi_1 + c_{2} \\chi_2 \\quad \\text{(unnormalized)} $$\n",
    "Plug in $\\phi$ and expand"
   ]
  },
  {
   "cell_type": "markdown",
   "metadata": {
    "ExecuteTime": {
     "end_time": "2019-11-14T21:21:40.403535Z",
     "start_time": "2019-11-14T21:21:40.345018Z"
    }
   },
   "source": [
    "$$\n",
    "\\begin{aligned} E &=\\frac{\\left\\langle c_{1} \\chi_{1}+c_{2} \\chi_{2}|\\hat{H}| c_{1} \\chi_{1}+c_{2} \\chi_{2}\\right\\rangle}{\\left\\langle c_{1} \\chi_{1}+c_{2} \\chi_{2} | c_{1} \\chi_{1}+c_{2} \\chi_{2}\\right\\rangle} \\\\ &=\\frac{\\left\\langle c_{1} \\chi_{1}|\\hat{H}| c_{1} \\chi_{1}\\right\\rangle+\\left\\langle c_{1} \\chi_{1}|\\hat{H}| c_{2} \\chi_{2}\\right\\rangle+\\left\\langle c_{2} \\chi_{2}|\\hat{H}| c_{1} \\chi_{1}\\right\\rangle+\\left\\langle c_{2} \\chi_{2}|\\hat{H}| c_{2} \\chi_{2}\\right\\rangle}{\\left\\langle c_{1} \\chi_{1}| c_{1}\\chi_{1}\\right\\rangle+\\left\\langle c_{1} \\chi_{1}| c_{2} \\chi_{2}\\right\\rangle+\\left\\langle c_{2} \\chi_{2} | c_{1} \\chi_{1}\\right\\rangle+\\left\\langle c_{2} \\chi_{2} | c_{2} \\chi_{2}\\right\\rangle} \\\\ &=\\frac{c_{1}^{2}\\left\\langle\\chi_{1}|\\hat{H}| \\chi_{1}\\right\\rangle+ c_{1} c_{2}\\left\\langle\\chi_{1}|\\hat{H}| \\chi_{2}\\right\\rangle+ c_{2} c_{1}\\left\\langle\\chi_{2}|\\hat{H}| \\chi_{1}\\right\\rangle+ c_{2}^{2}\\left\\langle\\chi_{2}|\\hat{H}| \\chi_{2}\\right\\rangle}{c_{1}^{2}\\left\\langle\\chi_{1} | \\chi_{1}\\right\\rangle+ c_{1} c_{2}\\left\\langle\\chi_{1} | \\chi_{2}\\right\\rangle+ c_{2} c_{1}\\left\\langle\\chi_{2} | \\chi_{1}\\right\\rangle+ c_{2}^{2}\\left\\langle  \\chi_{2}|\\chi_{2}\\right\\rangle} \\end{aligned}\n",
    "$$"
   ]
  },
  {
   "cell_type": "markdown",
   "metadata": {},
   "source": [
    "If define\n",
    "$$\n",
    "H_{i j}=\\left\\langle\\chi_{i}|\\hat{H}| \\chi_{j}\\right\\rangle\n",
    "\\quad and \\quad \n",
    "S_{i j}=\\left\\langle\\chi_{i} | \\chi_{j}\\right\\rangle \n",
    "\\tag {Eq 2}\n",
    "$$\n",
    "<p style=\"text-align: center; font-size: 13px; font-family: times\">\n",
    "    <span style=\"font-weight: bold; color:red\"> Note: This is where H matrix (same to Fock matrix) and S matrix comes from!!!</span> We will come back to these matrix at part 5.\n",
    "    <br>\n",
    "<p>\n",
    "and note that  $H_{ij}  =  H_{j}$  and  $S_{ij}  =  S_{ji}$ , "
   ]
  },
  {
   "cell_type": "markdown",
   "metadata": {},
   "source": [
    "$$\n",
    "E=\\frac{c_{1}^{2} H_{11}+2 c_{1} c_{2} H_{12}+c_{2}^{2} H_{22}}{c_{1}^{2} S_{11}+2 c_{1} c_{2} S_{12}+c_{2}^{2} S_{22}}\n",
    "$$\n",
    "\n",
    "\n",
    "$$\n",
    "E\\left(c_{1}^{2} S_{11}+2 c_{1} c_{2} S_{12}+c_{2}^{2} S_{22}\\right)=c_{1}^{2} H_{11}+2 c_{1} c_{2} H_{12}+c_{2}^{2} H_{22}\n",
    "$$"
   ]
  },
  {
   "cell_type": "markdown",
   "metadata": {},
   "source": [
    "To minimize the energy with respect to  c1  and  c2,  we require\n",
    "\n",
    "$$\n",
    "\\frac{\\partial E}{\\partial c_{1}}=0\n",
    "\\quad and \\quad\n",
    "\\frac{\\partial E}{\\partial c_{2}}=0\n",
    "$$\n",
    "\n",
    "If we differentiate the above equation through separately by  c1  and  c2  and apply this condition, we will end up with two equations in the two unknowns  c1  and  c2 , which we can solve to determine the coefficients and the energy."
   ]
  },
  {
   "cell_type": "markdown",
   "metadata": {},
   "source": [
    "$$\n",
    "\\begin{array}{l}{E\\left(2 c_{1} S_{11}+2 c_{2} S_{12}\\right)=2 c_{1} H_{11}+2 c_{2} H_{12}} \\\\ {E\\left(2 c_{1} S_{12}+2 c_{2} S_{22}\\right)=2 c_{1} H_{12}+2 c_{2} H_{22}}\\end{array}\n",
    "$$\n",
    "\n",
    "These are normally rewritten slightly, in the form\n",
    "$$\n",
    "\\begin{array}{l}{c_{1}\\left(H_{11}-E S_{11}\\right)+c_{2}\\left(H_{12}-E S_{12}\\right)=0} \\\\ {c_{1}\\left(H_{12}-E S_{12}\\right)+c_{2}\\left(H_{22}-E S_{22}\\right)=0}\\end{array} \\tag{Eq 3}\n",
    "$$\n",
    "Write this in matrix form gives\n",
    "$$\n",
    "\\left(\\begin{array}{cc}{H_{11}-E S_{11}} & {H_{12}-E S_{12}} \\\\ {H_{12}-E S_{12}} & {H_{22}-E S_{22}}\\end{array}\\right)\\left(\\begin{array}{c}{c_{1}} \\\\ {c_{2}}\\end{array}\\right)=\\left(\\begin{array}{l}{0} \\\\ {0}\\end{array}\\right)\n",
    "$$\n",
    "For the equations to have a solution, the determinant of the matrix must be equal to zero. Which means\n",
    "$$\n",
    "\\left(H_{11}-E\\right)\\left(H_{22}-E\\right)-\\left(H_{12}-E S_{12}\\right)^{2}=0\n",
    "$$\n",
    "Now, there is only one unkown variable E, solve the equation will commonly give us two E (eigenvalue).  \n",
    "And put this two E back to Eq3 will give us two set of (c1, c2), which corresponding to \n",
    "$$\\phi_1 = c_{11} \\chi_1 + c_{21} \\chi_2 \\quad (\\varepsilon_{1})$$\n",
    "$$\\phi_2 = c_{12} \\chi_1 + c_{22} \\chi_2 \\quad (\\varepsilon_{2})$$\n",
    "\n",
    "Thanks for powerful scipy, secular equation could be solved simply by calling  \n",
    "`eigenvalue, C = scipy.linalg.eigh(H, S)`"
   ]
  },
  {
   "cell_type": "code",
   "execution_count": 46,
   "metadata": {
    "ExecuteTime": {
     "end_time": "2019-11-15T04:12:57.196135Z",
     "start_time": "2019-11-15T04:12:57.042163Z"
    }
   },
   "outputs": [
    {
     "name": "stdout",
     "output_type": "stream",
     "text": [
      "[-1.97961968  1.0385938 ]\n",
      "[[-0.66167683  1.70635831]\n",
      " [-0.37818627 -1.79065632]]\n"
     ]
    }
   ],
   "source": [
    "fs = [f1s_1, f1s_2]\n",
    "# nuclear charge of Helium\n",
    "Z = 2\n",
    "# build H matrix\n",
    "H = hf.H_matrix(fs, Z)\n",
    "# build S matrix\n",
    "S = hf.S_matrix(fs)\n",
    "# solve secular equation\n",
    "e, C = scipy.linalg.eigh(H, S)\n",
    "\n",
    "print(e)\n",
    "print(Co)"
   ]
  },
  {
   "cell_type": "markdown",
   "metadata": {},
   "source": [
    "Let's test if whether the eigenvalue and coefficient satisfy Eq3. The result below $e^{-17}$ and $e^{-16}$ are so close to 0, there is no much difference with 0."
   ]
  },
  {
   "cell_type": "code",
   "execution_count": 47,
   "metadata": {
    "ExecuteTime": {
     "end_time": "2019-11-15T04:12:58.424913Z",
     "start_time": "2019-11-15T04:12:58.418264Z"
    }
   },
   "outputs": [
    {
     "name": "stdout",
     "output_type": "stream",
     "text": [
      "6.938893903907228e-17\n",
      "-8.881784197001252e-16\n"
     ]
    }
   ],
   "source": [
    "tmp1 = Co[0, 0] * (H[0, 0] - e[0] * S[0, 0]) + Co[1, 0] * (H[0, 1] - e[0] * S[0, 1])\n",
    "tmp2 = Co[0, 1] * (H[0, 1] - e[1] * S[0, 1]) + Co[1, 1] * (H[1, 1] - e[1] * S[1, 1])\n",
    "print(tmp1)\n",
    "print(tmp2)"
   ]
  },
  {
   "cell_type": "markdown",
   "metadata": {},
   "source": [
    "### 5. How to build matrix\n",
    "\n",
    "Back to Eq2\n",
    "$$\n",
    "H_{i j}=\\left\\langle\\chi_{i}|\\hat{H}| \\chi_{j}\\right\\rangle\n",
    "\\quad and \\quad \n",
    "S_{i j}=\\left\\langle\\chi_{i} | \\chi_{j}\\right\\rangle \n",
    "\\tag {Eq 2}\n",
    "$$\n",
    "<p style=\"text-align: center; font-size: 13px; font-family: times\">\n",
    "    <span style=\"font-weight: bold; color:red\"> Note: This is where H matrix (same to Fock matrix) and S matrix comes from!!!</span> We will come back to these matrix at part 5.\n",
    "    <br>\n",
    "<p>\n",
    "\n",
    "More....Show codes"
   ]
  },
  {
   "cell_type": "markdown",
   "metadata": {},
   "source": [
    "### 6. Total Energy\n",
    "Finally, hartree fock total energy is \n",
    "$$\n",
    "E_{\\mathrm{HF}}=2 \\sum_{i=1}^{n / 2} H_{i i}^{\\mathrm{core}}+\\sum_{i=1}^{n / 2} \\sum_{j=1}^{n / 2}\\left(2 J_{i j}-K_{i j}\\right)+V_{N N}\n",
    "$$\n",
    "$$\n",
    "\\sum_{i=1}^{n / 2} \\varepsilon_{i}=\\sum_{i=1}^{n / 2} H_{i i}^{\\mathrm{core}}+\\sum_{i=1}^{n / 2} \\sum_{j=1}^{n / 2}\\left(2 J_{i j}-K_{i j}\\right)\n",
    "$$\n",
    "\n",
    "$$\n",
    "E_{\\mathrm{HF}}=\\sum_{i=1}^{n / 2} \\varepsilon_{i}+\\sum_{i=1}^{n / 2} H_{i i}^{\\mathrm{core}}+V_{N N}\n",
    "$$ "
   ]
  },
  {
   "cell_type": "markdown",
   "metadata": {},
   "source": [
    "### 7. Iterations"
   ]
  }
 ],
 "metadata": {
  "kernelspec": {
   "display_name": "Python 3",
   "language": "python",
   "name": "python3"
  },
  "language_info": {
   "codemirror_mode": {
    "name": "ipython",
    "version": 3
   },
   "file_extension": ".py",
   "mimetype": "text/x-python",
   "name": "python",
   "nbconvert_exporter": "python",
   "pygments_lexer": "ipython3",
   "version": "3.7.4"
  }
 },
 "nbformat": 4,
 "nbformat_minor": 2
}
